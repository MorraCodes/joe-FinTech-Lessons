{
 "cells": [
  {
   "cell_type": "markdown",
   "id": "formed-faculty",
   "metadata": {},
   "source": [
    "# Lecture 5 & 6: Practice Loops + Dictionaries ."
   ]
  },
  {
   "cell_type": "markdown",
   "id": "identified-romance",
   "metadata": {},
   "source": [
    "#### Important note: The largest number in python is `float(\"inf\")` and the smallest number in python is `float(\"-inf\")`\n"
   ]
  },
  {
   "cell_type": "code",
   "execution_count": 3,
   "id": "double-azerbaijan",
   "metadata": {},
   "outputs": [
    {
     "data": {
      "text/plain": [
       "True"
      ]
     },
     "execution_count": 3,
     "metadata": {},
     "output_type": "execute_result"
    }
   ],
   "source": [
    "float(\"inf\") > 10000000000000000000000000000000000"
   ]
  },
  {
   "cell_type": "code",
   "execution_count": 2,
   "id": "composed-veteran",
   "metadata": {},
   "outputs": [
    {
     "data": {
      "text/plain": [
       "True"
      ]
     },
     "execution_count": 2,
     "metadata": {},
     "output_type": "execute_result"
    }
   ],
   "source": [
    "float(\"-inf\") < - 10000000000000000000000000000000000000000000"
   ]
  },
  {
   "cell_type": "markdown",
   "id": "greenhouse-amino",
   "metadata": {},
   "source": [
    "## Methods we will be using in this Notebook."
   ]
  },
  {
   "cell_type": "markdown",
   "id": "overhead-charity",
   "metadata": {},
   "source": [
    "### `.append()`   `.update()` `.values()` "
   ]
  },
  {
   "cell_type": "markdown",
   "id": "armed-operator",
   "metadata": {},
   "source": [
    "# Write a function that prints out all the numbers from 1 to 10 . write this function once using a for loop and another time using a while loop. [Student will solve this]"
   ]
  },
  {
   "cell_type": "code",
   "execution_count": 3,
   "id": "further-birthday",
   "metadata": {},
   "outputs": [],
   "source": [
    "#### Write your function here. ####\n",
    "\n",
    "def print_all():\n",
    "    i = 1\n",
    "    while i <= 10:\n",
    "        print(i)\n",
    "        i += 1\n",
    "        \n",
    "\n",
    "\n",
    "def print_all_for():\n",
    "    for i in range(1, 11):\n",
    "        print(i)\n",
    "\n",
    "\n",
    "\n",
    "\n",
    "\n",
    "\n",
    "\n",
    "\n",
    "\n",
    "\n",
    "\n",
    "\n"
   ]
  },
  {
   "cell_type": "code",
   "execution_count": 4,
   "id": "1af11a18",
   "metadata": {},
   "outputs": [
    {
     "name": "stdout",
     "output_type": "stream",
     "text": [
      "1\n",
      "2\n",
      "3\n",
      "4\n",
      "5\n",
      "6\n",
      "7\n",
      "8\n",
      "9\n",
      "10\n"
     ]
    }
   ],
   "source": [
    "print_all_for()"
   ]
  },
  {
   "cell_type": "code",
   "execution_count": 2,
   "id": "f3759e7d",
   "metadata": {},
   "outputs": [
    {
     "name": "stdout",
     "output_type": "stream",
     "text": [
      "1\n",
      "2\n",
      "3\n",
      "4\n",
      "5\n",
      "6\n",
      "7\n",
      "8\n",
      "9\n",
      "10\n"
     ]
    }
   ],
   "source": [
    "print_all()"
   ]
  },
  {
   "cell_type": "code",
   "execution_count": 150,
   "id": "obvious-friday",
   "metadata": {},
   "outputs": [],
   "source": [
    "# write the function call here.\n",
    "\n",
    "\n",
    "\n"
   ]
  },
  {
   "cell_type": "markdown",
   "id": "recovered-cabin",
   "metadata": {},
   "source": [
    "# Solution."
   ]
  },
  {
   "cell_type": "markdown",
   "id": "popular-picking",
   "metadata": {},
   "source": [
    "#### For loop."
   ]
  },
  {
   "cell_type": "code",
   "execution_count": 151,
   "id": "compressed-sheffield",
   "metadata": {},
   "outputs": [
    {
     "name": "stdout",
     "output_type": "stream",
     "text": [
      "1\n",
      "2\n",
      "3\n",
      "4\n",
      "5\n",
      "6\n",
      "7\n",
      "8\n",
      "9\n",
      "10\n"
     ]
    }
   ],
   "source": [
    "def print_all():\n",
    "    for i in range(1,11):\n",
    "        print(i)\n",
    "print_all()"
   ]
  },
  {
   "cell_type": "markdown",
   "id": "tutorial-diversity",
   "metadata": {},
   "source": [
    "#### WHILE loop"
   ]
  },
  {
   "cell_type": "code",
   "execution_count": 152,
   "id": "discrete-medline",
   "metadata": {},
   "outputs": [
    {
     "name": "stdout",
     "output_type": "stream",
     "text": [
      "1\n",
      "2\n",
      "3\n",
      "4\n",
      "5\n",
      "6\n",
      "7\n",
      "8\n",
      "9\n",
      "10\n"
     ]
    }
   ],
   "source": [
    "def print_all_while():\n",
    "    i = 1\n",
    "    while i < 11:\n",
    "        print(i)\n",
    "        i = i + 1\n",
    "        \n",
    "        \n",
    "        \n",
    "        \n",
    "print_all_while()"
   ]
  },
  {
   "cell_type": "code",
   "execution_count": 18,
   "id": "151ed4ab",
   "metadata": {},
   "outputs": [
    {
     "data": {
      "text/plain": [
       "[1, 2, 3, 4, 5, 6, 7, 8, 9]"
      ]
     },
     "execution_count": 18,
     "metadata": {},
     "output_type": "execute_result"
    }
   ],
   "source": [
    "add_10()"
   ]
  },
  {
   "cell_type": "markdown",
   "id": "conditional-civilian",
   "metadata": {},
   "source": [
    "# Write a function that prints out all the even numbers from 1 to 21. write this function once using a for loop and another time using a while loop. [Student will solve this]\n",
    "\n",
    "Hint use: %2 == 0"
   ]
  },
  {
   "cell_type": "code",
   "execution_count": 5,
   "id": "3c07b4cd",
   "metadata": {},
   "outputs": [],
   "source": [
    "def print_even():\n",
    "    i = 1\n",
    "    while i <= 21:\n",
    "        if i % 2 == 0:\n",
    "            print(i)\n",
    "        i += 1\n",
    "        \n",
    "def print_even_2():\n",
    "    for i in range(1, 22):\n",
    "        if i % 2 == 0:\n",
    "            print(i) \n",
    "    "
   ]
  },
  {
   "cell_type": "code",
   "execution_count": 6,
   "id": "4834d0f2",
   "metadata": {},
   "outputs": [
    {
     "name": "stdout",
     "output_type": "stream",
     "text": [
      "2\n",
      "4\n",
      "6\n",
      "8\n",
      "10\n",
      "12\n",
      "14\n",
      "16\n",
      "18\n",
      "20\n"
     ]
    }
   ],
   "source": [
    "print_even()"
   ]
  },
  {
   "cell_type": "code",
   "execution_count": null,
   "id": "a741f654",
   "metadata": {},
   "outputs": [],
   "source": []
  },
  {
   "cell_type": "code",
   "execution_count": null,
   "id": "6c3a3579",
   "metadata": {},
   "outputs": [],
   "source": []
  },
  {
   "cell_type": "code",
   "execution_count": 6,
   "id": "dc174b6a",
   "metadata": {},
   "outputs": [
    {
     "name": "stdout",
     "output_type": "stream",
     "text": [
      "1\n",
      "joe\n",
      "omar\n"
     ]
    }
   ],
   "source": [
    "fun()"
   ]
  },
  {
   "cell_type": "markdown",
   "id": "centered-thursday",
   "metadata": {},
   "source": [
    "# Solution"
   ]
  },
  {
   "cell_type": "code",
   "execution_count": 154,
   "id": "nonprofit-component",
   "metadata": {},
   "outputs": [
    {
     "name": "stdout",
     "output_type": "stream",
     "text": [
      "2\n",
      "4\n",
      "6\n",
      "8\n",
      "10\n",
      "12\n",
      "14\n",
      "16\n",
      "18\n",
      "20\n"
     ]
    }
   ],
   "source": [
    "def print_even():\n",
    "    for i in range(1,21):\n",
    "        if i%2 == 0:\n",
    "            print(i)\n",
    "            \n",
    "            \n",
    "            \n",
    "print_even()"
   ]
  },
  {
   "cell_type": "code",
   "execution_count": null,
   "id": "cathedral-arbitration",
   "metadata": {},
   "outputs": [],
   "source": []
  },
  {
   "cell_type": "markdown",
   "id": "introductory-hammer",
   "metadata": {},
   "source": [
    "#### WHILE loop"
   ]
  },
  {
   "cell_type": "code",
   "execution_count": 155,
   "id": "raising-jacob",
   "metadata": {},
   "outputs": [
    {
     "name": "stdout",
     "output_type": "stream",
     "text": [
      "2\n",
      "4\n",
      "6\n",
      "8\n",
      "10\n",
      "12\n",
      "14\n",
      "16\n",
      "18\n",
      "20\n"
     ]
    }
   ],
   "source": [
    "def print_even_while():\n",
    "    i = 1\n",
    "    while i < 21:\n",
    "        if i%2 == 0:\n",
    "            print(i)\n",
    "        i += 1\n",
    "            \n",
    "            \n",
    "print_even_while()"
   ]
  },
  {
   "cell_type": "markdown",
   "id": "detected-timber",
   "metadata": {},
   "source": [
    "# Write a function that `prints` out all the odd numbers from 1 to 20. Do this once in a for loop and once using a while loop."
   ]
  },
  {
   "cell_type": "code",
   "execution_count": 7,
   "id": "built-olympus",
   "metadata": {},
   "outputs": [],
   "source": [
    "def print_odd():\n",
    "    i = 1\n",
    "    while i <= 20:\n",
    "        if i % 2 != 0:\n",
    "            print(i)\n",
    "        i += 1"
   ]
  },
  {
   "cell_type": "code",
   "execution_count": 8,
   "id": "embedded-north",
   "metadata": {},
   "outputs": [
    {
     "name": "stdout",
     "output_type": "stream",
     "text": [
      "1\n",
      "3\n",
      "5\n",
      "7\n",
      "9\n",
      "11\n",
      "13\n",
      "15\n",
      "17\n",
      "19\n"
     ]
    }
   ],
   "source": [
    "# Solve here ##\n",
    "\n",
    "print_odd()\n",
    "\n",
    "\n",
    "\n",
    "\n",
    "\n",
    "\n",
    "\n",
    "\n",
    "\n",
    "\n",
    "\n",
    "\n",
    "\n",
    "\n",
    "\n",
    "\n"
   ]
  },
  {
   "cell_type": "code",
   "execution_count": null,
   "id": "square-marriage",
   "metadata": {},
   "outputs": [],
   "source": []
  },
  {
   "cell_type": "markdown",
   "id": "partial-visibility",
   "metadata": {},
   "source": [
    "# Solution"
   ]
  },
  {
   "cell_type": "code",
   "execution_count": 157,
   "id": "genuine-homeless",
   "metadata": {},
   "outputs": [],
   "source": [
    "def print_odd():\n",
    "    for i in range(1,21):\n",
    "        if i%2 != 0:\n",
    "            print(i)"
   ]
  },
  {
   "cell_type": "markdown",
   "id": "wrong-screen",
   "metadata": {},
   "source": [
    "#### WHILE loop"
   ]
  },
  {
   "cell_type": "code",
   "execution_count": 158,
   "id": "rational-activation",
   "metadata": {},
   "outputs": [
    {
     "name": "stdout",
     "output_type": "stream",
     "text": [
      "1\n",
      "3\n",
      "5\n",
      "7\n",
      "9\n",
      "11\n",
      "13\n",
      "15\n",
      "17\n",
      "19\n"
     ]
    }
   ],
   "source": [
    "def print_odd2():\n",
    "    i = 1\n",
    "    while i < 21:\n",
    "        if i%2 != 0:\n",
    "            print(i)\n",
    "        i += 1\n",
    "print_odd2()"
   ]
  },
  {
   "cell_type": "markdown",
   "id": "floating-filing",
   "metadata": {},
   "source": [
    "# Write a function that `return`s out all the even numbers from 1 to 15 in a list. write this once in a for loop and another using a while loop."
   ]
  },
  {
   "cell_type": "code",
   "execution_count": 9,
   "id": "constitutional-george",
   "metadata": {},
   "outputs": [],
   "source": [
    "#### Solve here ###\n",
    "\n",
    "def get_even():\n",
    "    even_list = [] # .append()\n",
    "    i = 1\n",
    "    while i <= 15:\n",
    "        if i % 2 == 0:\n",
    "            even_list.append(i)\n",
    "        i += 1\n",
    "    return even_list\n",
    "\n",
    "\n",
    "\n",
    "\n",
    "\n",
    "\n",
    "\n",
    "\n",
    "\n",
    "\n",
    "\n",
    "\n",
    "\n",
    "\n",
    "\n"
   ]
  },
  {
   "cell_type": "code",
   "execution_count": 11,
   "id": "immune-gravity",
   "metadata": {},
   "outputs": [],
   "source": [
    "even = get_even()"
   ]
  },
  {
   "cell_type": "code",
   "execution_count": 12,
   "id": "alone-riding",
   "metadata": {},
   "outputs": [
    {
     "data": {
      "text/plain": [
       "[2, 4, 6, 8, 10, 12, 14]"
      ]
     },
     "execution_count": 12,
     "metadata": {},
     "output_type": "execute_result"
    }
   ],
   "source": [
    "even"
   ]
  },
  {
   "cell_type": "markdown",
   "id": "latin-cricket",
   "metadata": {},
   "source": [
    "# Solution"
   ]
  },
  {
   "cell_type": "code",
   "execution_count": 160,
   "id": "better-shanghai",
   "metadata": {},
   "outputs": [
    {
     "data": {
      "text/plain": [
       "[2, 4, 6, 8, 10, 12, 14]"
      ]
     },
     "execution_count": 160,
     "metadata": {},
     "output_type": "execute_result"
    }
   ],
   "source": [
    "def return_even():\n",
    "    ans = []\n",
    "    for i in range(1,16):\n",
    "        if i%2 == 0:\n",
    "            ans.append(i)\n",
    "    return ans\n",
    "\n",
    "return_even()"
   ]
  },
  {
   "cell_type": "markdown",
   "id": "occasional-fitness",
   "metadata": {},
   "source": [
    "#### WHILE loop"
   ]
  },
  {
   "cell_type": "code",
   "execution_count": 161,
   "id": "subtle-aerospace",
   "metadata": {},
   "outputs": [
    {
     "data": {
      "text/plain": [
       "[2, 4, 6, 8, 10, 12, 14]"
      ]
     },
     "execution_count": 161,
     "metadata": {},
     "output_type": "execute_result"
    }
   ],
   "source": [
    "def return_even_while():\n",
    "    ans = []\n",
    "    i = 16\n",
    "    while i > 1:\n",
    "        if i%2 == 0:\n",
    "            ans.append(i)\n",
    "        i = i - 1\n",
    "    return ans\n",
    "\n",
    "return_even()"
   ]
  },
  {
   "cell_type": "markdown",
   "id": "great-child",
   "metadata": {},
   "source": [
    "# Write a function that `return`s out all the even numbers from   `25 to 5` in a list.\n",
    "\n",
    "Hint: notice that it is from 25 to 5 and NOT from 5 to 25"
   ]
  },
  {
   "cell_type": "code",
   "execution_count": 13,
   "id": "fd266474",
   "metadata": {},
   "outputs": [],
   "source": [
    "def return_even():\n",
    "    i = 25\n",
    "    even_list = []\n",
    "    while i >= 5:\n",
    "        if i % 2 == 0:\n",
    "            even_list.append(i)\n",
    "        i = i - 1\n",
    "    return even_list\n",
    "            "
   ]
  },
  {
   "cell_type": "code",
   "execution_count": 14,
   "id": "bc43718b",
   "metadata": {},
   "outputs": [
    {
     "data": {
      "text/plain": [
       "[24, 22, 20, 18, 16, 14, 12, 10, 8, 6]"
      ]
     },
     "execution_count": 14,
     "metadata": {},
     "output_type": "execute_result"
    }
   ],
   "source": [
    "return_even()"
   ]
  },
  {
   "cell_type": "code",
   "execution_count": 16,
   "id": "b513eab7",
   "metadata": {},
   "outputs": [],
   "source": [
    "def return_even():\n",
    "    even_list = []\n",
    "    for i in range(25, 4, -1):\n",
    "        if i % 2  == 0:\n",
    "            even_list.append(i)\n",
    "    return even_list\n",
    "            "
   ]
  },
  {
   "cell_type": "code",
   "execution_count": 17,
   "id": "79f0c986",
   "metadata": {},
   "outputs": [
    {
     "data": {
      "text/plain": [
       "[24, 22, 20, 18, 16, 14, 12, 10, 8, 6]"
      ]
     },
     "execution_count": 17,
     "metadata": {},
     "output_type": "execute_result"
    }
   ],
   "source": [
    "return_even()"
   ]
  },
  {
   "cell_type": "code",
   "execution_count": 33,
   "id": "listed-stanley",
   "metadata": {},
   "outputs": [],
   "source": [
    "def return_even():\n",
    "    even_list = []\n",
    "    for number in range(25, 3,-1):\n",
    "        if (number % 2) == 0:\n",
    "            even_list.append(number)\n",
    "    return even_list\n",
    "        \n",
    "def return_even2():\n",
    "    start = 25\n",
    "    end = 4\n",
    "    even_list = []\n",
    "    while start > end:\n",
    "        if start % 2 == 0:\n",
    "            even_list.append(start)\n",
    "        start = start - 1\n",
    "    return even_list\n",
    "            \n",
    "\n"
   ]
  },
  {
   "cell_type": "code",
   "execution_count": 34,
   "id": "49ec9543",
   "metadata": {},
   "outputs": [
    {
     "data": {
      "text/plain": [
       "[24, 22, 20, 18, 16, 14, 12, 10, 8, 6]"
      ]
     },
     "execution_count": 34,
     "metadata": {},
     "output_type": "execute_result"
    }
   ],
   "source": [
    "return_even2()"
   ]
  },
  {
   "cell_type": "code",
   "execution_count": null,
   "id": "812ceea3",
   "metadata": {},
   "outputs": [],
   "source": []
  },
  {
   "cell_type": "code",
   "execution_count": null,
   "id": "7c8b6515",
   "metadata": {},
   "outputs": [],
   "source": []
  },
  {
   "cell_type": "code",
   "execution_count": null,
   "id": "d0f89981",
   "metadata": {},
   "outputs": [],
   "source": []
  },
  {
   "cell_type": "markdown",
   "id": "dramatic-allah",
   "metadata": {},
   "source": [
    "# Solution."
   ]
  },
  {
   "cell_type": "code",
   "execution_count": 162,
   "id": "grateful-paragraph",
   "metadata": {},
   "outputs": [
    {
     "data": {
      "text/plain": [
       "[24, 22, 20, 18, 16, 14, 12, 10, 8, 6]"
      ]
     },
     "execution_count": 162,
     "metadata": {},
     "output_type": "execute_result"
    }
   ],
   "source": [
    "def return_even():\n",
    "    ans = []\n",
    "    for i in range(25, 5, -1):\n",
    "        if i%2 == 0:\n",
    "            ans.append(i)\n",
    "    return ans\n",
    "\n",
    "return_even()"
   ]
  },
  {
   "cell_type": "markdown",
   "id": "presidential-trace",
   "metadata": {},
   "source": [
    "## Write a function that takes a list as a parameter and returns the sum in a list."
   ]
  },
  {
   "cell_type": "code",
   "execution_count": 18,
   "id": "a332e611",
   "metadata": {},
   "outputs": [
    {
     "data": {
      "text/plain": [
       "100"
      ]
     },
     "execution_count": 18,
     "metadata": {},
     "output_type": "execute_result"
    }
   ],
   "source": [
    "#         0   1   2  3    4\n",
    "array = [100,230,10,55, 10000] # 5\n",
    "array[0]\n"
   ]
  },
  {
   "cell_type": "code",
   "execution_count": 19,
   "id": "fc0a2184",
   "metadata": {},
   "outputs": [
    {
     "data": {
      "text/plain": [
       "230"
      ]
     },
     "execution_count": 19,
     "metadata": {},
     "output_type": "execute_result"
    }
   ],
   "source": [
    "array[1]"
   ]
  },
  {
   "cell_type": "code",
   "execution_count": 20,
   "id": "acfa1b45",
   "metadata": {},
   "outputs": [
    {
     "data": {
      "text/plain": [
       "10"
      ]
     },
     "execution_count": 20,
     "metadata": {},
     "output_type": "execute_result"
    }
   ],
   "source": [
    "array[2]"
   ]
  },
  {
   "cell_type": "code",
   "execution_count": 21,
   "id": "1fc26c34",
   "metadata": {},
   "outputs": [
    {
     "data": {
      "text/plain": [
       "55"
      ]
     },
     "execution_count": 21,
     "metadata": {},
     "output_type": "execute_result"
    }
   ],
   "source": []
  },
  {
   "cell_type": "code",
   "execution_count": 22,
   "id": "indian-gauge",
   "metadata": {},
   "outputs": [],
   "source": [
    "#### write the function here ####\n",
    "\n",
    "def get_sum(new_list):\n",
    "    total = 0\n",
    "    for value in new_list:\n",
    "        total = total + value\n",
    "    return total\n",
    "\n",
    "def get_sum(new_list):\n",
    "    total = 0\n",
    "    n = len(new_list)\n",
    "    for i in range(0, n): \n",
    "        value = array[i]\n",
    "        total = total + value\n",
    "    return total\n",
    "        \n",
    "def get_sum(new_list) :\n",
    "    total = 0\n",
    "    i = 0\n",
    "    n = len(new_list)\n",
    "    \n",
    "    while i < n:\n",
    "        value = new_list[i]\n",
    "        total = total + value\n",
    "        i = i + 1\n",
    "    return total\n",
    "        \n",
    "        \n",
    "    \n",
    "    \n",
    "    \n"
   ]
  },
  {
   "cell_type": "code",
   "execution_count": 23,
   "id": "cb59ecb0",
   "metadata": {},
   "outputs": [
    {
     "data": {
      "text/plain": [
       "600"
      ]
     },
     "execution_count": 23,
     "metadata": {},
     "output_type": "execute_result"
    }
   ],
   "source": [
    "get_sum([100,200,300])"
   ]
  },
  {
   "cell_type": "code",
   "execution_count": 35,
   "id": "short-football",
   "metadata": {},
   "outputs": [
    {
     "data": {
      "text/plain": [
       "9"
      ]
     },
     "execution_count": 35,
     "metadata": {},
     "output_type": "execute_result"
    }
   ],
   "source": [
    "list1 = [1,2,6]\n",
    "sum(list1)"
   ]
  },
  {
   "cell_type": "code",
   "execution_count": null,
   "id": "994ea1a9",
   "metadata": {},
   "outputs": [],
   "source": []
  },
  {
   "cell_type": "code",
   "execution_count": 27,
   "id": "6a0e12f8",
   "metadata": {},
   "outputs": [],
   "source": [
    "def add_nums(num1, num2):\n",
    "    if num1 < 0 or num2 < 0:\n",
    "        return \"hi joe\"\n",
    "    \n",
    "    total = num1 + num2\n",
    "    return total\n",
    "    "
   ]
  },
  {
   "cell_type": "code",
   "execution_count": 28,
   "id": "ef291d33",
   "metadata": {},
   "outputs": [
    {
     "data": {
      "text/plain": [
       "'hi joe'"
      ]
     },
     "execution_count": 28,
     "metadata": {},
     "output_type": "execute_result"
    }
   ],
   "source": [
    "add_nums(-1, 2)"
   ]
  },
  {
   "cell_type": "code",
   "execution_count": 39,
   "id": "dda5c609",
   "metadata": {},
   "outputs": [],
   "source": [
    "def new_sum(new_list):\n",
    "    if len(new_list) == 0:\n",
    "        return 0\n",
    "    total = 0\n",
    "    for number in new_list:\n",
    "        total = total + number\n",
    "    return total\n"
   ]
  },
  {
   "cell_type": "code",
   "execution_count": 40,
   "id": "a6d088c0",
   "metadata": {},
   "outputs": [
    {
     "data": {
      "text/plain": [
       "9"
      ]
     },
     "execution_count": 40,
     "metadata": {},
     "output_type": "execute_result"
    }
   ],
   "source": [
    "new_sum(list1)"
   ]
  },
  {
   "cell_type": "code",
   "execution_count": 42,
   "id": "50a921ad",
   "metadata": {},
   "outputs": [],
   "source": [
    "#        0  1  2  3\n",
    "array = [1,10,20,19]"
   ]
  },
  {
   "cell_type": "code",
   "execution_count": 43,
   "id": "d21b93ad",
   "metadata": {},
   "outputs": [
    {
     "data": {
      "text/plain": [
       "4"
      ]
     },
     "execution_count": 43,
     "metadata": {},
     "output_type": "execute_result"
    }
   ],
   "source": [
    "len(array)"
   ]
  },
  {
   "cell_type": "code",
   "execution_count": 41,
   "id": "f2a6db21",
   "metadata": {},
   "outputs": [
    {
     "data": {
      "text/plain": [
       "9"
      ]
     },
     "execution_count": 41,
     "metadata": {},
     "output_type": "execute_result"
    }
   ],
   "source": [
    "sum(list1)"
   ]
  },
  {
   "cell_type": "code",
   "execution_count": null,
   "id": "46d1c79f",
   "metadata": {},
   "outputs": [],
   "source": []
  },
  {
   "cell_type": "code",
   "execution_count": null,
   "id": "147aa973",
   "metadata": {},
   "outputs": [],
   "source": [
    "array[2]"
   ]
  },
  {
   "cell_type": "code",
   "execution_count": 49,
   "id": "42fe22fd",
   "metadata": {},
   "outputs": [],
   "source": [
    "def new_sum_while(new_list):\n",
    "    start = 0\n",
    "    end = len(new_list) - 1\n",
    "    total = 0\n",
    "    while start < end + 1:\n",
    "        total = total + new_list[start]\n",
    "        start = start + 1  \n",
    "    return total  "
   ]
  },
  {
   "cell_type": "code",
   "execution_count": 50,
   "id": "2c3c0027",
   "metadata": {},
   "outputs": [
    {
     "data": {
      "text/plain": [
       "16"
      ]
     },
     "execution_count": 50,
     "metadata": {},
     "output_type": "execute_result"
    }
   ],
   "source": [
    "new_sum_while([10,5,1])"
   ]
  },
  {
   "cell_type": "code",
   "execution_count": null,
   "id": "ff2a298e",
   "metadata": {},
   "outputs": [],
   "source": []
  },
  {
   "cell_type": "code",
   "execution_count": null,
   "id": "fcadc9c6",
   "metadata": {},
   "outputs": [],
   "source": []
  },
  {
   "cell_type": "markdown",
   "id": "disciplinary-raising",
   "metadata": {},
   "source": [
    "# Solution."
   ]
  },
  {
   "cell_type": "code",
   "execution_count": 164,
   "id": "understood-tract",
   "metadata": {},
   "outputs": [
    {
     "data": {
      "text/plain": [
       "8"
      ]
     },
     "execution_count": 164,
     "metadata": {},
     "output_type": "execute_result"
    }
   ],
   "source": [
    "def get_sum(new_list):\n",
    "    total = 0\n",
    "    for element in new_list:\n",
    "        total = total + element\n",
    "    return total\n",
    "get_sum([1,2,2,3])"
   ]
  },
  {
   "cell_type": "markdown",
   "id": "provincial-classroom",
   "metadata": {},
   "source": [
    "## Write a function that takes a list as a parameter and returns the total product in a list."
   ]
  },
  {
   "cell_type": "code",
   "execution_count": 33,
   "id": "c35f6260",
   "metadata": {},
   "outputs": [],
   "source": [
    "def get_prod(array):\n",
    "    total_prod = 1\n",
    "    for value in array:\n",
    "        total_prod = total_prod * value\n",
    "    return total_prod\n",
    "\n",
    "def get_prod_idx(nums_list):\n",
    "    tot_prod = 1\n",
    "    n = len(nums_list)\n",
    "    for i in range(0, n):\n",
    "        value = nums_list[i]\n",
    "        tot_prod = tot_prod * value\n",
    "        print(tot_prod)\n",
    "    return tot_prod\n",
    "        \n",
    "    \n",
    "    "
   ]
  },
  {
   "cell_type": "code",
   "execution_count": 34,
   "id": "07dc4eee",
   "metadata": {},
   "outputs": [
    {
     "name": "stdout",
     "output_type": "stream",
     "text": [
      "10\n",
      "200\n",
      "600\n",
      "2400\n",
      "12240000\n",
      "1224000000\n"
     ]
    },
    {
     "data": {
      "text/plain": [
       "1224000000"
      ]
     },
     "execution_count": 34,
     "metadata": {},
     "output_type": "execute_result"
    }
   ],
   "source": [
    "get_prod_idx([10,20,3,4,5100,100])"
   ]
  },
  {
   "cell_type": "code",
   "execution_count": 35,
   "id": "db4756da",
   "metadata": {},
   "outputs": [],
   "source": [
    "def get_prod(new_list):\n",
    "    i = 0\n",
    "    n = len(new_list)\n",
    "    total_prod = 1\n",
    "    while i < n:\n",
    "        value = new_list[i]\n",
    "        total_prod = total_prod * value\n",
    "        i = i + 1\n",
    "    return total_prod"
   ]
  },
  {
   "cell_type": "code",
   "execution_count": 36,
   "id": "b52f94a4",
   "metadata": {},
   "outputs": [
    {
     "data": {
      "text/plain": [
       "0"
      ]
     },
     "execution_count": 36,
     "metadata": {},
     "output_type": "execute_result"
    }
   ],
   "source": [
    "get_prod([1,200,200, 0])"
   ]
  },
  {
   "cell_type": "code",
   "execution_count": 165,
   "id": "australian-production",
   "metadata": {},
   "outputs": [],
   "source": [
    "#### solve here ###\n",
    "\n",
    "def get_product(nums_list):\n",
    "    total_prod = 1\n",
    "    for number in num_list:\n",
    "        total_prod = total_prod * number\n",
    "    return total_prod\n",
    "\n",
    "\n",
    "def get_product(num_list):\n",
    "    total_prod = 1\n",
    "    end = len(num_list)\n",
    "    for idx in range(0, end):\n",
    "        value = num_list[idx]\n",
    "        total_prod = total_prod * value\n",
    "    return total_prod\n",
    "\n",
    "\n",
    "def get_product(num_list):\n",
    "    total_prod = 1\n",
    "    start = 0\n",
    "    end = len(num_list) - 1\n",
    "    while start < end:\n",
    "        value = num_list[start]\n",
    "        total_prod = total_prod * value\n",
    "        start = start + 1\n",
    "    return total_prod\n",
    "    \n",
    "\n",
    "\n",
    "\n",
    "\n",
    "\n",
    "\n",
    "\n",
    "\n",
    "\n",
    "\n"
   ]
  },
  {
   "cell_type": "markdown",
   "id": "resident-kitchen",
   "metadata": {},
   "source": [
    "# solution"
   ]
  },
  {
   "cell_type": "code",
   "execution_count": 166,
   "id": "senior-challenge",
   "metadata": {},
   "outputs": [
    {
     "data": {
      "text/plain": [
       "12"
      ]
     },
     "execution_count": 166,
     "metadata": {},
     "output_type": "execute_result"
    }
   ],
   "source": [
    "def get_prod(new_list):\n",
    "    total = 1\n",
    "    for element in new_list:\n",
    "        total *= element\n",
    "    return total\n",
    "\n",
    "get_prod([1,2,2,3])"
   ]
  },
  {
   "cell_type": "code",
   "execution_count": null,
   "id": "ee42ac21",
   "metadata": {},
   "outputs": [],
   "source": []
  },
  {
   "cell_type": "markdown",
   "id": "efficient-leadership",
   "metadata": {},
   "source": [
    "###  Write a function that takes a list as a parameter and returns the number of items in the list. Do NOT use the built-in len()"
   ]
  },
  {
   "cell_type": "code",
   "execution_count": 40,
   "id": "organic-forestry",
   "metadata": {},
   "outputs": [],
   "source": [
    "def get_len(items):\n",
    "    count = 0\n",
    "    for value in items:\n",
    "        count += 1\n",
    "        print(value, count)\n",
    "    return count"
   ]
  },
  {
   "cell_type": "code",
   "execution_count": 42,
   "id": "9453f537",
   "metadata": {},
   "outputs": [
    {
     "name": "stdout",
     "output_type": "stream",
     "text": [
      "10 1\n",
      "20 2\n",
      "30 3\n",
      "40 4\n",
      "50 5\n"
     ]
    },
    {
     "data": {
      "text/plain": [
       "5"
      ]
     },
     "execution_count": 42,
     "metadata": {},
     "output_type": "execute_result"
    }
   ],
   "source": [
    "get_len([10,20,30,40,50])"
   ]
  },
  {
   "cell_type": "code",
   "execution_count": 167,
   "id": "dietary-graphics",
   "metadata": {},
   "outputs": [],
   "source": [
    "## solve here ##\n",
    "\n",
    "\n",
    "\n",
    "\n",
    "\n",
    "\n",
    "\n",
    "\n",
    "\n",
    "\n",
    "\n",
    "\n",
    "\n",
    "\n",
    "\n",
    "\n",
    "\n"
   ]
  },
  {
   "cell_type": "code",
   "execution_count": null,
   "id": "checked-vision",
   "metadata": {},
   "outputs": [],
   "source": []
  },
  {
   "cell_type": "markdown",
   "id": "suited-wholesale",
   "metadata": {},
   "source": [
    "# Solution "
   ]
  },
  {
   "cell_type": "code",
   "execution_count": 43,
   "id": "stainless-remainder",
   "metadata": {},
   "outputs": [
    {
     "data": {
      "text/plain": [
       "5"
      ]
     },
     "execution_count": 43,
     "metadata": {},
     "output_type": "execute_result"
    }
   ],
   "source": [
    "def count_elements(new_list):\n",
    "    count = 0\n",
    "    for element in new_list:\n",
    "        count += 1\n",
    "    return count\n",
    "\n",
    "\n",
    "# function call.\n",
    "count_elements([1,2,3,4]) #4\n",
    "\n",
    "# function call\n",
    "count_elements([1,2,3,4,5]) #5"
   ]
  },
  {
   "cell_type": "code",
   "execution_count": 44,
   "id": "impressed-pathology",
   "metadata": {},
   "outputs": [],
   "source": [
    "# testing\n",
    "assert count_elements([1,2,3,4,8,10,13,15,17,18,20]) == 11\n",
    "assert count_elements([-4-2,-6+2, 3+5, 9+0, 10/4, 12%4, 1*3]) == 7\n",
    "assert count_elements([1, 2, 3, 4, 5]) == 5\n",
    "assert count_elements(['a', 'b', 'c']) == 3\n",
    "assert count_elements([]) == 0"
   ]
  },
  {
   "cell_type": "markdown",
   "id": "muslim-remark",
   "metadata": {},
   "source": [
    "#  "
   ]
  },
  {
   "cell_type": "code",
   "execution_count": null,
   "id": "adverse-copyright",
   "metadata": {},
   "outputs": [],
   "source": []
  },
  {
   "cell_type": "code",
   "execution_count": null,
   "id": "mighty-surge",
   "metadata": {},
   "outputs": [],
   "source": []
  },
  {
   "cell_type": "markdown",
   "id": "sticky-accommodation",
   "metadata": {},
   "source": [
    "#  Write a function that takes a list of integers as a parameter and returns the max element in the list. Do NOT use the built-in max() function."
   ]
  },
  {
   "cell_type": "code",
   "execution_count": 46,
   "id": "d2eafc5f",
   "metadata": {},
   "outputs": [
    {
     "data": {
      "text/plain": [
       "500"
      ]
     },
     "execution_count": 46,
     "metadata": {},
     "output_type": "execute_result"
    }
   ],
   "source": [
    "max([200,10,2,57,500,1])"
   ]
  },
  {
   "cell_type": "code",
   "execution_count": 49,
   "id": "southeast-nation",
   "metadata": {},
   "outputs": [],
   "source": [
    "### solve here ####\n",
    "\n",
    "def get_max(new_list):\n",
    "    biggest = float(\"-inf\")\n",
    "    \n",
    "    for number in new_list:\n",
    "        if number > biggest:\n",
    "            biggest = number\n",
    "            print(biggest)\n",
    "    return biggest\n",
    "\n",
    "\n",
    "\n",
    "\n",
    "\n",
    "\n",
    "\n",
    "\n",
    "\n",
    "\n",
    "\n",
    "\n",
    "\n",
    "\n"
   ]
  },
  {
   "cell_type": "code",
   "execution_count": 50,
   "id": "326e2907",
   "metadata": {},
   "outputs": [
    {
     "name": "stdout",
     "output_type": "stream",
     "text": [
      "100\n",
      "200\n",
      "300\n"
     ]
    },
    {
     "data": {
      "text/plain": [
       "300"
      ]
     },
     "execution_count": 50,
     "metadata": {},
     "output_type": "execute_result"
    }
   ],
   "source": [
    "get_max([100,200,-9,-100,300,0])"
   ]
  },
  {
   "cell_type": "markdown",
   "id": "neutral-taste",
   "metadata": {},
   "source": [
    "# Solution."
   ]
  },
  {
   "cell_type": "code",
   "execution_count": 171,
   "id": "sophisticated-society",
   "metadata": {},
   "outputs": [
    {
     "data": {
      "text/plain": [
       "5"
      ]
     },
     "execution_count": 171,
     "metadata": {},
     "output_type": "execute_result"
    }
   ],
   "source": [
    "def get_max(new_list):\n",
    "    if len(new_list) == 0:\n",
    "        return 0\n",
    "    largest = float(\"-inf\") # you could also use = - 999999999999999999999999999999999999999999999999999999999999999999999\n",
    "    for element in new_list:\n",
    "        if element >  largest:\n",
    "            largest = element\n",
    "    return largest\n",
    "\n",
    "get_max([1,2,3,4,5,0,2,3,4])"
   ]
  },
  {
   "cell_type": "code",
   "execution_count": 172,
   "id": "informal-return",
   "metadata": {},
   "outputs": [],
   "source": [
    "assert get_max([-9, -23, -7, -2, -6, -8, -34, -24, -74, -31]) == -2\n",
    "assert get_max([100,2,6,79,24,12,57,7,1,6,8,2,7,9]) == 100\n",
    "assert get_max([-1, -2, -3, -4, -5]) == -1\n",
    "assert get_max([-3, 2, 1, 3, -2, -1]) == 3\n",
    "assert get_max([5]) == 5\n",
    "assert get_max([]) == 0"
   ]
  },
  {
   "cell_type": "code",
   "execution_count": null,
   "id": "naval-album",
   "metadata": {},
   "outputs": [],
   "source": []
  },
  {
   "cell_type": "markdown",
   "id": "swedish-change",
   "metadata": {},
   "source": [
    "# Write a function that takes a list of integers as a parameter and returns the min element in the list. Do NOT use the built-in min() function.\n",
    "\n",
    "\n",
    "### Hint: smallest = float(\"inf\")"
   ]
  },
  {
   "cell_type": "code",
   "execution_count": 51,
   "id": "eleven-novel",
   "metadata": {},
   "outputs": [
    {
     "data": {
      "text/plain": [
       "1"
      ]
     },
     "execution_count": 51,
     "metadata": {},
     "output_type": "execute_result"
    }
   ],
   "source": [
    "min([1,2,3])"
   ]
  },
  {
   "cell_type": "code",
   "execution_count": 52,
   "id": "indie-objective",
   "metadata": {},
   "outputs": [],
   "source": [
    "### Solve here ###\n",
    "\n",
    "\n",
    "def get_min(new_array):\n",
    "    \n",
    "    if len(new_array) == 0:\n",
    "        return 0\n",
    "    \n",
    "    \n",
    "    smallest = float(\"inf\")\n",
    "    for value in new_array:\n",
    "        if value < smallest:\n",
    "            smallest = value\n",
    "    return smallest\n",
    "\n",
    "\n",
    "\n",
    "\n",
    "\n",
    "\n",
    "\n",
    "\n",
    "\n",
    "\n",
    "\n",
    "\n",
    "\n",
    "\n",
    "\n"
   ]
  },
  {
   "cell_type": "markdown",
   "id": "incomplete-seeking",
   "metadata": {},
   "source": [
    "# Solution"
   ]
  },
  {
   "cell_type": "code",
   "execution_count": 174,
   "id": "decreased-owner",
   "metadata": {},
   "outputs": [
    {
     "data": {
      "text/plain": [
       "-1000"
      ]
     },
     "execution_count": 174,
     "metadata": {},
     "output_type": "execute_result"
    }
   ],
   "source": [
    "def get_min(new_list):\n",
    "    if len(new_list) == 0:\n",
    "        return 0\n",
    "    small = float(\"inf\") # you could also use = 999999999999999999999999999999999999999999999999999999999999999999999\n",
    "    for element in new_list:\n",
    "        if element <  small:\n",
    "            small = element\n",
    "    return small\n",
    "\n",
    "get_max([1,2,3,4,5,-1000,2,3,4])"
   ]
  },
  {
   "cell_type": "code",
   "execution_count": null,
   "id": "awful-student",
   "metadata": {},
   "outputs": [],
   "source": []
  },
  {
   "cell_type": "markdown",
   "id": "hispanic-taylor",
   "metadata": {},
   "source": [
    "# Write a function that takes two list of the same length and add them together then returns the resulting list."
   ]
  },
  {
   "cell_type": "code",
   "execution_count": 53,
   "id": "6f1ce3ef",
   "metadata": {},
   "outputs": [
    {
     "data": {
      "text/plain": [
       "[1, 2, 3, 3, 4, 5]"
      ]
     },
     "execution_count": 53,
     "metadata": {},
     "output_type": "execute_result"
    }
   ],
   "source": [
    "list1 = [1,2,3]\n",
    "list2 = [3,4,5]\n",
    "list1 + list2"
   ]
  },
  {
   "cell_type": "code",
   "execution_count": 58,
   "id": "portuguese-ozone",
   "metadata": {},
   "outputs": [],
   "source": [
    "### solve here. ###\n",
    "\n",
    "\n",
    "\n",
    "def add_lists(list1, list2):\n",
    "    n = len(list2)\n",
    "    list3 = []\n",
    "    for i in range(n):\n",
    "        total = list1[i] + list2[i]\n",
    "        list3.append(total)\n",
    "    return list3\n",
    "\n",
    "def add_lists_while(list1, list2):\n",
    "    \n",
    "    if len(list1) != len(list2):\n",
    "        return -1\n",
    "    \n",
    "    n = len(list1)\n",
    "    list3 = []\n",
    "    i = 0\n",
    "    while i < n:\n",
    "        total = list1[i] + list2[i]\n",
    "        list3.append(total)\n",
    "        i += 1\n",
    "    return list3\n",
    "\n",
    "\n",
    "\n",
    "\n",
    "\n",
    "\n",
    "\n"
   ]
  },
  {
   "cell_type": "code",
   "execution_count": 57,
   "id": "unusual-electron",
   "metadata": {},
   "outputs": [
    {
     "data": {
      "text/plain": [
       "[2, 4, 6, 8]"
      ]
     },
     "execution_count": 57,
     "metadata": {},
     "output_type": "execute_result"
    }
   ],
   "source": [
    "add_lists_while([1,2,3,4], [1,2,3,4])"
   ]
  },
  {
   "cell_type": "code",
   "execution_count": null,
   "id": "alert-peter",
   "metadata": {},
   "outputs": [],
   "source": []
  },
  {
   "cell_type": "markdown",
   "id": "satellite-announcement",
   "metadata": {},
   "source": [
    "# Solution ."
   ]
  },
  {
   "cell_type": "code",
   "execution_count": 176,
   "id": "awful-heather",
   "metadata": {},
   "outputs": [],
   "source": [
    "def add_lists(list1, list2):\n",
    "    n = len(list1)\n",
    "    answer = []\n",
    "    for i in range(n):\n",
    "        total = list1[i] + list2[i]\n",
    "        answer.append(total)\n",
    "    return answer"
   ]
  },
  {
   "cell_type": "code",
   "execution_count": 177,
   "id": "enormous-slovak",
   "metadata": {},
   "outputs": [
    {
     "data": {
      "text/plain": [
       "[2, 3, 4]"
      ]
     },
     "execution_count": 177,
     "metadata": {},
     "output_type": "execute_result"
    }
   ],
   "source": [
    "add_lists([1,2,3], [1,1,1])"
   ]
  },
  {
   "cell_type": "code",
   "execution_count": null,
   "id": "wound-saskatchewan",
   "metadata": {},
   "outputs": [],
   "source": []
  },
  {
   "cell_type": "markdown",
   "id": "accepted-hawaiian",
   "metadata": {},
   "source": [
    "#  Write a function that takes a list as a parameter and returns the reversed list. Do NOT use the built-in reverse() function."
   ]
  },
  {
   "cell_type": "code",
   "execution_count": 178,
   "id": "harmful-buyer",
   "metadata": {},
   "outputs": [
    {
     "name": "stdout",
     "output_type": "stream",
     "text": [
      "['c', 'a', 'r']\n",
      "['r', 'a', 'c']\n"
     ]
    }
   ],
   "source": [
    "# Example\n",
    "word = [\"c\",\"a\",\"r\"]\n",
    "print(word)\n",
    "print(word[::-1])"
   ]
  },
  {
   "cell_type": "code",
   "execution_count": 61,
   "id": "specific-intranet",
   "metadata": {},
   "outputs": [],
   "source": [
    "# Solve here #\n",
    "\n",
    "\n",
    "def get_reverse(new_list):\n",
    "    n = len(new_list)\n",
    "    reversed_list = []\n",
    "    for i in range(n-1, -1, -1):\n",
    "        value = new_list[i]\n",
    "        reversed_list.append(value)\n",
    "    return reversed_list\n",
    "\n",
    "\n",
    "\n",
    "\n",
    "\n",
    "\n",
    "\n",
    "\n",
    "\n",
    "\n",
    "\n"
   ]
  },
  {
   "cell_type": "code",
   "execution_count": 62,
   "id": "3f3d1519",
   "metadata": {},
   "outputs": [
    {
     "data": {
      "text/plain": [
       "[3, 2, 1]"
      ]
     },
     "execution_count": 62,
     "metadata": {},
     "output_type": "execute_result"
    }
   ],
   "source": [
    "get_reverse([1,2,3])"
   ]
  },
  {
   "cell_type": "markdown",
   "id": "ready-lincoln",
   "metadata": {},
   "source": [
    "# Two Solution."
   ]
  },
  {
   "cell_type": "code",
   "execution_count": null,
   "id": "7d10d4a1",
   "metadata": {},
   "outputs": [],
   "source": [
    "#      |\n",
    "#[\"o\",\"m\",\"a\",\"r\"]\n",
    "#          |"
   ]
  },
  {
   "cell_type": "code",
   "execution_count": 180,
   "id": "solar-speaker",
   "metadata": {},
   "outputs": [
    {
     "data": {
      "text/plain": [
       "['r', 'a', 'm', 'o']"
      ]
     },
     "execution_count": 180,
     "metadata": {},
     "output_type": "execute_result"
    }
   ],
   "source": [
    "def reverse_string1(new_list):\n",
    "    left = 0\n",
    "    right = len(new_list) - 1\n",
    "    \n",
    "    while left < right:\n",
    "        new_list[left], new_list[right] = new_list[right], new_list[left]\n",
    "        left += 1\n",
    "        right -= 1\n",
    "    return new_list\n",
    "\n",
    "reverse_string1([\"o\",\"m\",\"a\",\"r\"])"
   ]
  },
  {
   "cell_type": "code",
   "execution_count": 181,
   "id": "caring-adaptation",
   "metadata": {},
   "outputs": [
    {
     "data": {
      "text/plain": [
       "['r', 'a', 'c']"
      ]
     },
     "execution_count": 181,
     "metadata": {},
     "output_type": "execute_result"
    }
   ],
   "source": [
    "#### Solve right code here ####\n",
    "def reverse_string2(new_list):\n",
    "    answer = []\n",
    "    for end_i in range(len(new_list)-1,-1,-1):\n",
    "        answer.append(new_list[end_i])\n",
    "    return answer\n",
    "\n",
    "reverse_string1([\"c\",\"a\",\"r\"])"
   ]
  },
  {
   "cell_type": "markdown",
   "id": "optional-antibody",
   "metadata": {},
   "source": [
    "# Dictionaries [HashMaps]"
   ]
  },
  {
   "cell_type": "markdown",
   "id": "apart-memory",
   "metadata": {},
   "source": [
    "### Create a dictionary with random names and ages."
   ]
  },
  {
   "cell_type": "code",
   "execution_count": 63,
   "id": "accurate-metropolitan",
   "metadata": {},
   "outputs": [],
   "source": [
    "# Solve here #\n",
    "\n",
    "dict1 = {\"Ali\":21 , \"joe\": 43}\n"
   ]
  },
  {
   "cell_type": "markdown",
   "id": "green-bailey",
   "metadata": {},
   "source": [
    "# Solution."
   ]
  },
  {
   "cell_type": "code",
   "execution_count": 183,
   "id": "laden-vacuum",
   "metadata": {},
   "outputs": [
    {
     "data": {
      "text/plain": [
       "{'omar': 25, 'joe': 34, 'mohamed': 50}"
      ]
     },
     "execution_count": 183,
     "metadata": {},
     "output_type": "execute_result"
    }
   ],
   "source": [
    "dict1 = {\"omar\": 25, \"joe\":34, \"mohamed\": 50}\n",
    "dict1"
   ]
  },
  {
   "cell_type": "markdown",
   "id": "interstate-economy",
   "metadata": {},
   "source": [
    "# Question : write a function that takes in a dictionary and add all the values and then return them\n",
    "\n",
    "\n",
    "Input : {'a': 100, 'b':200, 'c':300}\n",
    "\n",
    "output: 100 + 200 + 300"
   ]
  },
  {
   "cell_type": "code",
   "execution_count": 65,
   "id": "4dc896b0",
   "metadata": {},
   "outputs": [
    {
     "data": {
      "text/plain": [
       "200"
      ]
     },
     "execution_count": 65,
     "metadata": {},
     "output_type": "execute_result"
    }
   ],
   "source": [
    "dict1 = {'a': 100, 'b':200, 'c':300}\n",
    "dict1[\"b\"]"
   ]
  },
  {
   "cell_type": "code",
   "execution_count": 184,
   "id": "entitled-actress",
   "metadata": {},
   "outputs": [],
   "source": [
    "dict1 = {'a': 100, 'b':200, 'c':300}\n",
    "# Solve here\n",
    "\n",
    "def get_dic_total(dict1):\n",
    "    total = 0\n",
    "    for value in dict1.values():\n",
    "        total = total + value\n",
    "    return total\n",
    "\n",
    "def get_dic_tot(dict1):\n",
    "    total = 0\n",
    "    for key in dict1:\n",
    "        value = dict1[key]\n",
    "        total += value\n",
    "    return total\n",
    "    "
   ]
  },
  {
   "cell_type": "markdown",
   "id": "cardiovascular-storm",
   "metadata": {},
   "source": [
    "# Solution"
   ]
  },
  {
   "cell_type": "code",
   "execution_count": 185,
   "id": "fantastic-incentive",
   "metadata": {},
   "outputs": [
    {
     "data": {
      "text/plain": [
       "600"
      ]
     },
     "execution_count": 185,
     "metadata": {},
     "output_type": "execute_result"
    }
   ],
   "source": [
    "def get_total(dict1):\n",
    "    total = 0\n",
    "    for key in dict1:\n",
    "        total += dict1[key]\n",
    "    return total\n",
    "get_total(dict1)"
   ]
  },
  {
   "cell_type": "code",
   "execution_count": 186,
   "id": "brave-karma",
   "metadata": {},
   "outputs": [
    {
     "data": {
      "text/plain": [
       "600"
      ]
     },
     "execution_count": 186,
     "metadata": {},
     "output_type": "execute_result"
    }
   ],
   "source": [
    "def get_total(dict1):\n",
    "    total = 0\n",
    "    for value in dict1.values():\n",
    "        total += value\n",
    "    return total\n",
    "get_total(dict1)"
   ]
  },
  {
   "cell_type": "markdown",
   "id": "technological-shooting",
   "metadata": {},
   "source": [
    "# Exercise : Below are the two lists convert it into a dictionary\n",
    "\n",
    "Expected output:\n",
    "\n",
    "{'Ten': 10, 'Twenty': 20, 'Thirty': 30}"
   ]
  },
  {
   "cell_type": "code",
   "execution_count": 66,
   "id": "framed-looking",
   "metadata": {},
   "outputs": [],
   "source": [
    "keys = ['Ten', 'Twenty', 'Thirty']\n",
    "values = [10, 20, 30]\n",
    "\n",
    "# Write your code here\n",
    "\n",
    "def create_dic(item1, item2):\n",
    "    dict1 = {}\n",
    "    for i in range(len(keys)):\n",
    "        key = keys[i]\n",
    "        value = values[i]\n",
    "        dict1[key] = value\n",
    "    return dict1\n",
    "\n",
    "\n",
    "\n",
    "\n",
    "\n",
    "\n",
    "\n",
    "\n",
    "\n",
    "\n"
   ]
  },
  {
   "cell_type": "markdown",
   "id": "brief-intellectual",
   "metadata": {},
   "source": [
    "# Solution"
   ]
  },
  {
   "cell_type": "code",
   "execution_count": 67,
   "id": "permanent-easter",
   "metadata": {},
   "outputs": [],
   "source": [
    "def convert_to_dic(keys, values):\n",
    "    dic = {}\n",
    "    n = len(keys)\n",
    "    for i in range(n):\n",
    "        key = keys[i]\n",
    "        value = values[i] # the value\n",
    "        dic[key] = value # filling the dictionary\n",
    "    return dic"
   ]
  },
  {
   "cell_type": "code",
   "execution_count": 68,
   "id": "uniform-acoustic",
   "metadata": {},
   "outputs": [
    {
     "data": {
      "text/plain": [
       "{'Ten': 10, 'Twenty': 20, 'Thirty': 30}"
      ]
     },
     "execution_count": 68,
     "metadata": {},
     "output_type": "execute_result"
    }
   ],
   "source": [
    "convert_to_dic(keys, values)"
   ]
  },
  {
   "cell_type": "markdown",
   "id": "another-prospect",
   "metadata": {},
   "source": [
    "# Exercise : Merge following two Python dictionaries into one"
   ]
  },
  {
   "cell_type": "code",
   "execution_count": 70,
   "id": "governing-greeting",
   "metadata": {},
   "outputs": [],
   "source": [
    "dict1 = {'Ten': 10, 'Twenty': 20, 'Thirty': 30}\n",
    "dict2 = {'Thirty': 30, 'Fourty': 40, 'Fifty': 50}"
   ]
  },
  {
   "cell_type": "code",
   "execution_count": 71,
   "id": "acoustic-actor",
   "metadata": {},
   "outputs": [],
   "source": [
    "#write your answer here.\n",
    "\n",
    "\n",
    "\n",
    "\n",
    "\n",
    "\n",
    "\n",
    "\n",
    "\n",
    "\n"
   ]
  },
  {
   "cell_type": "markdown",
   "id": "unlimited-interval",
   "metadata": {},
   "source": [
    "# Two solutions."
   ]
  },
  {
   "cell_type": "code",
   "execution_count": 72,
   "id": "corresponding-stuff",
   "metadata": {},
   "outputs": [
    {
     "data": {
      "text/plain": [
       "{'Ten': 10, 'Twenty': 20, 'Thirty': 30, 'Fourty': 40, 'Fifty': 50}"
      ]
     },
     "execution_count": 72,
     "metadata": {},
     "output_type": "execute_result"
    }
   ],
   "source": [
    "dict1.update(dict2)\n",
    "dict1"
   ]
  },
  {
   "cell_type": "markdown",
   "id": "b107af5f",
   "metadata": {},
   "source": [
    "### Go over this again"
   ]
  },
  {
   "cell_type": "code",
   "execution_count": 73,
   "id": "amino-slope",
   "metadata": {},
   "outputs": [
    {
     "name": "stdout",
     "output_type": "stream",
     "text": [
      "dictionary2 Thirty 30\n",
      "dictionary2 Fourty 40\n",
      "dictionary2 Fifty 50\n"
     ]
    },
    {
     "data": {
      "text/plain": [
       "{'Ten': 10, 'Twenty': 20, 'Thirty': 30, 'Fourty': 40, 'Fifty': 50}"
      ]
     },
     "execution_count": 73,
     "metadata": {},
     "output_type": "execute_result"
    }
   ],
   "source": [
    "def combine_dicts(dict1, dict2):\n",
    "    for key in dict2:\n",
    "        value = dict2[key]\n",
    "        dict1[key] = value\n",
    "    return dict1\n",
    "\n",
    "combine_dicts(dict1, dict2)"
   ]
  },
  {
   "cell_type": "markdown",
   "id": "mysterious-buffer",
   "metadata": {},
   "source": [
    "# Exercise : Access the value of key ‘history’ from the below dict\n"
   ]
  },
  {
   "cell_type": "code",
   "execution_count": 194,
   "id": "horizontal-yahoo",
   "metadata": {},
   "outputs": [],
   "source": [
    "sampleDict = { \n",
    "   \"class\":{ \n",
    "      \"student\":{ \n",
    "         \"name\":\"Mike\",\n",
    "         \"marks\":{ \n",
    "            \"physics\":70,\n",
    "            \"history\":80\n",
    "         }\n",
    "      }\n",
    "   }\n",
    "}"
   ]
  },
  {
   "cell_type": "markdown",
   "id": "super-wildlife",
   "metadata": {},
   "source": [
    "# Solution"
   ]
  },
  {
   "cell_type": "code",
   "execution_count": 196,
   "id": "guided-acrobat",
   "metadata": {},
   "outputs": [
    {
     "data": {
      "text/plain": [
       "80"
      ]
     },
     "execution_count": 196,
     "metadata": {},
     "output_type": "execute_result"
    }
   ],
   "source": [
    "sampleDict[\"class\"][\"student\"][\"marks\"][\"history\"]"
   ]
  },
  {
   "cell_type": "code",
   "execution_count": null,
   "id": "posted-knock",
   "metadata": {},
   "outputs": [],
   "source": []
  },
  {
   "cell_type": "markdown",
   "id": "circular-overview",
   "metadata": {},
   "source": [
    "Refrences:\n",
    "\n",
    "[1] http://tutors.ics.uci.edu/index.php/79-python-resources/118-python-for-exercises\n",
    "\n",
    "[2] https://www.programiz.com/python-programming/for-loop\n",
    "\n",
    "[3] https://www.geeksforgeeks.org/python-program-to-find-the-sum-of-all-items-in-a-dictionary/\n",
    "\n",
    "[4] https://pynative.com/python-dictionary-exercise-with-solutions/"
   ]
  },
  {
   "cell_type": "code",
   "execution_count": null,
   "id": "ba398642",
   "metadata": {},
   "outputs": [],
   "source": []
  }
 ],
 "metadata": {
  "kernelspec": {
   "display_name": "Python 3 (ipykernel)",
   "language": "python",
   "name": "python3"
  },
  "language_info": {
   "codemirror_mode": {
    "name": "ipython",
    "version": 3
   },
   "file_extension": ".py",
   "mimetype": "text/x-python",
   "name": "python",
   "nbconvert_exporter": "python",
   "pygments_lexer": "ipython3",
   "version": "3.8.10"
  }
 },
 "nbformat": 4,
 "nbformat_minor": 5
}
