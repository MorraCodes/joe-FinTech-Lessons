{
 "cells": [
  {
   "cell_type": "markdown",
   "id": "velvet-integral",
   "metadata": {},
   "source": [
    "# Lecture 2 :: Practice"
   ]
  },
  {
   "cell_type": "markdown",
   "id": "quality-genome",
   "metadata": {},
   "source": [
    "# Warm Up\n",
    "\n",
    "## Question 1\n",
    "\n",
    "You run the code below .\n",
    "\n",
    "    type(5)\n",
    "    print(3.0-1)\n",
    "    \n",
    "What's printed?\n",
    "- int\n",
    "- 2.0\n",
    "- int then 2.0\n",
    "- nothing\n"
   ]
  },
  {
   "cell_type": "markdown",
   "id": "manufactured-innocent",
   "metadata": {},
   "source": [
    "# solution\n",
    "\n",
    "\n",
    "\n",
    "\n",
    "\n",
    "\n",
    "\n",
    "`2.0`"
   ]
  },
  {
   "cell_type": "markdown",
   "id": "indonesian-judge",
   "metadata": {},
   "source": [
    "## Question 2"
   ]
  },
  {
   "cell_type": "markdown",
   "id": "flexible-painting",
   "metadata": {},
   "source": [
    "Python vs. Math\n",
    "\n",
    "Which is allowed in Python?\n",
    "\n",
    "Exercise 2\n",
    "    \n",
    "    - x + y = 2\n",
    "    \n",
    "    - x*x = 2\n",
    "    \n",
    "    - 2 = x\n",
    "    \n",
    "    - xy = 2\n",
    "    \n",
    "    - None of the Above"
   ]
  },
  {
   "cell_type": "markdown",
   "id": "flush-explanation",
   "metadata": {},
   "source": [
    "## Solution\n",
    "\n",
    "\n",
    "\n",
    "\n",
    "\n",
    "\n",
    "xy = 2"
   ]
  },
  {
   "cell_type": "markdown",
   "id": "occupied-tomato",
   "metadata": {},
   "source": [
    "# Question 3\n",
    "\n",
    "    usa_gold = 46\n",
    "    uk_gold = 27\n",
    "    romania_gold = 1\n",
    "    \n",
    "    total_gold = usa_gold + uk_gold + romania_gold\n",
    "    print(total_gold)\n",
    "    \n",
    "    romania_gold += 1\n",
    "    print(total_gold)\n",
    "    \n",
    "    \n",
    "What's printed?\n",
    "\n",
    "Exercise 3\n",
    "\n",
    "    - 74 then 74\n",
    "\n",
    "    - 74 then 75\n",
    "   \n",
    "    - 74\n",
    "    \n",
    "    - 75"
   ]
  },
  {
   "cell_type": "markdown",
   "id": "taken-seller",
   "metadata": {},
   "source": [
    "Check Solution below."
   ]
  },
  {
   "cell_type": "markdown",
   "id": "median-blake",
   "metadata": {},
   "source": [
    "## Solution\n",
    "\n",
    "\n",
    "\n",
    "\n",
    "\n",
    "74 then 74"
   ]
  },
  {
   "cell_type": "markdown",
   "id": "illegal-hierarchy",
   "metadata": {},
   "source": [
    "#  Now let's start with the problems."
   ]
  },
  {
   "cell_type": "markdown",
   "id": "solid-congo",
   "metadata": {},
   "source": [
    "## X Cubic \n",
    "#### X Cubic\n",
    "##### Write a program which calculates the cube of a given integer x.\n",
    "\n",
    "    Input\n",
    "    An integer x is given in a line.\n",
    "\n",
    "    Output\n",
    "    Print the cube of x in a line.\n",
    "\n",
    "    Constraints\n",
    "    1 ≤ x ≤ 100\n",
    "    \n",
    "    \n",
    "    Sample Input 1\n",
    "    2\n",
    "    Sample Output 1\n",
    "    8\n",
    "    \n",
    "    Sample Input 2\n",
    "    3\n",
    "    Sample Output 2\n",
    "    27"
   ]
  },
  {
   "cell_type": "code",
   "execution_count": null,
   "id": "primary-criminal",
   "metadata": {},
   "outputs": [],
   "source": []
  },
  {
   "cell_type": "code",
   "execution_count": 6,
   "id": "parallel-discovery",
   "metadata": {},
   "outputs": [],
   "source": [
    "##### Solve Below Here ####"
   ]
  },
  {
   "cell_type": "code",
   "execution_count": null,
   "id": "representative-edward",
   "metadata": {},
   "outputs": [],
   "source": []
  },
  {
   "cell_type": "markdown",
   "id": "varying-tutorial",
   "metadata": {},
   "source": [
    "# Solution"
   ]
  },
  {
   "cell_type": "code",
   "execution_count": 5,
   "id": "particular-nurse",
   "metadata": {},
   "outputs": [
    {
     "name": "stdout",
     "output_type": "stream",
     "text": [
      "Please enter a number: 2\n",
      "8\n"
     ]
    }
   ],
   "source": [
    "x = int(input(\"Please enter a number: \"))\n",
    "print(x**3)"
   ]
  },
  {
   "cell_type": "markdown",
   "id": "general-channels",
   "metadata": {},
   "source": [
    "### Question : Range\n",
    "\n",
    "## Range\n",
    "#### Write a program which reads three integers a, b and c, and prints \"Yes\" if a<b<c, otherwise \"No\".\n",
    "\n",
    "    Input\n",
    "    Three integers a, b and c separated by a single space are given in a line.\n",
    "\n",
    "    Output\n",
    "    Print \"Yes\" or \"No\" in a line.\n",
    "\n",
    "    Constraints\n",
    "    0 ≤ a, b, c ≤ 100\n",
    "    Sample Input 1\n",
    "    1 3 8\n",
    "    Sample Output 1\n",
    "    Yes\n",
    "    Sample Input 2\n",
    "    3 8 1\n",
    "    Sample Output 2\n",
    "    No"
   ]
  },
  {
   "cell_type": "code",
   "execution_count": null,
   "id": "subject-tobacco",
   "metadata": {},
   "outputs": [],
   "source": []
  },
  {
   "cell_type": "code",
   "execution_count": null,
   "id": "distributed-forwarding",
   "metadata": {},
   "outputs": [],
   "source": [
    "#### Solve here ######"
   ]
  },
  {
   "cell_type": "code",
   "execution_count": null,
   "id": "continuing-harvard",
   "metadata": {},
   "outputs": [],
   "source": []
  },
  {
   "cell_type": "markdown",
   "id": "saving-toyota",
   "metadata": {},
   "source": [
    "# Solution."
   ]
  },
  {
   "cell_type": "code",
   "execution_count": 3,
   "id": "close-hotel",
   "metadata": {},
   "outputs": [
    {
     "name": "stdout",
     "output_type": "stream",
     "text": [
      "Please enter a number: 10\n",
      "Please enter a number: 1\n",
      "Please enter a number: 2\n",
      "False\n"
     ]
    }
   ],
   "source": [
    "a = int(input(\"Please enter a number: \"))\n",
    "b = int(input(\"Please enter a number: \"))\n",
    "c = int(input(\"Please enter a number: \"))\n",
    "\n",
    "if a < b and b < c and a < c:\n",
    "    print(\"True\")\n",
    "else:\n",
    "    print(\"False\")"
   ]
  },
  {
   "cell_type": "code",
   "execution_count": null,
   "id": "therapeutic-external",
   "metadata": {},
   "outputs": [],
   "source": []
  },
  {
   "cell_type": "code",
   "execution_count": null,
   "id": "completed-absence",
   "metadata": {},
   "outputs": [],
   "source": []
  },
  {
   "cell_type": "code",
   "execution_count": null,
   "id": "equipped-place",
   "metadata": {},
   "outputs": [],
   "source": []
  },
  {
   "cell_type": "markdown",
   "id": "conscious-arkansas",
   "metadata": {},
   "source": [
    "### Question : Sorting Three Numbers"
   ]
  },
  {
   "cell_type": "markdown",
   "id": "restricted-revelation",
   "metadata": {},
   "source": [
    "#### Sorting Three Numbers\n",
    "Write a program which reads three integers, and prints them in ascending order.\n",
    "\n",
    "##### Input\n",
    "Three integers separated by a single space are given in a line.\n",
    "\n",
    "#### Output\n",
    "Print the given integers in ascending order in a line. Put a single space between two integers.\n",
    "\n",
    "    Constraints\n",
    "    1 ≤ the three integers ≤ 10000\n",
    "    Sample Input 1\n",
    "    3 8 1\n",
    "    Sample Output 1\n",
    "    1 3 8\n",
    "    \n",
    "    \n",
    "    \n",
    "Here is another test case: \n",
    "##### Input:\n",
    "\n",
    "-10\n",
    "\n",
    "-2\n",
    "\n",
    "2\n",
    "\n",
    "##### Output: -10 -2 2"
   ]
  },
  {
   "cell_type": "code",
   "execution_count": null,
   "id": "spoken-essex",
   "metadata": {},
   "outputs": [],
   "source": []
  },
  {
   "cell_type": "code",
   "execution_count": 7,
   "id": "macro-brazil",
   "metadata": {},
   "outputs": [],
   "source": [
    "#### Solve here ######"
   ]
  },
  {
   "cell_type": "code",
   "execution_count": null,
   "id": "deluxe-inspiration",
   "metadata": {},
   "outputs": [],
   "source": []
  },
  {
   "cell_type": "markdown",
   "id": "rental-inflation",
   "metadata": {},
   "source": [
    "### Solution"
   ]
  },
  {
   "cell_type": "code",
   "execution_count": 6,
   "id": "expensive-efficiency",
   "metadata": {},
   "outputs": [
    {
     "name": "stdout",
     "output_type": "stream",
     "text": [
      "-10\n",
      "-2\n",
      "2\n",
      "-10 -2 2\n"
     ]
    }
   ],
   "source": [
    "# scan all the three numbers.\n",
    "num1 = int(input())\n",
    "num2 = int(input())\n",
    "num3 = int(input())\n",
    "\n",
    "# two place holder numbers.\n",
    "\n",
    "smaller_first_two = 0\n",
    "larger_first_two = 0\n",
    "\n",
    "# Which one is smaller and which one is greater.\n",
    "\n",
    "if num1 <= num2:\n",
    "    smaller_first_two = num1\n",
    "    larger_first_two = num2\n",
    "else:\n",
    "    smaller_first_two = num2\n",
    "    larger_first_two = num1\n",
    "\n",
    "# let's arrange them and print them out.\n",
    "if num3 <= smaller_first_two:\n",
    "    print(f\"{num3} {smaller_first_two} {larger_first_two}\")\n",
    "elif num3 >= larger_first_two:\n",
    "    print(f\"{smaller_first_two} {larger_first_two} {num3}\")\n",
    "    "
   ]
  },
  {
   "cell_type": "markdown",
   "id": "rapid-afghanistan",
   "metadata": {},
   "source": [
    "# Question : Swapping Two Numbers\n",
    "\n",
    "Swapping Two Numbers\n",
    "Write a program which reads two integers x and y, and prints them in ascending order.\n",
    "\n",
    "    Input\n",
    "    two integer numbers. x and y.\n",
    "\n",
    "    Output\n",
    "    For each dataset, print x and y in ascending order in a line. Put a single space between x and y.\n",
    "\n",
    "    \n",
    "    Constraints\n",
    "    0 ≤ x, y ≤ 10000\n",
    "    the number of datasets ≤ 3000\n",
    "    \n",
    "    Sample Input\n",
    "    3 2\n",
    "    \n",
    "    Sample Output\n",
    "    2 3"
   ]
  },
  {
   "cell_type": "code",
   "execution_count": null,
   "id": "finnish-video",
   "metadata": {},
   "outputs": [],
   "source": [
    "#### Solve here ######\n"
   ]
  },
  {
   "cell_type": "code",
   "execution_count": null,
   "id": "divided-tribune",
   "metadata": {},
   "outputs": [],
   "source": []
  },
  {
   "cell_type": "markdown",
   "id": "twenty-estate",
   "metadata": {},
   "source": [
    "# Solution "
   ]
  },
  {
   "cell_type": "code",
   "execution_count": 10,
   "id": "certified-trainer",
   "metadata": {},
   "outputs": [
    {
     "name": "stdout",
     "output_type": "stream",
     "text": [
      "The value of X is  97\n",
      "The value of Y is 24\n",
      "\n",
      "Now let's swap\n",
      "\n",
      "The value of X is  24\n",
      "The value of Y is 97\n"
     ]
    }
   ],
   "source": [
    "x = 97\n",
    "y = 24\n",
    "temp = 0\n",
    "\n",
    "print(\"The value of X is \",x)\n",
    "print(\"The value of Y is\",y)\n",
    "\n",
    "print()\n",
    "print(\"Now let's swap\")\n",
    "print()\n",
    "\n",
    "temp = 97\n",
    "x = 24\n",
    "y = temp\n",
    "\n",
    "print(\"The value of X is \",x)\n",
    "print(\"The value of Y is\",y)"
   ]
  },
  {
   "cell_type": "markdown",
   "id": "permanent-award",
   "metadata": {},
   "source": [
    "# Question"
   ]
  },
  {
   "cell_type": "code",
   "execution_count": 4,
   "id": "global-malta",
   "metadata": {},
   "outputs": [
    {
     "data": {
      "text/html": [
       "<img src=\"https://github.com/MorraCodes/joe-FinTech-Lessons/blob/main/Capture.PNG?raw=true\"/>"
      ],
      "text/plain": [
       "<IPython.core.display.Image object>"
      ]
     },
     "execution_count": 4,
     "metadata": {},
     "output_type": "execute_result"
    }
   ],
   "source": [
    "from IPython.display import Image\n",
    "from IPython.core.display import HTML \n",
    "Image(url= \"https://github.com/MorraCodes/joe-FinTech-Lessons/blob/main/Capture.PNG?raw=true\")"
   ]
  },
  {
   "cell_type": "code",
   "execution_count": null,
   "id": "prepared-edward",
   "metadata": {},
   "outputs": [],
   "source": []
  },
  {
   "cell_type": "code",
   "execution_count": null,
   "id": "gross-modification",
   "metadata": {},
   "outputs": [],
   "source": [
    "#### Solve here ######"
   ]
  },
  {
   "cell_type": "code",
   "execution_count": null,
   "id": "solar-confidence",
   "metadata": {},
   "outputs": [],
   "source": []
  },
  {
   "cell_type": "markdown",
   "id": "dramatic-hampton",
   "metadata": {},
   "source": [
    "# Solution"
   ]
  },
  {
   "cell_type": "code",
   "execution_count": null,
   "id": "stainless-consumption",
   "metadata": {},
   "outputs": [],
   "source": [
    "x1 = float(input())\n",
    "y1 = float(input())\n",
    "x2 = float(input())\n",
    "y2 = float(input())\n",
    "\n",
    "xs = x2-x1\n",
    "ys = y2-y1\n",
    "\n",
    "ans = (xs**2 + ys**2)**0.5\n",
    "print(ans)\n"
   ]
  },
  {
   "cell_type": "markdown",
   "id": "offensive-hundred",
   "metadata": {},
   "source": [
    "# IF - Statement question : what does this do ?"
   ]
  },
  {
   "cell_type": "code",
   "execution_count": null,
   "id": "aggregate-engine",
   "metadata": {},
   "outputs": [],
   "source": [
    "age = 19\n",
    "isGraduated = False\n",
    "hasLicense = True\n",
    "\n",
    "# Look if person is 18 years or older\n",
    "if age >= 18:\n",
    "    print(\"You're 18 or older. Welcome to adulthood!\")\n",
    "\n",
    "    if isGraduated:\n",
    "        print('Congratulations with your graduation!')\n",
    "    if hasLicense:\n",
    "        print('Happy driving!')"
   ]
  },
  {
   "cell_type": "markdown",
   "id": "historic-change",
   "metadata": {},
   "source": [
    "# Question: Array\n",
    "\n",
    "Create an array with the values [20,34,567,100,1]\n",
    "- Get the length of this array.\n",
    "- get the largest and smallest number in the array.\n",
    "- sort the array. using the .sort() method\n",
    "- append to it the value 55 using the method .append()"
   ]
  },
  {
   "cell_type": "markdown",
   "id": "dressed-ancient",
   "metadata": {},
   "source": [
    "# Question\n",
    "\n",
    "Watch\n",
    "Write a program which reads an integer $S$ [second] and converts it to $h:m:s$ where $h$, $m$, $s$ denote hours, minutes (less than 60) and seconds (less than 60) respectively.\n",
    "\n",
    "Input\n",
    "An integer $S$ is given in a line.\n",
    "\n",
    "Output\n",
    "Print $h$, $m$ and $s$ separated by ':'. You do not need to put '0' for a value, which consists of a digit.\n",
    "\n",
    "Constraints\n",
    "$0 \\leq S \\leq 86400$\n",
    "\n",
    "##### Sample Input 1\n",
    "46979\n",
    "##### Sample Output 1\n",
    "13:2:59\n"
   ]
  },
  {
   "cell_type": "code",
   "execution_count": null,
   "id": "floating-stack",
   "metadata": {},
   "outputs": [],
   "source": []
  },
  {
   "cell_type": "code",
   "execution_count": null,
   "id": "lined-inquiry",
   "metadata": {},
   "outputs": [],
   "source": [
    "#### Solve here ######"
   ]
  },
  {
   "cell_type": "code",
   "execution_count": null,
   "id": "happy-possible",
   "metadata": {},
   "outputs": [],
   "source": []
  },
  {
   "cell_type": "markdown",
   "id": "ceramic-execution",
   "metadata": {},
   "source": [
    "# Solution"
   ]
  },
  {
   "cell_type": "code",
   "execution_count": 19,
   "id": "breathing-boards",
   "metadata": {},
   "outputs": [
    {
     "name": "stdout",
     "output_type": "stream",
     "text": [
      "46979\n",
      "13 2 59\n"
     ]
    }
   ],
   "source": [
    "seconds = int(input())\n",
    "\n",
    "hours = seconds // (60*60)\n",
    "\n",
    "seconds = seconds % (60*60)\n",
    "\n",
    "mins = seconds // 60\n",
    "\n",
    "seconds = seconds % 60\n",
    "\n",
    "print(hours, mins, seconds)\n"
   ]
  },
  {
   "cell_type": "markdown",
   "id": "french-drama",
   "metadata": {},
   "source": [
    "# Refrences"
   ]
  },
  {
   "cell_type": "markdown",
   "id": "dynamic-driving",
   "metadata": {},
   "source": [
    "[1] https://judge.u-aizu.ac.jp/onlinejudge/description.jsp?id=ITP1_2_C\n",
    "\n",
    "[2] https://judge.u-aizu.ac.jp/onlinejudge/description.jsp?id=ITP1_1_D\n",
    "\n",
    "[3] MIT python course\n",
    "\n",
    "[4] https://judge.u-aizu.ac.jp/onlinejudge/description.jsp?id=ITP1_2_C\n",
    "\n",
    "[5] Various other sources.\n",
    "\n",
    "[6]\n",
    "\n",
    "[7]"
   ]
  },
  {
   "cell_type": "code",
   "execution_count": null,
   "id": "angry-surveillance",
   "metadata": {},
   "outputs": [],
   "source": []
  }
 ],
 "metadata": {
  "kernelspec": {
   "display_name": "Python 3",
   "language": "python",
   "name": "python3"
  },
  "language_info": {
   "codemirror_mode": {
    "name": "ipython",
    "version": 3
   },
   "file_extension": ".py",
   "mimetype": "text/x-python",
   "name": "python",
   "nbconvert_exporter": "python",
   "pygments_lexer": "ipython3",
   "version": "3.8.3"
  }
 },
 "nbformat": 4,
 "nbformat_minor": 5
}
