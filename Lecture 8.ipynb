{
 "cells": [
  {
   "cell_type": "markdown",
   "id": "fd585ca1",
   "metadata": {},
   "source": [
    "# Lecture 8\n",
    "\n",
    "Lessons covered Version Control, Software Requirements, Systems Design.\n",
    "\n",
    "- Github & git.\n",
    "- Thinking like a software engineer.\n",
    "- System Design.\n",
    "- Modularization.\n",
    "- Documentation."
   ]
  },
  {
   "cell_type": "markdown",
   "id": "4a7bcb27",
   "metadata": {},
   "source": [
    "# 1. Github."
   ]
  },
  {
   "cell_type": "markdown",
   "id": "5ffce4ab",
   "metadata": {},
   "source": [
    "# Simplified life Cycle.\n",
    "## No change -> Change -> commit that change to local repository -> push to remote repository."
   ]
  },
  {
   "cell_type": "code",
   "execution_count": 1,
   "id": "ac6a6577",
   "metadata": {},
   "outputs": [
    {
     "data": {
      "text/html": [
       "<img src=\"https://courses.bootcampspot.com/courses/800/files/676434/download\"/>"
      ],
      "text/plain": [
       "<IPython.core.display.Image object>"
      ]
     },
     "execution_count": 1,
     "metadata": {},
     "output_type": "execute_result"
    }
   ],
   "source": [
    "from IPython.display import Image\n",
    "from IPython.core.display import HTML \n",
    "Image(url= \"https://courses.bootcampspot.com/courses/800/files/676434/download\")"
   ]
  },
  {
   "cell_type": "markdown",
   "id": "03696d4e",
   "metadata": {},
   "source": [
    "`Remote repo`: To facilitate collaboration, a group project must be synced to a centralized server so that everyone can save a copy when it's updated. When the project is hosted in a GitHub repository, that centralized server is called the remote repository. GitHub is just one of many hosts you can use for your remote repo. Others include GitLab (Links to an external site.), Bitbucket (Links to an external site.), and Gogs (Links to an external site.), which allows you to host your own repository.\n",
    "\n",
    "`Local repo`: This is the local copy of the project containing your changes and version history. Each developer working with the same remote repo will have their own local repo on their machine.\n",
    "\n",
    "`Stage`: Add your most recent changes to the current commit.\n",
    "\n",
    "`Commit`: A commit comprises any number of individual changes that have been grouped together to save all at once.\n",
    "\n",
    "`Push`: Upload your local repo's changes to the remote repo.\n",
    "\n",
    "`Pull`: Download the remote repo's changes to your local repo.\n",
    "\n",
    "`Diff`: Changes between different versions of code files. The act of diffing is to compare two files to show their differences.\n"
   ]
  },
  {
   "cell_type": "code",
   "execution_count": 2,
   "id": "5ff07c6b",
   "metadata": {},
   "outputs": [
    {
     "data": {
      "text/html": [
       "<img src=\"https://courses.bootcampspot.com/courses/800/files/676332/download\"/>"
      ],
      "text/plain": [
       "<IPython.core.display.Image object>"
      ]
     },
     "execution_count": 2,
     "metadata": {},
     "output_type": "execute_result"
    }
   ],
   "source": [
    "Image(url= \"https://courses.bootcampspot.com/courses/800/files/676332/download\")"
   ]
  },
  {
   "cell_type": "markdown",
   "id": "6e6c26ad",
   "metadata": {},
   "source": [
    "# Some commands can be done simply using the Github Desktop UI.\n",
    "git clone <REPO_URL.git>"
   ]
  },
  {
   "cell_type": "markdown",
   "id": "7cf42c30",
   "metadata": {},
   "source": [
    "# Merge Conflicts. :\n",
    "\n",
    "A merge conflict is an event that occurs when Git is unable to automatically resolve differences in code between two commits. When all the changes in the code occur on different lines or in different files, Git will successfully merge commits without your help."
   ]
  },
  {
   "cell_type": "markdown",
   "id": "417bd9ce",
   "metadata": {},
   "source": [
    "# 2. Understanding Business Needs as a Software Engineer.\n",
    "\n",
    "- Identifying software requirements.\n",
    "    - it can take several weeks, or even months, to write a software requirements.\n",
    "\n",
    "- Software engineering defines different approaches to develop a software system, including the waterfall model and agile methodology.\n",
    "    \n",
    "    \n",
    "- To overcome that obstacle and allow developers to deliver faster results, the agile methodology of project management was developed. Now commonly used in software development, it disrupted the industry with its focus on cross-team collaboration and feedback, as well as continual development and testing. One popular agile concept is scrum, a collaborative framework that helps teams solve problems within set time frames and focus on continuous improvement.\n",
    "\n",
    "A `user story` is a concise description of a requirement expressed from the perspective of the person who desires the new feature in a software application. Typically, this person is a user or customer of the system."
   ]
  },
  {
   "cell_type": "markdown",
   "id": "0f1a6043",
   "metadata": {},
   "source": [
    "## Expressing Business Logic as User Stories\n",
    "Imagine that your manager has asked you to create a new piece of software to convert dollars to Bitcoin. This seems like a simple task that you can embrace using your current Python superpowers, right? However, before you start to code, step back and consider the questions that might arise with this task.\n",
    "\n",
    "- \"Create a new piece of software to convert dollars to Bitcoin\"\n",
    "\n",
    "As you consider this requirement, you might ask the following questions:\n",
    "\n",
    "- What kind of dollars do I have to deal with? A dollar is the official currency in several countries, like the USA, Canada, Australia, Hong Kong, and Singapore.\n",
    "\n",
    "- Do I have to fetch the current dollars-to-Bitcoin conversion or the conversion rate from the last 10 days?\n",
    "\n",
    "- What exchange will be my reference?\n",
    "\n",
    "- [Do I need to offer users the option to buy Bitcoin after computing the conversion rate?]"
   ]
  },
  {
   "cell_type": "markdown",
   "id": "01cefa5b",
   "metadata": {},
   "source": [
    "Correct formulation:\n",
    "\n",
    "\"As a finance manager, I want to convert US dollars (USD) to Bitcoin (BTC) so that I can know the current value in BTC of the USD in my wallet.\""
   ]
  },
  {
   "cell_type": "markdown",
   "id": "30243ea0",
   "metadata": {},
   "source": [
    "`Software quality` refers to the mechanisms and techniques used to ensure that a software application fulfills customer requirements and that the customer can trust the software to operate in the business pipeline. \n",
    "\n",
    "\n",
    "# Given [some context], when [some action is carried out], then [a particular set of observable consequences].\n",
    "\n",
    "#### We can break down the three parts of this pattern as follows:\n",
    "\n",
    "- Given: provides the state of the application that triggers an action that needs to be tested or corroborated.\n",
    "\n",
    "- When: describes the particular action that will be tested or the input data that need to be tested via a business rule when the action occurs.\n",
    "\n",
    "- Then: describes either the expected outcome after the action was tested or the output data that should be observed."
   ]
  },
  {
   "cell_type": "markdown",
   "id": "220ee053",
   "metadata": {},
   "source": [
    "# write the code below"
   ]
  },
  {
   "cell_type": "code",
   "execution_count": 3,
   "id": "1fb2bc74",
   "metadata": {},
   "outputs": [],
   "source": [
    "def convert_usd_to_btc(usd_amount):\n",
    "    # Write your code below after erasing the pass keyword.\n",
    "    pass"
   ]
  },
  {
   "cell_type": "markdown",
   "id": "6530419f",
   "metadata": {},
   "source": [
    "# Solution\n",
    "    Let's break down this code as follows:\n",
    "    We define a function named convert_usd_to_btcthat accepts a single integer parameter named usd_amount.\n",
    "    Inside the function, we store a new integer named current_btc_value.\n",
    "    Then we divide usd_amount value by the current_btc_value and return the result."
   ]
  },
  {
   "cell_type": "code",
   "execution_count": 4,
   "id": "5433c543",
   "metadata": {},
   "outputs": [],
   "source": [
    "def convert_usd_to_btc(usd_amount):\n",
    "    current_btc_value = 9670\n",
    "    return usd_amount / current_btc_value\n"
   ]
  },
  {
   "cell_type": "code",
   "execution_count": 5,
   "id": "98006252",
   "metadata": {},
   "outputs": [
    {
     "data": {
      "text/plain": [
       "3.1023784901758016"
      ]
     },
     "execution_count": 5,
     "metadata": {},
     "output_type": "execute_result"
    }
   ],
   "source": [
    "convert_usd_to_btc(30_000)"
   ]
  },
  {
   "cell_type": "markdown",
   "id": "5cb54a9e",
   "metadata": {},
   "source": [
    "# Another solution\n",
    "    There are several ways to rewrite this function. For example, you might want to fetch the live conversion rate from a cryptocurrency exchange—that's a skill you'll learn later in the course. For now, the following example shows another way to rewrite this function by keeping the same business logic:\n"
   ]
  },
  {
   "cell_type": "code",
   "execution_count": 6,
   "id": "80a5d937",
   "metadata": {},
   "outputs": [],
   "source": [
    "def convert_usd_to_btc(usd_amount, btc_value):\n",
    "    return usd_amount / btc_value"
   ]
  },
  {
   "cell_type": "markdown",
   "id": "059a1271",
   "metadata": {},
   "source": [
    "# Problem \n",
    "\"As a lender, I want to calculate the monthly debt-to-income ratio so that we can assess the borrower's ability to pay the loan.\""
   ]
  },
  {
   "cell_type": "code",
   "execution_count": 7,
   "id": "5ab4f4da",
   "metadata": {},
   "outputs": [],
   "source": [
    "def calculate_monthly_debt_ratio():\n",
    "    # solve here and remove the pass keyword.\n",
    "    pass"
   ]
  },
  {
   "cell_type": "markdown",
   "id": "7b8fc729",
   "metadata": {},
   "source": [
    "# Hint\n",
    "\n",
    "From this user story, we can take away the following points:\n",
    "\n",
    "We need a function to calculate the monthly debt ratio, so we'll name the function calculate_monthly_debt_ratio.\n",
    "\n",
    "To calculate a monthly debt ratio, we divide the total recurring monthly debt by gross monthly income. So for this function, we need to define input parameters for these two values, monthly_debt_payment and monthly_income.\n",
    "\n",
    "Ultimately, we need to assess the borrower's ability to pay the loan. This means that after we perform a division operation on the two values, we need to return the result.\n",
    "\n",
    "Putting these all together, we end up with a piece of code that resembles the following example:"
   ]
  },
  {
   "cell_type": "markdown",
   "id": "4d6aa8f0",
   "metadata": {},
   "source": [
    "# Solution"
   ]
  },
  {
   "cell_type": "code",
   "execution_count": 8,
   "id": "e38f9b0b",
   "metadata": {},
   "outputs": [],
   "source": [
    "def calculate_monthly_debt_ratio(monthly_debt_payment, monthly_income):\n",
    "    monthly_debt_ratio = int(monthly_debt_payment) / int(monthly_income)\n",
    "    return monthly_debt_ratio"
   ]
  },
  {
   "cell_type": "markdown",
   "id": "8396bc31",
   "metadata": {},
   "source": [
    "# Building a small program.\n"
   ]
  },
  {
   "cell_type": "code",
   "execution_count": 9,
   "id": "d8d292db",
   "metadata": {},
   "outputs": [
    {
     "data": {
      "text/html": [
       "<img src=\"https://github.com/MorraCodes/joe-FinTech-Lessons/blob/main/FinTechDiagram.png?raw=true\"/>"
      ],
      "text/plain": [
       "<IPython.core.display.Image object>"
      ]
     },
     "execution_count": 9,
     "metadata": {},
     "output_type": "execute_result"
    }
   ],
   "source": [
    "Image(url= \"https://github.com/MorraCodes/joe-FinTech-Lessons/blob/main/FinTechDiagram.png?raw=true\")"
   ]
  },
  {
   "cell_type": "code",
   "execution_count": 10,
   "id": "b4464309",
   "metadata": {},
   "outputs": [],
   "source": [
    "# Initial imports\n",
    "import csv\n",
    "from pathlib import Path\n",
    "\n",
    "\n",
    "# This function loads a CVS file from the filepath defined in `csvpath`\n",
    "def load_csv(csvpath):\n",
    "    with open(csvpath, \"r\") as csvfile:\n",
    "        data = []\n",
    "        csvreader = csv.reader(csvfile, delimiter=\",\")\n",
    "\n",
    "        # Skip the CSV Header\n",
    "        next(csvreader)\n",
    "\n",
    "        # Read the CSV data\n",
    "        for row in csvreader:\n",
    "            data.append(row)\n",
    "    return data\n",
    "\n",
    "\n",
    "# This function loads a CSV file with the list of banks and available loans information\n",
    "# from the file defined in `file_path`\n",
    "def load_bank_data(file_path):\n",
    "    csvpath = Path(file_path)\n",
    "    return load_csv(csvpath)\n",
    "\n",
    "\n",
    "# This function implements the following user story:\n",
    "# As a lender,\n",
    "# I want to calculate the monthly debt-to-income ratio\n",
    "# so that we can assess the ability to pay of the borrower\n",
    "def calculate_monthly_debt_ratio(monthly_debt_payment, monthly_income):\n",
    "    monthly_debt_ratio = int(monthly_debt_payment) / int(monthly_income)\n",
    "    return monthly_debt_ratio\n",
    "\n",
    "\n",
    "# Define a function that implements the following user story:\n",
    "# As a lender,\n",
    "# I want to calculate the loan-to-value ratio\n",
    "# so that we can evaluate the risk of lending money to the borrower\n",
    "def calculate_loan_to_value_ratio(loan_amount, home_value):\n",
    "    loan_to_value_ratio = int(loan_amount) / int(home_value)\n",
    "    return loan_to_value_ratio\n",
    "\n",
    "\n",
    "# This function is the main execution point of the application. It triggers all the business logic.\n",
    "def run():\n",
    "    # Set the file path of the CVS file with the banks and loans information\n",
    "    file_path = Path(\"daily_rate_sheet.csv\")\n",
    "    # Load the latest Bank data\n",
    "    bank_data = load_bank_data(file_path)\n",
    "\n",
    "    # This print statement will display all of the bank data that is provided.\n",
    "    # print(f\"bank_data: {bank_data}\")\n",
    "\n",
    "    # The following lines, set the applicant's information and implements the following user story:\n",
    "    # As a customer,\n",
    "    # I want to provide my financial information\n",
    "    # so that I can apply for a loan\n",
    "    credit_score = 750\n",
    "    debt = 5000\n",
    "    income = 20000\n",
    "    loan_amount = 100000\n",
    "    home_value = 210000\n",
    "\n",
    "    # Calculate the Monthly Debt Ratio\n",
    "    monthly_debt_ratio = calculate_monthly_debt_ratio(debt, income)\n",
    "\n",
    "    print(f\"The monthly deb to income ratio is {monthly_debt_ratio:.02f}.\")\n",
    "\n",
    "    # Calculate the Loan to Value\n",
    "    loan_to_value_ratio = calculate_loan_to_value_ratio(loan_amount, home_value)\n",
    "\n",
    "    print(f\"The loan to value ratio is {loan_to_value_ratio:.02f}.\")\n"
   ]
  },
  {
   "cell_type": "code",
   "execution_count": 11,
   "id": "02e02f69",
   "metadata": {},
   "outputs": [
    {
     "name": "stdout",
     "output_type": "stream",
     "text": [
      "The monthly deb to income ratio is 0.25.\n",
      "The loan to value ratio is 0.48.\n"
     ]
    }
   ],
   "source": [
    "run()"
   ]
  },
  {
   "cell_type": "markdown",
   "id": "7d8e9ded",
   "metadata": {},
   "source": [
    "# 3. System design."
   ]
  },
  {
   "cell_type": "markdown",
   "id": "7f7260de",
   "metadata": {},
   "source": [
    "## Monolithic vs. Modular Applications"
   ]
  },
  {
   "cell_type": "markdown",
   "id": "f06117f1",
   "metadata": {},
   "source": [
    "### Monolithic Applications\n",
    "The term monolithic essentially refers to something that is self-contained. So in software engineering, a monolithic application is one in which all the logic for the system—user interface code, data access code, and data manipulation code—is in one program.|"
   ]
  },
  {
   "cell_type": "markdown",
   "id": "b5153421",
   "metadata": {},
   "source": [
    "### Modular Applications\n",
    "On the other hand, modular applications aren't self-contained and don't make assumptions about the rest of the application—they simply perform a given task or function. In modular programming, application functionality is separated into independent, interchangeable modules.\n",
    "\n",
    "\n",
    "Modular programming techniques benefit developers in the following ways:\n",
    "You can reuse functions throughout the application or other applications without having to retype them.\n",
    "They require less maintenance. In modular programming, when you update something, you only have to update it in one place because modules are independent of one another.\n",
    "Debugging is easier. If there's a problem in your code (especially in a large codebase), it's much easier to find the code affected.\n"
   ]
  },
  {
   "cell_type": "markdown",
   "id": "599c27f4",
   "metadata": {},
   "source": [
    "# Make it modular.\n",
    "You can improve this code by making it more modular in design. Rather than housing all of the functions in one file, you can separate them into files based on when they are accessed by the program and the actions that they perform."
   ]
  },
  {
   "cell_type": "markdown",
   "id": "e37ca361",
   "metadata": {},
   "source": [
    "#### When analyzing a system, consider the following questions:\n",
    "\n",
    "#### What is the starting point?\n",
    "\n",
    "#### Is there a natural hierarchy to the system?\n",
    "\n",
    "#### Can some of the code be grouped by functionality?\n",
    "\n",
    "#### Which code is shared across the codebase?"
   ]
  },
  {
   "cell_type": "markdown",
   "id": "d058320c",
   "metadata": {},
   "source": [
    "# Building a calculator.\n",
    "\n",
    "- 1. First Design.\n",
    "- 2. Code."
   ]
  },
  {
   "cell_type": "code",
   "execution_count": 12,
   "id": "b32bfff2",
   "metadata": {},
   "outputs": [
    {
     "data": {
      "text/html": [
       "<img src=\"https://courses.bootcampspot.com/courses/800/files/676697/download\"/>"
      ],
      "text/plain": [
       "<IPython.core.display.Image object>"
      ]
     },
     "execution_count": 12,
     "metadata": {},
     "output_type": "execute_result"
    }
   ],
   "source": [
    "Image(url= \"https://courses.bootcampspot.com/courses/800/files/676697/download\")"
   ]
  },
  {
   "cell_type": "markdown",
   "id": "843559d8",
   "metadata": {},
   "source": [
    "# Let's start with a Monolithic program."
   ]
  },
  {
   "cell_type": "code",
   "execution_count": 13,
   "id": "c29cbaec",
   "metadata": {},
   "outputs": [
    {
     "name": "stdout",
     "output_type": "stream",
     "text": [
      "Addition: None\n",
      "Subtraction: None\n",
      "Multiplication: None\n",
      "Mean: None\n"
     ]
    }
   ],
   "source": [
    "import statistics\n",
    "\n",
    "\n",
    "def add(num1, num2):\n",
    "    pass\n",
    "\n",
    "\n",
    "def sub(num1, num2):\n",
    "    pass\n",
    "\n",
    "\n",
    "def mul(num1, num2):\n",
    "    pass\n",
    "\n",
    "\n",
    "def mean(numbers):\n",
    "    pass\n",
    "\n",
    "\n",
    "def calculator():\n",
    "\n",
    "    # Define calculator values\n",
    "    a = 2\n",
    "    b = 7\n",
    "    c = 20\n",
    "\n",
    "    # Test Addition\n",
    "    result = add(a, b)\n",
    "    print(f\"Addition: {result}\")\n",
    "\n",
    "    # Test Subtraction\n",
    "    result = sub(a, b)\n",
    "    print(f\"Subtraction: {result}\")\n",
    "\n",
    "    # Test Multiplication\n",
    "    result = mul(a, b)\n",
    "    print(f\"Multiplication: {result}\")\n",
    "\n",
    "    # Test Mean\n",
    "    result = mean([a, b, c])\n",
    "    print(f\"Mean: {result}\")\n",
    "\n",
    "\n",
    "calculator()"
   ]
  },
  {
   "cell_type": "markdown",
   "id": "ad97d197",
   "metadata": {},
   "source": [
    "# Solution"
   ]
  },
  {
   "cell_type": "code",
   "execution_count": 14,
   "id": "d38ce354",
   "metadata": {},
   "outputs": [
    {
     "name": "stdout",
     "output_type": "stream",
     "text": [
      "Addition: 9\n",
      "Subtraction: -5\n",
      "Multiplication: 14\n",
      "Mean: 9.666666666666666\n"
     ]
    }
   ],
   "source": [
    "import statistics\n",
    "\n",
    "\n",
    "def add(num1, num2):\n",
    "    return num1 + num2\n",
    "\n",
    "\n",
    "def sub(num1, num2):\n",
    "    return num1 - num2\n",
    "\n",
    "\n",
    "def mul(num1, num2):\n",
    "    return num1 * num2\n",
    "\n",
    "\n",
    "def mean(numbers):\n",
    "    return statistics.mean(numbers)\n",
    "\n",
    "\n",
    "def calculator():\n",
    "\n",
    "    # Define calculator values\n",
    "    a = 2\n",
    "    b = 7\n",
    "    c = 20\n",
    "\n",
    "    # Test Addition\n",
    "    result = add(a, b)\n",
    "    print(f\"Addition: {result}\")\n",
    "\n",
    "    # Test Subtraction\n",
    "    result = sub(a, b)\n",
    "    print(f\"Subtraction: {result}\")\n",
    "\n",
    "    # Test Multiplication\n",
    "    result = mul(a, b)\n",
    "    print(f\"Multiplication: {result}\")\n",
    "\n",
    "    # Test Mean\n",
    "    result = mean([a, b, c])\n",
    "    print(f\"Mean: {result}\")\n",
    "\n",
    "\n",
    "calculator()"
   ]
  },
  {
   "cell_type": "markdown",
   "id": "8493ed7e",
   "metadata": {},
   "source": [
    "# From Monolithic to Modular"
   ]
  },
  {
   "cell_type": "code",
   "execution_count": 15,
   "id": "7b188bbb",
   "metadata": {},
   "outputs": [
    {
     "data": {
      "text/plain": [
       "3"
      ]
     },
     "execution_count": 15,
     "metadata": {},
     "output_type": "execute_result"
    }
   ],
   "source": [
    "from lecture8.new_functions import add\n",
    "add(1,2)"
   ]
  },
  {
   "cell_type": "code",
   "execution_count": 16,
   "id": "efa6ab4c",
   "metadata": {},
   "outputs": [],
   "source": [
    "from lecture8 import new_functions"
   ]
  },
  {
   "cell_type": "code",
   "execution_count": 17,
   "id": "61beb0f3",
   "metadata": {},
   "outputs": [
    {
     "data": {
      "text/plain": [
       "3"
      ]
     },
     "execution_count": 17,
     "metadata": {},
     "output_type": "execute_result"
    }
   ],
   "source": [
    "new_functions.add(1,2)"
   ]
  },
  {
   "cell_type": "code",
   "execution_count": 18,
   "id": "25a3f4bc",
   "metadata": {},
   "outputs": [
    {
     "name": "stdout",
     "output_type": "stream",
     "text": [
      "Addition: 9\n",
      "Subtraction: -5\n",
      "Multiplication: 14\n",
      "Mean: 9.666666666666666\n"
     ]
    }
   ],
   "source": [
    "import statistics\n",
    "from lecture8 import new_functions\n",
    "\n",
    "\n",
    "def calculator():\n",
    "\n",
    "    # Define calculator values\n",
    "    a = 2\n",
    "    b = 7\n",
    "    c = 20\n",
    "\n",
    "    # Test Addition\n",
    "    result = new_functions.add(a, b)\n",
    "    print(f\"Addition: {result}\")\n",
    "\n",
    "    # Test Subtraction\n",
    "    result = new_functions.sub(a, b)\n",
    "    print(f\"Subtraction: {result}\")\n",
    "\n",
    "    # Test Multiplication\n",
    "    result = new_functions.mul(a, b)\n",
    "    print(f\"Multiplication: {result}\")\n",
    "\n",
    "    # Test Mean\n",
    "    result = new_functions.mean([a, b, c])\n",
    "    print(f\"Mean: {result}\")\n",
    "\n",
    "\n",
    "calculator()"
   ]
  },
  {
   "cell_type": "markdown",
   "id": "1087632c",
   "metadata": {},
   "source": [
    "# Documentation\n",
    "## Docstrings"
   ]
  },
  {
   "cell_type": "code",
   "execution_count": 22,
   "id": "9b757d47",
   "metadata": {},
   "outputs": [],
   "source": [
    "def example_function(arg1, arg2):\n",
    "    \"\"\"Example function description.\n",
    "\n",
    "    Args:\n",
    "        arg1 (int): Description of arg1.\n",
    "        arg2 (int): Description of arg2.\n",
    "\n",
    "    Returns:\n",
    "        output (int): Description of return value.\n",
    "    \"\"\"\n",
    "    return output"
   ]
  },
  {
   "cell_type": "markdown",
   "id": "97c70499",
   "metadata": {},
   "source": [
    "# Refrences.\n",
    "- [1] https://courses.bootcampspot.com/courses/800/pages/2-dot-1-7-merge-conflicts?module_item_id=234665\n",
    "\n",
    "- [2]https://www.gitkraken.com/learn/git/tutorials/how-to-resolve-merge-conflict-in-git#:~:text=A%20merge%20conflict%20is%20an,merge%20commits%20without%20your%20help.\n",
    " "
   ]
  }
 ],
 "metadata": {
  "kernelspec": {
   "display_name": "Python 3 (ipykernel)",
   "language": "python",
   "name": "python3"
  },
  "language_info": {
   "codemirror_mode": {
    "name": "ipython",
    "version": 3
   },
   "file_extension": ".py",
   "mimetype": "text/x-python",
   "name": "python",
   "nbconvert_exporter": "python",
   "pygments_lexer": "ipython3",
   "version": "3.8.10"
  }
 },
 "nbformat": 4,
 "nbformat_minor": 5
}
