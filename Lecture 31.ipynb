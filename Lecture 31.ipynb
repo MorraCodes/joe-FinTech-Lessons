{
 "cells": [
  {
   "cell_type": "markdown",
   "id": "9f4a9667",
   "metadata": {},
   "source": [
    "# Introduction.\n",
    "\n",
    "So far, you’ve accessed data via CSV files, Pandas DataFrames, and APIs. In this module, you’ll upgrade your data management skills by working with another method of data storage and organization: databases. Using a combination of Python, Pandas, and Structured Query Language (SQL), you’ll interact with databases to do analysis tasks and to create sophisticated financial applications.\n",
    "\n",
    "Review the following video to learn more about what to expect this week:\n",
    "\n",
    "# Roadmap\n",
    "\n",
    "- Use SQL and Pandas to access stock data from a database and create DataFrames.\n",
    "- Write advanced SQL statements that optimize the process of accessing the data that you need for the analysis.\n",
    "- Create a web application that displays the results of your analysis by using the Voilà Python library.\n",
    "\n",
    "# Why This Matters.\n",
    "\n",
    "People often store and access financial data that resides in databases. SQL has become the standard for querying data—that is, requesting or inquiring about data—from the most commonly used databases in finance. These databases include Microsoft SQL Server, PostgreSQL, MariaDB, and MySQL.\n",
    "\n",
    "Knowing how to use SQL along with Python will give you an advantage among fintech professionals. Getting and manipulating data via databases and building applications that use databases are invaluable and sophisticated skills.\n",
    "\n",
    "# What You Will Learn\n",
    "\n",
    "By the end of this module, you’ll be able to:\n",
    "\n",
    "- Perform key database operations (specifically, create, read, update, and delete operations) by using SQL.\n",
    "\n",
    "- Write advanced database queries by using SQL.\n",
    "\n",
    "- Build complete financial applications by using SQL and Python.\n",
    "\n",
    "- Deploy a financial application to the web to share your analysis with others."
   ]
  },
  {
   "cell_type": "markdown",
   "id": "fd12dcc7",
   "metadata": {},
   "source": [
    "# Installation.\n",
    "\n",
    "In this Getting Started guide, you’ll set up the tools that you need for this module, which include:\n",
    "\n",
    "- SQLAlchemy\n",
    "\n",
    "- Voilà\n",
    "\n",
    "Let’s start with SQLAlchemy.\n"
   ]
  },
  {
   "cell_type": "markdown",
   "id": "dfd526d2",
   "metadata": {},
   "source": [
    "## Install SQLAlchemy\n",
    "\n",
    "SQLAlchemy is an open-source SQL library for Python. It’s designed to ease the communication between Python-based programs and databases. The SQLAlchemy library should have installed on your computer as part of the Anaconda download.\n",
    "\n",
    "To confirm that SQLAlchemy installed in your Conda dev environment, open a terminal window, and then complete the following steps:\n",
    "\n",
    "`Activate your Conda dev environment`.\n",
    "\n",
    "Run the following command:\n",
    "\n",
    "`conda list sqlalchemy`\n",
    "\n",
    "If SQLAlchemy is already installed, sqlalchemy and its version number will display in your terminal, as the following image shows. In this case, you don’t need to do anything further for SQLAlchemy. Move to the next section to install Voilà.\n",
    "\n",
    "`pip install SQLAlchemy`\n",
    "\n",
    "\n",
    "\n",
    "`conda list sqlalchemy`"
   ]
  },
  {
   "cell_type": "markdown",
   "id": "ac5b4f2b",
   "metadata": {},
   "source": [
    "# Install Voilà\n",
    "With Voilà, a Python library, you can convert a Jupyter notebook into a live webpage. You’ll need this library later in the module when you create web applications that use databases.\n",
    "\n",
    "`conda install -c conda-forge voila`"
   ]
  },
  {
   "cell_type": "markdown",
   "id": "09b2bf7d",
   "metadata": {},
   "source": [
    "# Introduction to Financial Databases.\n",
    "\n",
    "In finance, vast amounts of data—from credit card transactions to stock data to 401(k) transactions—are generated and stored every day. Because of the speed, size, and dynamic nature of this data, companies need tools to store and access the data in an organized way. They do this through repositories known as databases. Companies use financial databases in particular to build all sorts of financial applications and APIs.\n",
    "\n",
    "With financial databases, companies can store, organize, and analyze large amounts of data. SQL is a language that was designed to help manage and analyze data that’s in databases. We can also use it with Python to build applications that interact with databases. SQL has become a standard language for people in roles that involve working with data, such as data engineers, data analysts, and data modelers.\n",
    "\n",
    "In this lesson, you’ll learn how to create and use financial databases with SQL and Python."
   ]
  },
  {
   "cell_type": "markdown",
   "id": "7368a1da",
   "metadata": {},
   "source": [
    "# Databases vs. DataFrames.\n",
    "\n",
    "To understand databases, let's first discuss CSV files and DataFrames.\n",
    "\n",
    "So far, you’ve worked a lot with CSV files—which are text files that store comma-separated values in a row-and-column format. This is called tabular data, which offers an excellent way to store a small amount of data that doesn't change much. However, you've observed the dynamic and varied nature of financial data. Text files just aren't sufficient for analyzing or working with dynamic data.\n",
    "\n",
    "The Pandas developers realized that financial technologists needed more dynamic ways to access and work with data. So, they created a data container in Python called the DataFrame—which you’ve also worked with extensively. A DataFrame stores the rows and columns of CSV data in a container that many tools can access. These tools help us manipulate and analyze the data. Databases are thus like Pandas DataFrames in that they’re designed to store, access, and analyze data. Unlike Pandas DataFrames, however, databases exist outside Python.\n",
    "\n",
    "# Types of Databases.\n",
    "\n",
    "Databases offer a wide range of benefits. These include the ability to handle vast amounts of data and to spread across many computers and networks (which is often referred to as the cloud).\n",
    "\n",
    "Although several database structures exist, the financial sector most commonly uses `relational databases` and `NoSQL `databases.\n",
    "#### Note\n",
    "People consider a relational database the most mature of all the database structures. In a relational database, every piece of information has a relationship with every other piece. Additionally, a relational database stores data records as tables, with every table consisting of rows and columns. The rows in a single table relate to each other via a primary key. The tables relate to each other via a foreign key. Because of the formal organizational structure of relational databases, people can understand and navigate them by using a query language like SQL.\n",
    "\n",
    "A NoSQL database doesn’t keep data in tables. Rather, it uses a simpler, horizontal design. Specifically, it keeps data in documents. When a document is added to the database, it’s assigned an identification number, or key. The key can then be used to access that document. Because of its less rigid structure, people consider NoSQL databases more flexible than relational databases. And NoSQL databases often exhibit a faster querying time. The downside is that the less rigid structure can more easily result in duplicated or missing data.\n",
    "\n",
    "Besides relational and NoSQL databases, centralized, distributed, cloud, and object-oriented databases exist. You can explore all of these in more detail in the Tutorials Point database tutorial\n",
    "-------------------------------------------------------------------------------------------------------------------------------\n",
    "\n",
    "While many types of databases exist, we’ll focus on relational databases. This type of database stores its data in a table format (that is, in rows and columns).\n",
    "\n",
    "The best way to learn how to interact with a database is to use Python and SQL. In this lesson, we’ll work with a database called SQLite, which we can interact with via Python. However, you can apply the skills that you learn to any relational database, including PostgreSQL, MySQL, and cloud databases.\n",
    "\n",
    "Let’s get started working with financial databases!\n",
    "---------------------------------------------------------------------------------------------------------------------------------\n",
    "\n"
   ]
  },
  {
   "cell_type": "markdown",
   "id": "934ae9d2",
   "metadata": {},
   "source": [
    "In a professional fintech environment, you’ll likely access databases via the firm’s computer network or the internet. The latter will likely be the case if a cloud infrastructure, like Amazon Web Services (AWS) or Microsoft Azure, stores the database. However, it’s also possible to mimic the functionality of a financial database on your local computer. To do this, you can use the SQLAlchemy Python library. This library facilitates the communication between a Python program and a database that you create from a Jupyter notebook. As always, you begin by importing the library.\n",
    "\n",
    "## Import SQLAlchemy\n",
    "Because databases exist outside Python, we need to import a new tool that allows us to communicate with those databases. Specifically, we’ll use the SQLAlchemy library.\n",
    "\n",
    "To import the SQLAlchemy library into a Jupyter notebook, we run the following code:"
   ]
  },
  {
   "cell_type": "code",
   "execution_count": 1,
   "id": "b20e47a0",
   "metadata": {},
   "outputs": [],
   "source": [
    "import pandas as pd\n",
    "\n",
    "\n",
    "import sqlalchemy"
   ]
  },
  {
   "cell_type": "markdown",
   "id": "697a5a23",
   "metadata": {},
   "source": [
    "Next, we need a way in Python to interact with the database. To do this, we’ll use SQLAlchemy to create an engine."
   ]
  },
  {
   "cell_type": "markdown",
   "id": "a36d2b6d",
   "metadata": {},
   "source": [
    "# Create a Database Engine.\n",
    "\n",
    "An engine is a tool that can communicate with our database. Think of it as a smart connection that knows the dialect, or type, of database that we have and how to connect and interact with it.\n",
    "\n",
    "First, we need to define a connection string to connect to our database. The connection string tells the engine the type of database that we’re using and other important connection details, like a password, server name, port number, or IP address.\n",
    "\n",
    "We’ll assign a value to the connection string that creates a temporary SQLite database, as the following code shows (in this case, the connection string doesn’t require additional connection details):"
   ]
  },
  {
   "cell_type": "markdown",
   "id": "abddfcd3",
   "metadata": {},
   "source": [
    "# Set the connection and create the engine."
   ]
  },
  {
   "cell_type": "code",
   "execution_count": 2,
   "id": "ad337a87",
   "metadata": {},
   "outputs": [
    {
     "data": {
      "text/plain": [
       "Engine(sqlite:///)"
      ]
     },
     "execution_count": 2,
     "metadata": {},
     "output_type": "execute_result"
    }
   ],
   "source": [
    "# Create a temporary sqlite database\n",
    "database_connection_string = 'sqlite:///'\n",
    "\n",
    "engine = sqlalchemy.create_engine(database_connection_string)\n",
    "engine"
   ]
  },
  {
   "cell_type": "markdown",
   "id": "23f090f3",
   "metadata": {},
   "source": [
    "# use the engine to get the names of table data."
   ]
  },
  {
   "cell_type": "code",
   "execution_count": 3,
   "id": "7183e4bd",
   "metadata": {},
   "outputs": [
    {
     "name": "stderr",
     "output_type": "stream",
     "text": [
      "C:\\Users\\omarm\\AppData\\Local\\Temp/ipykernel_12512/4162273999.py:1: SADeprecationWarning: The Engine.table_names() method is deprecated and will be removed in a future release.  Please refer to Inspector.get_table_names(). (deprecated since: 1.4)\n",
      "  engine.table_names()\n"
     ]
    },
    {
     "data": {
      "text/plain": [
       "[]"
      ]
     },
     "execution_count": 3,
     "metadata": {},
     "output_type": "execute_result"
    }
   ],
   "source": [
    "# Get table names.\n",
    "engine.table_names()"
   ]
  },
  {
   "cell_type": "markdown",
   "id": "03a522a2",
   "metadata": {},
   "source": [
    "Oops! The empty brackets indicate that no tables exist. This makes sense, because we haven’t yet created any. So, let’s create a Pandas DataFrame to represent a table. We’ll name the DataFrame stocks_dataframe and give it two columns, “AAPL” and “GOOG”, that contain fictional pricing data. The following code captures all this:"
   ]
  },
  {
   "cell_type": "code",
   "execution_count": 4,
   "id": "12ff57ce",
   "metadata": {},
   "outputs": [
    {
     "data": {
      "text/html": [
       "<div>\n",
       "<style scoped>\n",
       "    .dataframe tbody tr th:only-of-type {\n",
       "        vertical-align: middle;\n",
       "    }\n",
       "\n",
       "    .dataframe tbody tr th {\n",
       "        vertical-align: top;\n",
       "    }\n",
       "\n",
       "    .dataframe thead th {\n",
       "        text-align: right;\n",
       "    }\n",
       "</style>\n",
       "<table border=\"1\" class=\"dataframe\">\n",
       "  <thead>\n",
       "    <tr style=\"text-align: right;\">\n",
       "      <th></th>\n",
       "      <th>AAPL</th>\n",
       "      <th>GOOG</th>\n",
       "    </tr>\n",
       "  </thead>\n",
       "  <tbody>\n",
       "    <tr>\n",
       "      <th>0</th>\n",
       "      <td>1</td>\n",
       "      <td>3</td>\n",
       "    </tr>\n",
       "    <tr>\n",
       "      <th>1</th>\n",
       "      <td>2</td>\n",
       "      <td>4</td>\n",
       "    </tr>\n",
       "  </tbody>\n",
       "</table>\n",
       "</div>"
      ],
      "text/plain": [
       "   AAPL  GOOG\n",
       "0     1     3\n",
       "1     2     4"
      ]
     },
     "execution_count": 4,
     "metadata": {},
     "output_type": "execute_result"
    }
   ],
   "source": [
    "stocks_dataframe = pd.DataFrame({'AAPL': [1, 2], 'GOOG': [3, 4]})\n",
    "stocks_dataframe"
   ]
  },
  {
   "cell_type": "markdown",
   "id": "9390a18a",
   "metadata": {},
   "source": [
    "# put data in the database."
   ]
  },
  {
   "cell_type": "markdown",
   "id": "d13c40cb",
   "metadata": {},
   "source": [
    "Next, we’ll use this DataFrame to create a table of data in the SQLite database. To do so, we’ll use the `to_sql` function. This function accepts a table name and a database engine and then converts the Pandas DataFrame to a database table, as the following code shows:"
   ]
  },
  {
   "cell_type": "markdown",
   "id": "22638959",
   "metadata": {},
   "source": [
    "### From DataFrame to DataBase"
   ]
  },
  {
   "cell_type": "code",
   "execution_count": null,
   "id": "f5427687",
   "metadata": {},
   "outputs": [],
   "source": [
    "stocks_dataframe.to_sql('stocks', engine)"
   ]
  },
  {
   "cell_type": "markdown",
   "id": "2ce1d3d7",
   "metadata": {},
   "source": [
    "Let's query the database engine again to make sure that the table now exists.\n",
    "People often use the term query when referring to a SQL database. A database query can refer to either a select query or an action query. A select query requests information from a database. An action query requests that the database apply an action—such as an addition, update, or deletion—to its information. People also use the term query to refer to any SQL statement that the database engine acts on. We’ll cover specific queries later in this module."
   ]
  },
  {
   "cell_type": "code",
   "execution_count": 7,
   "id": "cc075a69",
   "metadata": {},
   "outputs": [
    {
     "name": "stderr",
     "output_type": "stream",
     "text": [
      "C:\\Users\\omarm\\AppData\\Local\\Temp/ipykernel_12512/4162273999.py:1: SADeprecationWarning: The Engine.table_names() method is deprecated and will be removed in a future release.  Please refer to Inspector.get_table_names(). (deprecated since: 1.4)\n",
      "  engine.table_names()\n"
     ]
    },
    {
     "data": {
      "text/plain": [
       "['stocks']"
      ]
     },
     "execution_count": 7,
     "metadata": {},
     "output_type": "execute_result"
    }
   ],
   "source": [
    "engine.table_names()"
   ]
  },
  {
   "cell_type": "markdown",
   "id": "fe5f92a4",
   "metadata": {},
   "source": [
    "Do you wonder where the database is and how to get data from it? Currently, your SQLite database resides in your computer’s memory—but only temporarily. As soon as you close your Jupyter notebook, the database will disappear. If you want to save the database to access it in the future, you can specify a file name, such as `sqlite:///mydatabase.db`. which will reside on your computer's hard drive. But for now, it’s easier to use the temporary in-memory database, sqlite:///."
   ]
  },
  {
   "cell_type": "markdown",
   "id": "02352535",
   "metadata": {},
   "source": [
    "We now have a table named `stocks`in our SQLite database. In the next section, we’ll read the table from the database and use the information to create a Pandas DataFrame.\n",
    "\n",
    "# Read a Table into a DataFrame\n",
    "\n",
    "The stocks table in our database originated from a Pandas DataFrame named stocks_dataframe that we created. Let’s now erase our knowledge of the original DataFrame—that is, pretend that stocks_dataframe never existed; but let's accept that the populated stocks table already exists. So, we’re observing the stocks table in the database for the first time. How do we create a Pandas DataFrame from this table?\n",
    "\n",
    "We can read any database table into a Pandas DataFrame by using the read_sql_table function and specifying the name of the table—in this case, stocks. We also need to tell Pandas to use our engine as the connection to the database by setting the con=engine parameter. The following code shows these steps:"
   ]
  },
  {
   "cell_type": "markdown",
   "id": "78b8af9a",
   "metadata": {},
   "source": [
    "## From DataBase to DataFrame."
   ]
  },
  {
   "cell_type": "code",
   "execution_count": 9,
   "id": "14771230",
   "metadata": {},
   "outputs": [
    {
     "data": {
      "text/html": [
       "<div>\n",
       "<style scoped>\n",
       "    .dataframe tbody tr th:only-of-type {\n",
       "        vertical-align: middle;\n",
       "    }\n",
       "\n",
       "    .dataframe tbody tr th {\n",
       "        vertical-align: top;\n",
       "    }\n",
       "\n",
       "    .dataframe thead th {\n",
       "        text-align: right;\n",
       "    }\n",
       "</style>\n",
       "<table border=\"1\" class=\"dataframe\">\n",
       "  <thead>\n",
       "    <tr style=\"text-align: right;\">\n",
       "      <th></th>\n",
       "      <th>index</th>\n",
       "      <th>AAPL</th>\n",
       "      <th>GOOG</th>\n",
       "    </tr>\n",
       "  </thead>\n",
       "  <tbody>\n",
       "    <tr>\n",
       "      <th>0</th>\n",
       "      <td>0</td>\n",
       "      <td>1</td>\n",
       "      <td>3</td>\n",
       "    </tr>\n",
       "    <tr>\n",
       "      <th>1</th>\n",
       "      <td>1</td>\n",
       "      <td>2</td>\n",
       "      <td>4</td>\n",
       "    </tr>\n",
       "  </tbody>\n",
       "</table>\n",
       "</div>"
      ],
      "text/plain": [
       "   index  AAPL  GOOG\n",
       "0      0     1     3\n",
       "1      1     2     4"
      ]
     },
     "execution_count": 9,
     "metadata": {},
     "output_type": "execute_result"
    }
   ],
   "source": [
    "sql_stocks_df = pd.read_sql_table('stocks', con=engine)\n",
    "sql_stocks_df"
   ]
  },
  {
   "cell_type": "markdown",
   "id": "13899606",
   "metadata": {},
   "source": [
    "Notice the index column. When we originally created the database table, we didn’t tell SQL to ignore the index of the DataFrame. So, it created a column in the database table to store the index. While this can prove helpful if the index contains important information (such as a date or a customer ID number), the information in this index column doesn’t add any value. We can remove the index column by setting the `index` parameter of the `to_sql` function to `False`.\n",
    "\n",
    "We’ll also add an `if_exists` parameter to the `to_sql` function and set its value to `replace`. This will remove the existing stocks table from the database and replace it with the current information. If we don’t set this parameter, we’ll receive an error message indicating that a table with the name stocks already exists. In this case, the database won’t take any further action. But by setting if_exists to replace, we remove the original stocks table and replace it with the new, index-free version."
   ]
  },
  {
   "cell_type": "code",
   "execution_count": 10,
   "id": "0735662e",
   "metadata": {},
   "outputs": [
    {
     "data": {
      "text/html": [
       "<div>\n",
       "<style scoped>\n",
       "    .dataframe tbody tr th:only-of-type {\n",
       "        vertical-align: middle;\n",
       "    }\n",
       "\n",
       "    .dataframe tbody tr th {\n",
       "        vertical-align: top;\n",
       "    }\n",
       "\n",
       "    .dataframe thead th {\n",
       "        text-align: right;\n",
       "    }\n",
       "</style>\n",
       "<table border=\"1\" class=\"dataframe\">\n",
       "  <thead>\n",
       "    <tr style=\"text-align: right;\">\n",
       "      <th></th>\n",
       "      <th>AAPL</th>\n",
       "      <th>GOOG</th>\n",
       "    </tr>\n",
       "  </thead>\n",
       "  <tbody>\n",
       "    <tr>\n",
       "      <th>0</th>\n",
       "      <td>1</td>\n",
       "      <td>3</td>\n",
       "    </tr>\n",
       "    <tr>\n",
       "      <th>1</th>\n",
       "      <td>2</td>\n",
       "      <td>4</td>\n",
       "    </tr>\n",
       "  </tbody>\n",
       "</table>\n",
       "</div>"
      ],
      "text/plain": [
       "   AAPL  GOOG\n",
       "0     1     3\n",
       "1     2     4"
      ]
     },
     "execution_count": 10,
     "metadata": {},
     "output_type": "execute_result"
    }
   ],
   "source": [
    "# to put in the database and replace any old tables.\n",
    "stocks_dataframe.to_sql('stocks', engine, index=False, if_exists='replace')\n",
    "\n",
    "# to read it and see the results of the table.\n",
    "sql_stocks_df = pd.read_sql_table('stocks', con=engine)\n",
    "\n",
    "# table -> Df\n",
    "sql_stocks_df"
   ]
  },
  {
   "cell_type": "markdown",
   "id": "9cdbb098",
   "metadata": {},
   "source": [
    "The result is a new version of our sql_stocks_df DataFrame, as the following image shows.\n",
    "Nice! We can now interact with databases by using Python—without having to worry about SQL. So, we’ll do everything with Pandas. Well, unless the database tables are too large to transfer across the network. Or if a database resides in the cloud so is optimized for cloud computing. In these cases, we might want to use SQL—so let’s explore it, after all."
   ]
  },
  {
   "cell_type": "markdown",
   "id": "f3518074",
   "metadata": {},
   "source": [
    "Nice! We can now interact with databases by using Python—without having to worry about SQL. So, we’ll do everything with Pandas. Well, unless the database tables are too large to transfer across the network. Or if a database resides in the cloud so is optimized for cloud computing. In these cases, we might want to use SQL—so let’s explore it, after all."
   ]
  },
  {
   "cell_type": "markdown",
   "id": "2b440ae4",
   "metadata": {},
   "source": [
    "# SQL: Executing Raw SQL Queries"
   ]
  },
  {
   "cell_type": "markdown",
   "id": "873cf73e",
   "metadata": {},
   "source": [
    "Unfortunately, we can't do everything with pure Python and Pandas. Sometimes, writing and executing SQL queries directly on our databases proves advantageous. After all, it’s called Structured Query Language, so it’s designed to directly interact with databases.\n",
    "\n",
    "In this lesson, we’ll execute raw SQL queries through our SQLAlchemy engine. This will ease switching between Python and SQL so that we can get the best of both worlds!\n",
    "\n",
    "# What’s CRUD?\n",
    "CRUD is an acronym that stands for \n",
    "- Create \n",
    "- Read\n",
    "- Update \n",
    "- Delete. \n",
    "\n",
    "If you learn these four operations, you can build just about any application that uses SQL and databases.Let’s start with the first one: create."
   ]
  },
  {
   "cell_type": "markdown",
   "id": "14d3fa0b",
   "metadata": {},
   "source": [
    "Let’s review how Pandas created our stocks table. If we change our engine to echo, or display, the SQL code back in the notebook, we’ll get the raw SQL that created the table. To do this, we’ll create a new engine and set `echo=True`, as the following code shows:"
   ]
  },
  {
   "cell_type": "code",
   "execution_count": 11,
   "id": "174effae",
   "metadata": {},
   "outputs": [],
   "source": [
    "# Create a temporary sqlite database\n",
    "database_connection_string = 'sqlite:///'\n",
    "\n",
    "# Create the database engine\n",
    "engine = sqlalchemy.create_engine(\n",
    "    database_connection_string,\n",
    "    echo=True\n",
    ")"
   ]
  },
  {
   "cell_type": "code",
   "execution_count": 12,
   "id": "2c2f8435",
   "metadata": {},
   "outputs": [
    {
     "name": "stdout",
     "output_type": "stream",
     "text": [
      "2021-11-18 19:01:35,778 INFO sqlalchemy.engine.Engine PRAGMA main.table_info(\"stocks\")\n",
      "2021-11-18 19:01:35,779 INFO sqlalchemy.engine.Engine [raw sql] ()\n",
      "2021-11-18 19:01:35,780 INFO sqlalchemy.engine.Engine PRAGMA temp.table_info(\"stocks\")\n",
      "2021-11-18 19:01:35,781 INFO sqlalchemy.engine.Engine [raw sql] ()\n",
      "2021-11-18 19:01:35,783 INFO sqlalchemy.engine.Engine BEGIN (implicit)\n",
      "2021-11-18 19:01:35,783 INFO sqlalchemy.engine.Engine \n",
      "CREATE TABLE stocks (\n",
      "\t\"AAPL\" BIGINT, \n",
      "\t\"GOOG\" BIGINT\n",
      ")\n",
      "\n",
      "\n",
      "2021-11-18 19:01:35,784 INFO sqlalchemy.engine.Engine [no key 0.00040s] ()\n",
      "2021-11-18 19:01:35,784 INFO sqlalchemy.engine.Engine COMMIT\n",
      "2021-11-18 19:01:35,785 INFO sqlalchemy.engine.Engine BEGIN (implicit)\n",
      "2021-11-18 19:01:35,786 INFO sqlalchemy.engine.Engine INSERT INTO stocks (\"AAPL\", \"GOOG\") VALUES (?, ?)\n",
      "2021-11-18 19:01:35,787 INFO sqlalchemy.engine.Engine [generated in 0.00060s] ((1, 3), (2, 4))\n",
      "2021-11-18 19:01:35,788 INFO sqlalchemy.engine.Engine COMMIT\n"
     ]
    }
   ],
   "source": [
    "stocks_dataframe.to_sql('stocks', engine, index=False, if_exists='replace')"
   ]
  },
  {
   "cell_type": "markdown",
   "id": "5c8c1fde",
   "metadata": {},
   "source": [
    "Whoa! A lot displays, but we need to pay attention to only a couple of things.\n",
    "\n",
    "First, the following SQL statement creates the table:"
   ]
  },
  {
   "cell_type": "code",
   "execution_count": null,
   "id": "4914a148",
   "metadata": {},
   "outputs": [],
   "source": [
    "CREATE TABLE stocks (\n",
    "    \"AAPL\" BIGINT,\n",
    "    \"GOOG\" BIGINT\n",
    ")"
   ]
  },
  {
   "cell_type": "markdown",
   "id": "15b39a31",
   "metadata": {},
   "source": [
    "This is the raw SQL statement—specifically, the CREATE TABLE statement—that creates the empty table.\n",
    "\n",
    "Let’s closely examine the structure of this statement. The code block starts with the CREATE TABLE SQL syntax, and the table name and a set of parentheses follows. Inside the parentheses is the name for each column in the table along with the data type of the information that the column will contain.\n",
    "\n",
    "Now, consider the following basic syntax of the CREATE TABLE statement:"
   ]
  },
  {
   "cell_type": "markdown",
   "id": "8d4049c3",
   "metadata": {},
   "source": [
    "We can apply this syntax to the SQL statement that created our stocks table. Our statement told the database to create a table named stocks that has columns named “AAPL” and “GOOG”. An unfamiliar term, BIGINT, represents the data type for the column values. It means big integers."
   ]
  },
  {
   "cell_type": "code",
   "execution_count": null,
   "id": "3ec9c333",
   "metadata": {},
   "outputs": [],
   "source": [
    "INSERT INTO stocks (\"AAPL\", \"GOOG\") VALUES (112, 653)"
   ]
  },
  {
   "cell_type": "markdown",
   "id": "9811b908",
   "metadata": {},
   "source": [
    "# Create a Table via a Raw SQL Statement\n",
    "\n",
    "Let's first create the SQL statement as a multiline string so that we can use it more easily in Python. To create a multiline string in Python, we use the f-string format with triple quotes. The following code shows our SQL statement as a multiline string in Python:"
   ]
  },
  {
   "cell_type": "code",
   "execution_count": 15,
   "id": "31b32b8c",
   "metadata": {},
   "outputs": [
    {
     "data": {
      "text/plain": [
       "'\\nCREATE TABLE stocks (\\n    \"AAPL\" BIGINT,\\n    \"GOOG\" BIGINT\\n)\\n'"
      ]
     },
     "execution_count": 15,
     "metadata": {},
     "output_type": "execute_result"
    }
   ],
   "source": [
    "create_table = \n",
    "\"\"\"\n",
    "CREATE TABLE stocks (\n",
    "    \"AAPL\" BIGINT,\n",
    "    \"GOOG\" BIGINT\n",
    ")\n",
    "\"\"\"\n",
    "create_table"
   ]
  },
  {
   "cell_type": "markdown",
   "id": "af998c43",
   "metadata": {},
   "source": [
    "Let’s now change this SQL statement a bit and create a table named delicious_stocks. We’ll also change the stock tickers to those for Brinker International (“EAT”) and The Cheesecake Factory Incorporated (“CAKE”). The following code shows these steps:"
   ]
  },
  {
   "cell_type": "code",
   "execution_count": 16,
   "id": "54e26047",
   "metadata": {},
   "outputs": [],
   "source": [
    "create_table = \"\"\"\n",
    "CREATE TABLE delicious_stocks (\n",
    "    \"EAT\" BIGINT,\n",
    "    \"CAKE\" BIGINT\n",
    ")\n",
    "\"\"\""
   ]
  },
  {
   "cell_type": "markdown",
   "id": "66c3ba64",
   "metadata": {},
   "source": [
    "Now that we have the SQL strings, we can execute the SQL statement with our engine by using the execute function, as the following code shows:"
   ]
  },
  {
   "cell_type": "code",
   "execution_count": 17,
   "id": "fda981ed",
   "metadata": {},
   "outputs": [
    {
     "name": "stdout",
     "output_type": "stream",
     "text": [
      "2021-11-18 19:08:30,531 INFO sqlalchemy.engine.Engine \n",
      "CREATE TABLE delicious_stocks (\n",
      "    \"EAT\" BIGINT,\n",
      "    \"CAKE\" BIGINT\n",
      ")\n",
      "\n",
      "2021-11-18 19:08:30,532 INFO sqlalchemy.engine.Engine [raw sql] ()\n",
      "2021-11-18 19:08:30,533 INFO sqlalchemy.engine.Engine COMMIT\n"
     ]
    },
    {
     "data": {
      "text/plain": [
       "<sqlalchemy.engine.cursor.LegacyCursorResult at 0x1ccea3b7790>"
      ]
     },
     "execution_count": 17,
     "metadata": {},
     "output_type": "execute_result"
    }
   ],
   "source": [
    "engine.execute(create_table)"
   ]
  },
  {
   "cell_type": "code",
   "execution_count": 18,
   "id": "c4a113ce",
   "metadata": {},
   "outputs": [
    {
     "name": "stdout",
     "output_type": "stream",
     "text": [
      "2021-11-18 19:08:45,474 INFO sqlalchemy.engine.Engine SELECT name FROM sqlite_master WHERE type='table' ORDER BY name\n",
      "2021-11-18 19:08:45,475 INFO sqlalchemy.engine.Engine [raw sql] ()\n"
     ]
    },
    {
     "name": "stderr",
     "output_type": "stream",
     "text": [
      "C:\\Users\\omarm\\AppData\\Local\\Temp/ipykernel_12512/4162273999.py:1: SADeprecationWarning: The Engine.table_names() method is deprecated and will be removed in a future release.  Please refer to Inspector.get_table_names(). (deprecated since: 1.4)\n",
      "  engine.table_names()\n"
     ]
    },
    {
     "data": {
      "text/plain": [
       "['delicious_stocks', 'stocks']"
      ]
     },
     "execution_count": 18,
     "metadata": {},
     "output_type": "execute_result"
    }
   ],
   "source": [
    "engine.table_names()"
   ]
  },
  {
   "cell_type": "markdown",
   "id": "c4f95708",
   "metadata": {},
   "source": [
    "If we now read the delicious_stocks table into Pandas by running the following code, we should get an empty DataFrame (remember that the delicous_stocks table has two columns, “EAT” and “CAKE”, but no data):"
   ]
  },
  {
   "cell_type": "code",
   "execution_count": 19,
   "id": "365ebd98",
   "metadata": {},
   "outputs": [
    {
     "name": "stdout",
     "output_type": "stream",
     "text": [
      "2021-11-18 19:10:20,183 INFO sqlalchemy.engine.Engine SELECT name FROM sqlite_master WHERE type='table' ORDER BY name\n",
      "2021-11-18 19:10:20,184 INFO sqlalchemy.engine.Engine [raw sql] ()\n",
      "2021-11-18 19:10:20,185 INFO sqlalchemy.engine.Engine SELECT name FROM sqlite_master WHERE type='view' ORDER BY name\n",
      "2021-11-18 19:10:20,186 INFO sqlalchemy.engine.Engine [raw sql] ()\n",
      "2021-11-18 19:10:20,187 INFO sqlalchemy.engine.Engine PRAGMA main.table_xinfo(\"delicious_stocks\")\n",
      "2021-11-18 19:10:20,188 INFO sqlalchemy.engine.Engine [raw sql] ()\n",
      "2021-11-18 19:10:20,189 INFO sqlalchemy.engine.Engine SELECT sql FROM  (SELECT * FROM sqlite_master UNION ALL   SELECT * FROM sqlite_temp_master) WHERE name = ? AND type = 'table'\n",
      "2021-11-18 19:10:20,190 INFO sqlalchemy.engine.Engine [raw sql] ('delicious_stocks',)\n",
      "2021-11-18 19:10:20,192 INFO sqlalchemy.engine.Engine PRAGMA main.foreign_key_list(\"delicious_stocks\")\n",
      "2021-11-18 19:10:20,192 INFO sqlalchemy.engine.Engine [raw sql] ()\n",
      "2021-11-18 19:10:20,193 INFO sqlalchemy.engine.Engine PRAGMA temp.foreign_key_list(\"delicious_stocks\")\n",
      "2021-11-18 19:10:20,194 INFO sqlalchemy.engine.Engine [raw sql] ()\n",
      "2021-11-18 19:10:20,194 INFO sqlalchemy.engine.Engine SELECT sql FROM  (SELECT * FROM sqlite_master UNION ALL   SELECT * FROM sqlite_temp_master) WHERE name = ? AND type = 'table'\n",
      "2021-11-18 19:10:20,195 INFO sqlalchemy.engine.Engine [raw sql] ('delicious_stocks',)\n",
      "2021-11-18 19:10:20,196 INFO sqlalchemy.engine.Engine PRAGMA main.index_list(\"delicious_stocks\")\n",
      "2021-11-18 19:10:20,197 INFO sqlalchemy.engine.Engine [raw sql] ()\n",
      "2021-11-18 19:10:20,197 INFO sqlalchemy.engine.Engine PRAGMA temp.index_list(\"delicious_stocks\")\n",
      "2021-11-18 19:10:20,198 INFO sqlalchemy.engine.Engine [raw sql] ()\n",
      "2021-11-18 19:10:20,198 INFO sqlalchemy.engine.Engine PRAGMA main.index_list(\"delicious_stocks\")\n",
      "2021-11-18 19:10:20,199 INFO sqlalchemy.engine.Engine [raw sql] ()\n",
      "2021-11-18 19:10:20,200 INFO sqlalchemy.engine.Engine PRAGMA temp.index_list(\"delicious_stocks\")\n",
      "2021-11-18 19:10:20,200 INFO sqlalchemy.engine.Engine [raw sql] ()\n",
      "2021-11-18 19:10:20,200 INFO sqlalchemy.engine.Engine SELECT sql FROM  (SELECT * FROM sqlite_master UNION ALL   SELECT * FROM sqlite_temp_master) WHERE name = ? AND type = 'table'\n",
      "2021-11-18 19:10:20,201 INFO sqlalchemy.engine.Engine [raw sql] ('delicious_stocks',)\n",
      "2021-11-18 19:10:20,202 INFO sqlalchemy.engine.Engine SELECT delicious_stocks.\"EAT\", delicious_stocks.\"CAKE\" \n",
      "FROM delicious_stocks\n",
      "2021-11-18 19:10:20,203 INFO sqlalchemy.engine.Engine [generated in 0.00065s] ()\n"
     ]
    },
    {
     "data": {
      "text/html": [
       "<div>\n",
       "<style scoped>\n",
       "    .dataframe tbody tr th:only-of-type {\n",
       "        vertical-align: middle;\n",
       "    }\n",
       "\n",
       "    .dataframe tbody tr th {\n",
       "        vertical-align: top;\n",
       "    }\n",
       "\n",
       "    .dataframe thead th {\n",
       "        text-align: right;\n",
       "    }\n",
       "</style>\n",
       "<table border=\"1\" class=\"dataframe\">\n",
       "  <thead>\n",
       "    <tr style=\"text-align: right;\">\n",
       "      <th></th>\n",
       "      <th>EAT</th>\n",
       "      <th>CAKE</th>\n",
       "    </tr>\n",
       "  </thead>\n",
       "  <tbody>\n",
       "  </tbody>\n",
       "</table>\n",
       "</div>"
      ],
      "text/plain": [
       "Empty DataFrame\n",
       "Columns: [EAT, CAKE]\n",
       "Index: []"
      ]
     },
     "execution_count": 19,
     "metadata": {},
     "output_type": "execute_result"
    }
   ],
   "source": [
    "pd.read_sql_table('delicious_stocks', con=engine)\n"
   ]
  },
  {
   "cell_type": "code",
   "execution_count": 20,
   "id": "a977f1ef",
   "metadata": {},
   "outputs": [],
   "source": [
    "insert_data = \"\"\"\n",
    "INSERT INTO delicious_stocks (\"EAT\", \"CAKE\") VALUES (?, ?)\n",
    "\"\"\""
   ]
  },
  {
   "cell_type": "code",
   "execution_count": 21,
   "id": "0fc2d525",
   "metadata": {},
   "outputs": [
    {
     "name": "stdout",
     "output_type": "stream",
     "text": [
      "2021-11-18 19:16:43,062 INFO sqlalchemy.engine.Engine \n",
      "INSERT INTO delicious_stocks (\"EAT\", \"CAKE\") VALUES (?, ?)\n",
      "\n",
      "2021-11-18 19:16:43,063 INFO sqlalchemy.engine.Engine [raw sql] ((10, 30), (20, 40))\n",
      "2021-11-18 19:16:43,064 INFO sqlalchemy.engine.Engine COMMIT\n"
     ]
    },
    {
     "data": {
      "text/plain": [
       "<sqlalchemy.engine.cursor.LegacyCursorResult at 0x1ccea378af0>"
      ]
     },
     "execution_count": 21,
     "metadata": {},
     "output_type": "execute_result"
    }
   ],
   "source": [
    "engine.execute(insert_data, ((10, 30), (20, 40)))"
   ]
  },
  {
   "cell_type": "code",
   "execution_count": 22,
   "id": "5ffce1c6",
   "metadata": {},
   "outputs": [
    {
     "name": "stdout",
     "output_type": "stream",
     "text": [
      "2021-11-18 19:16:56,244 INFO sqlalchemy.engine.Engine SELECT name FROM sqlite_master WHERE type='table' ORDER BY name\n",
      "2021-11-18 19:16:56,244 INFO sqlalchemy.engine.Engine [raw sql] ()\n",
      "2021-11-18 19:16:56,244 INFO sqlalchemy.engine.Engine SELECT name FROM sqlite_master WHERE type='view' ORDER BY name\n",
      "2021-11-18 19:16:56,244 INFO sqlalchemy.engine.Engine [raw sql] ()\n",
      "2021-11-18 19:16:56,244 INFO sqlalchemy.engine.Engine PRAGMA main.table_xinfo(\"delicious_stocks\")\n",
      "2021-11-18 19:16:56,244 INFO sqlalchemy.engine.Engine [raw sql] ()\n",
      "2021-11-18 19:16:56,244 INFO sqlalchemy.engine.Engine SELECT sql FROM  (SELECT * FROM sqlite_master UNION ALL   SELECT * FROM sqlite_temp_master) WHERE name = ? AND type = 'table'\n",
      "2021-11-18 19:16:56,244 INFO sqlalchemy.engine.Engine [raw sql] ('delicious_stocks',)\n",
      "2021-11-18 19:16:56,244 INFO sqlalchemy.engine.Engine PRAGMA main.foreign_key_list(\"delicious_stocks\")\n",
      "2021-11-18 19:16:56,244 INFO sqlalchemy.engine.Engine [raw sql] ()\n",
      "2021-11-18 19:16:56,244 INFO sqlalchemy.engine.Engine PRAGMA temp.foreign_key_list(\"delicious_stocks\")\n",
      "2021-11-18 19:16:56,244 INFO sqlalchemy.engine.Engine [raw sql] ()\n",
      "2021-11-18 19:16:56,244 INFO sqlalchemy.engine.Engine SELECT sql FROM  (SELECT * FROM sqlite_master UNION ALL   SELECT * FROM sqlite_temp_master) WHERE name = ? AND type = 'table'\n",
      "2021-11-18 19:16:56,244 INFO sqlalchemy.engine.Engine [raw sql] ('delicious_stocks',)\n",
      "2021-11-18 19:16:56,244 INFO sqlalchemy.engine.Engine PRAGMA main.index_list(\"delicious_stocks\")\n",
      "2021-11-18 19:16:56,259 INFO sqlalchemy.engine.Engine [raw sql] ()\n",
      "2021-11-18 19:16:56,259 INFO sqlalchemy.engine.Engine PRAGMA temp.index_list(\"delicious_stocks\")\n",
      "2021-11-18 19:16:56,259 INFO sqlalchemy.engine.Engine [raw sql] ()\n",
      "2021-11-18 19:16:56,259 INFO sqlalchemy.engine.Engine PRAGMA main.index_list(\"delicious_stocks\")\n",
      "2021-11-18 19:16:56,259 INFO sqlalchemy.engine.Engine [raw sql] ()\n",
      "2021-11-18 19:16:56,259 INFO sqlalchemy.engine.Engine PRAGMA temp.index_list(\"delicious_stocks\")\n",
      "2021-11-18 19:16:56,259 INFO sqlalchemy.engine.Engine [raw sql] ()\n",
      "2021-11-18 19:16:56,259 INFO sqlalchemy.engine.Engine SELECT sql FROM  (SELECT * FROM sqlite_master UNION ALL   SELECT * FROM sqlite_temp_master) WHERE name = ? AND type = 'table'\n",
      "2021-11-18 19:16:56,259 INFO sqlalchemy.engine.Engine [raw sql] ('delicious_stocks',)\n",
      "2021-11-18 19:16:56,259 INFO sqlalchemy.engine.Engine SELECT delicious_stocks.\"EAT\", delicious_stocks.\"CAKE\" \n",
      "FROM delicious_stocks\n",
      "2021-11-18 19:16:56,259 INFO sqlalchemy.engine.Engine [generated in 0.00038s] ()\n"
     ]
    },
    {
     "data": {
      "text/html": [
       "<div>\n",
       "<style scoped>\n",
       "    .dataframe tbody tr th:only-of-type {\n",
       "        vertical-align: middle;\n",
       "    }\n",
       "\n",
       "    .dataframe tbody tr th {\n",
       "        vertical-align: top;\n",
       "    }\n",
       "\n",
       "    .dataframe thead th {\n",
       "        text-align: right;\n",
       "    }\n",
       "</style>\n",
       "<table border=\"1\" class=\"dataframe\">\n",
       "  <thead>\n",
       "    <tr style=\"text-align: right;\">\n",
       "      <th></th>\n",
       "      <th>EAT</th>\n",
       "      <th>CAKE</th>\n",
       "    </tr>\n",
       "  </thead>\n",
       "  <tbody>\n",
       "    <tr>\n",
       "      <th>0</th>\n",
       "      <td>10</td>\n",
       "      <td>30</td>\n",
       "    </tr>\n",
       "    <tr>\n",
       "      <th>1</th>\n",
       "      <td>20</td>\n",
       "      <td>40</td>\n",
       "    </tr>\n",
       "  </tbody>\n",
       "</table>\n",
       "</div>"
      ],
      "text/plain": [
       "   EAT  CAKE\n",
       "0   10    30\n",
       "1   20    40"
      ]
     },
     "execution_count": 22,
     "metadata": {},
     "output_type": "execute_result"
    }
   ],
   "source": [
    "pd.read_sql_table('delicious_stocks', con=engine)"
   ]
  },
  {
   "cell_type": "markdown",
   "id": "4da6630e",
   "metadata": {},
   "source": [
    "The preceding output indicates that our code worked, because the table of data displays after several lines of SQL code.\n",
    "\n",
    "We’ve now covered the create part of CRUD. Next, we’ll explore the read part. So far, we’ve used Pandas to read our tables into DataFrames. But, another option is to directly read table data by using SQL. Let’s examine this next."
   ]
  },
  {
   "cell_type": "markdown",
   "id": "8a24615e",
   "metadata": {},
   "source": [
    "# Read Data\n",
    "\n",
    "To read table data directly from the database by using raw SQL, we use a SELECT statement according to the following syntax:"
   ]
  },
  {
   "cell_type": "code",
   "execution_count": null,
   "id": "e66c76a9",
   "metadata": {},
   "outputs": [],
   "source": [
    "SELECT column_name, column_name, …\n",
    "FROM table_name"
   ]
  },
  {
   "cell_type": "code",
   "execution_count": 23,
   "id": "c717f164",
   "metadata": {},
   "outputs": [
    {
     "name": "stdout",
     "output_type": "stream",
     "text": [
      "2021-11-18 19:18:14,972 INFO sqlalchemy.engine.Engine \n",
      "SELECT \"EAT\", \"CAKE\" FROM delicious_stocks\n",
      "\n",
      "2021-11-18 19:18:14,974 INFO sqlalchemy.engine.Engine [raw sql] ()\n"
     ]
    },
    {
     "data": {
      "text/plain": [
       "<sqlalchemy.engine.cursor.LegacyCursorResult at 0x1ccea3b7730>"
      ]
     },
     "execution_count": 23,
     "metadata": {},
     "output_type": "execute_result"
    }
   ],
   "source": [
    "read_all_data = \n",
    "\"\"\"\n",
    "SELECT \"EAT\", \"CAKE\" FROM delicious_stocks\n",
    "\"\"\"\n",
    "engine.execute(read_all_data)"
   ]
  },
  {
   "cell_type": "code",
   "execution_count": 24,
   "id": "778d2a97",
   "metadata": {},
   "outputs": [
    {
     "name": "stdout",
     "output_type": "stream",
     "text": [
      "2021-11-18 19:18:26,334 INFO sqlalchemy.engine.Engine \n",
      "SELECT \"EAT\", \"CAKE\" FROM delicious_stocks\n",
      "\n",
      "2021-11-18 19:18:26,334 INFO sqlalchemy.engine.Engine [raw sql] ()\n",
      "(10, 30)\n",
      "(20, 40)\n"
     ]
    }
   ],
   "source": [
    "read_all_data = \"\"\"\n",
    "SELECT \"EAT\", \"CAKE\" FROM delicious_stocks\n",
    "\"\"\"\n",
    "results = engine.execute(read_all_data)\n",
    "for row in results:\n",
    "    print(row)"
   ]
  },
  {
   "cell_type": "code",
   "execution_count": 25,
   "id": "06f2d411",
   "metadata": {},
   "outputs": [
    {
     "name": "stdout",
     "output_type": "stream",
     "text": [
      "2021-11-18 19:19:16,508 INFO sqlalchemy.engine.Engine \n",
      "SELECT \"EAT\", \"CAKE\" FROM delicious_stocks\n",
      "\n",
      "2021-11-18 19:19:16,509 INFO sqlalchemy.engine.Engine [raw sql] ()\n"
     ]
    },
    {
     "data": {
      "text/plain": [
       "[(10, 30), (20, 40)]"
      ]
     },
     "execution_count": 25,
     "metadata": {},
     "output_type": "execute_result"
    }
   ],
   "source": [
    "results = engine.execute(read_all_data)\n",
    "list(results)"
   ]
  },
  {
   "cell_type": "markdown",
   "id": "c9e8af05",
   "metadata": {},
   "source": [
    "Once a list (or other type of data container) contains the results, we can use them to populate the values in a Pandas DataFrame. From there, the options for analysis are endless!\n",
    "\n",
    "But, that’s not all. A shortcut exists for selecting all the columns of data. Specifically, we use the asterisk `(*)` as a wildcard with the `SELECT` statement. This tells SQL to read all the columns of data in the table."
   ]
  },
  {
   "cell_type": "code",
   "execution_count": 26,
   "id": "0bb46795",
   "metadata": {},
   "outputs": [
    {
     "name": "stdout",
     "output_type": "stream",
     "text": [
      "2021-11-18 19:19:58,946 INFO sqlalchemy.engine.Engine \n",
      "SELECT * FROM delicious_stocks\n",
      "\n",
      "2021-11-18 19:19:58,948 INFO sqlalchemy.engine.Engine [raw sql] ()\n"
     ]
    },
    {
     "data": {
      "text/plain": [
       "[(10, 30), (20, 40)]"
      ]
     },
     "execution_count": 26,
     "metadata": {},
     "output_type": "execute_result"
    }
   ],
   "source": [
    "read_all_data = \n",
    "\"\"\"\n",
    "SELECT * FROM delicious_stocks\n",
    "\"\"\"\n",
    "results = engine.execute(read_all_data)\n",
    "list(results)"
   ]
  },
  {
   "cell_type": "markdown",
   "id": "fbfbf649",
   "metadata": {},
   "source": [
    "Later in the module, we’ll more closely examine the SELECT statement and learn how to conditionally select data from the database. But for now, let’s keep the focus on the CRUD operations. Next up: update."
   ]
  },
  {
   "cell_type": "markdown",
   "id": "943e99db",
   "metadata": {},
   "source": [
    "# Update Data\n",
    "\n",
    "Just like we sometimes updated values in Pandas DataFrames by using loc and iloc, we might need to update data in our database tables. In SQL, we update values by using the UPDATE statement. The syntax is as follows:\n",
    "\n",
    "UPDATE table_name\n",
    "\n",
    "SET column_name conditional_operator new_table_value\n",
    "\n",
    "WHERE column_name conditional_operator current_table_value"
   ]
  },
  {
   "cell_type": "code",
   "execution_count": null,
   "id": "f725f471",
   "metadata": {},
   "outputs": [],
   "source": [
    "UPDATE table_name\n",
    "SET column_name conditional_operator new_table_value\n",
    "WHERE column_name conditional_operator current_table_value"
   ]
  },
  {
   "cell_type": "markdown",
   "id": "ff6ea9d7",
   "metadata": {},
   "source": [
    "Notice that the UPDATE statement has a few new keywords, as follows:\n",
    "\n",
    "The UPDATE keyword: This specifies the table that we want to update.\n",
    "\n",
    "The SET keyword: This sets new values in the table.\n",
    "\n",
    "The WHERE keyword: This finds existing values in the table that meet the specified condition."
   ]
  },
  {
   "cell_type": "code",
   "execution_count": 27,
   "id": "44337237",
   "metadata": {},
   "outputs": [
    {
     "name": "stdout",
     "output_type": "stream",
     "text": [
      "2021-11-18 19:26:21,187 INFO sqlalchemy.engine.Engine \n",
      "UPDATE delicious_stocks\n",
      "SET CAKE = 100\n",
      "WHERE CAKE = 40\n",
      "\n",
      "2021-11-18 19:26:21,189 INFO sqlalchemy.engine.Engine [raw sql] ()\n",
      "2021-11-18 19:26:21,190 INFO sqlalchemy.engine.Engine COMMIT\n"
     ]
    },
    {
     "data": {
      "text/plain": [
       "<sqlalchemy.engine.cursor.LegacyCursorResult at 0x1ccea5e45e0>"
      ]
     },
     "execution_count": 27,
     "metadata": {},
     "output_type": "execute_result"
    }
   ],
   "source": [
    "update_cake = \"\"\"\n",
    "UPDATE delicious_stocks\n",
    "SET CAKE = 100\n",
    "WHERE CAKE = 40\n",
    "\"\"\"\n",
    "engine.execute(update_cake)"
   ]
  },
  {
   "cell_type": "code",
   "execution_count": 28,
   "id": "3ec25a6a",
   "metadata": {},
   "outputs": [
    {
     "name": "stdout",
     "output_type": "stream",
     "text": [
      "2021-11-18 19:26:31,390 INFO sqlalchemy.engine.Engine \n",
      "SELECT * FROM delicious_stocks\n",
      "\n",
      "2021-11-18 19:26:31,390 INFO sqlalchemy.engine.Engine [raw sql] ()\n"
     ]
    },
    {
     "data": {
      "text/plain": [
       "[(10, 30), (20, 100)]"
      ]
     },
     "execution_count": 28,
     "metadata": {},
     "output_type": "execute_result"
    }
   ],
   "source": [
    "read_all_data = \"\"\"\n",
    "SELECT * FROM delicious_stocks\n",
    "\"\"\"\n",
    "results = engine.execute(read_all_data)\n",
    "list(results)"
   ]
  },
  {
   "cell_type": "markdown",
   "id": "f91a73be",
   "metadata": {},
   "source": [
    "Notice that at the end of the output, the information from the table displays as a list that reads [(10, 30), (20, 100)]. The value of 100 now resides in the location that the value of 40 previously occupied. This confirms that we successfully updated the value of 40. Nice! We can feel better about this adjustment.\n",
    "\n",
    "However, say that we should have deleted the value of 40 instead of updating it. This is where we use the final CRUD operation: delete."
   ]
  },
  {
   "cell_type": "markdown",
   "id": "2c755f0a",
   "metadata": {},
   "source": [
    "# Delete Data.\n",
    "\n",
    "We’ll start this discussion by emphasizing the following: don’t be the person who accidentally deletes all the data in the company database! Trust us—you don’t want to be that person.\n",
    "\n",
    "Luckily, the SQL `DELETE` statement includes a `WHERE` clause to pinpoint the exact data that you want to delete."
   ]
  },
  {
   "cell_type": "code",
   "execution_count": null,
   "id": "e390ec36",
   "metadata": {},
   "outputs": [],
   "source": [
    "DELETE FROM table_name\n",
    "WHERE table_name conditional_operator current_table_value"
   ]
  },
  {
   "cell_type": "code",
   "execution_count": 29,
   "id": "32624cd7",
   "metadata": {},
   "outputs": [
    {
     "name": "stdout",
     "output_type": "stream",
     "text": [
      "2021-11-18 19:29:50,843 INFO sqlalchemy.engine.Engine \n",
      "DELETE FROM delicious_stocks\n",
      "WHERE EAT = 20\n",
      "\n",
      "2021-11-18 19:29:50,844 INFO sqlalchemy.engine.Engine [raw sql] ()\n",
      "2021-11-18 19:29:50,846 INFO sqlalchemy.engine.Engine COMMIT\n"
     ]
    },
    {
     "data": {
      "text/plain": [
       "<sqlalchemy.engine.cursor.LegacyCursorResult at 0x1ccea5d4b80>"
      ]
     },
     "execution_count": 29,
     "metadata": {},
     "output_type": "execute_result"
    }
   ],
   "source": [
    "delete_eat = \n",
    "\"\"\"\n",
    "DELETE FROM delicious_stocks\n",
    "WHERE EAT = 20\n",
    "\"\"\"\n",
    "engine.execute(delete_eat)"
   ]
  },
  {
   "cell_type": "markdown",
   "id": "3c552263",
   "metadata": {},
   "source": [
    "Notice that the output displays the SQL `DELETE` statement and then, two lines later, the confirmation of our action via the `COMMIT` command.\n",
    "\n",
    "To confirm this action, let’s read the table data and then display the output, as the following code shows:"
   ]
  },
  {
   "cell_type": "code",
   "execution_count": 30,
   "id": "22b9015d",
   "metadata": {},
   "outputs": [
    {
     "name": "stdout",
     "output_type": "stream",
     "text": [
      "2021-11-18 19:30:27,134 INFO sqlalchemy.engine.Engine \n",
      "SELECT * FROM delicious_stocks\n",
      "\n",
      "2021-11-18 19:30:27,135 INFO sqlalchemy.engine.Engine [raw sql] ()\n"
     ]
    },
    {
     "data": {
      "text/plain": [
       "[(10, 30)]"
      ]
     },
     "execution_count": 30,
     "metadata": {},
     "output_type": "execute_result"
    }
   ],
   "source": [
    "read_all_data = \"\"\"\n",
    "SELECT * FROM delicious_stocks\n",
    "\"\"\"\n",
    "results = engine.execute(read_all_data)\n",
    "list(results)"
   ]
  },
  {
   "cell_type": "markdown",
   "id": "796bca83",
   "metadata": {},
   "source": [
    "Again, we notice the SQL query, which is now a SELECT statement. But, the output then shows only one row of data—specifically, [(10, 30)].\n",
    "\n",
    "We accidentally deleted the entire row that matched the condition! The output reflects only the values from the first row of data—specifically, [(10, 30)]. The values from the second row—[(20, 100)]—disappeared.\n",
    "\n",
    "Lesson learned: The DELETE statement removes the entire row of data that matches the specified condition. It doesn’t remove only the single element that you intended for deletion. Unless your intention is to delete the entire row of data, consider using the UPDATE statement to change the value of the single element. For example, you can update the element with a value like 0 or ‘N/A’."
   ]
  },
  {
   "cell_type": "markdown",
   "id": "71bf1429",
   "metadata": {},
   "source": [
    "Now that you’re fluent with CRUD operations, you’ll apply them to financial data."
   ]
  },
  {
   "cell_type": "code",
   "execution_count": null,
   "id": "b98790f6",
   "metadata": {},
   "outputs": [],
   "source": []
  },
  {
   "cell_type": "code",
   "execution_count": null,
   "id": "2218edaf",
   "metadata": {},
   "outputs": [],
   "source": []
  },
  {
   "cell_type": "code",
   "execution_count": null,
   "id": "2dbf577c",
   "metadata": {},
   "outputs": [],
   "source": []
  }
 ],
 "metadata": {
  "kernelspec": {
   "display_name": "Python 3 (ipykernel)",
   "language": "python",
   "name": "python3"
  },
  "language_info": {
   "codemirror_mode": {
    "name": "ipython",
    "version": 3
   },
   "file_extension": ".py",
   "mimetype": "text/x-python",
   "name": "python",
   "nbconvert_exporter": "python",
   "pygments_lexer": "ipython3",
   "version": "3.8.10"
  }
 },
 "nbformat": 4,
 "nbformat_minor": 5
}
