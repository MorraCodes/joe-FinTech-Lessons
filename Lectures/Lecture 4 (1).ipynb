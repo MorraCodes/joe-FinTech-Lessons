{
 "cells": [
  {
   "cell_type": "markdown",
   "id": "structured-bottle",
   "metadata": {},
   "source": [
    "# Lecture 4 : Functions, Dictionaries (HashMap), List comprehension & more."
   ]
  },
  {
   "cell_type": "markdown",
   "id": "express-rabbit",
   "metadata": {},
   "source": [
    "#### Recap\n",
    "- for\n",
    "- while\n",
    "- break\n",
    "- continue\n",
    "- slicing\n",
    "- max(),min(),sorted(), .sort(), len(), .append()"
   ]
  },
  {
   "cell_type": "markdown",
   "id": "equivalent-iraqi",
   "metadata": {},
   "source": [
    "# `pass` is the keyword.\n",
    "\n",
    "In Python, the pass keyword is used to execute nothing; it means, when we don't want to execute code, the pass can be used to execute empty. It is the same as the name refers to. It just makes the control to pass by without executing any code. If we want to bypass any code pass statement can be used."
   ]
  },
  {
   "cell_type": "code",
   "execution_count": 1,
   "id": "russian-enlargement",
   "metadata": {},
   "outputs": [],
   "source": [
    "x = 3\n",
    "if 1 < x:\n",
    "    pass\n",
    "else:\n",
    "    print(\"Joe is awesome !!!\")"
   ]
  },
  {
   "cell_type": "markdown",
   "id": "published-henry",
   "metadata": {},
   "source": [
    "# Functions."
   ]
  },
  {
   "cell_type": "markdown",
   "id": "later-earth",
   "metadata": {},
   "source": [
    "Functions are the primary and most important method of code organization and reuse\n",
    "in Python. There may not be such a thing as having too many functions. In fact, I would\n",
    "argue that most programmers doing data analysis don’t write enough functions! As you\n",
    "have likely inferred from prior examples, functions are declared using the def keyword\n",
    "and returned from using the return keyword:"
   ]
  },
  {
   "cell_type": "code",
   "execution_count": 2,
   "id": "structured-rough",
   "metadata": {},
   "outputs": [],
   "source": [
    "def add(first_number, second_number):\n",
    "    total = first_number + second_number\n",
    "    print(\"Your total is: \", total)"
   ]
  },
  {
   "cell_type": "markdown",
   "id": "british-transparency",
   "metadata": {},
   "source": [
    "## Function breakdown.\n",
    "`return`"
   ]
  },
  {
   "cell_type": "code",
   "execution_count": 3,
   "id": "several-tours",
   "metadata": {},
   "outputs": [
    {
     "data": {
      "text/html": [
       "<img src=\"https://github.com/MorraCodes/joe-FinTech-Lessons/blob/main/1.5-anatomy-of-a-function.png?raw=true\"/>"
      ],
      "text/plain": [
       "<IPython.core.display.Image object>"
      ]
     },
     "execution_count": 3,
     "metadata": {},
     "output_type": "execute_result"
    }
   ],
   "source": [
    "from IPython.display import Image\n",
    "from IPython.core.display import HTML \n",
    "Image(url= \"https://github.com/MorraCodes/joe-FinTech-Lessons/blob/main/1.5-anatomy-of-a-function.png?raw=true\")\n"
   ]
  },
  {
   "cell_type": "markdown",
   "id": "liberal-reply",
   "metadata": {},
   "source": [
    "### Function call breakdown."
   ]
  },
  {
   "cell_type": "code",
   "execution_count": 4,
   "id": "short-skill",
   "metadata": {},
   "outputs": [
    {
     "data": {
      "text/html": [
       "<img src=\"https://github.com/MorraCodes/joe-FinTech-Lessons/blob/main/Picture2.png?raw=true\"/>"
      ],
      "text/plain": [
       "<IPython.core.display.Image object>"
      ]
     },
     "execution_count": 4,
     "metadata": {},
     "output_type": "execute_result"
    }
   ],
   "source": [
    "from IPython.display import Image\n",
    "from IPython.core.display import HTML \n",
    "Image(url= \"https://github.com/MorraCodes/joe-FinTech-Lessons/blob/main/Picture2.png?raw=true\")"
   ]
  },
  {
   "cell_type": "code",
   "execution_count": 5,
   "id": "significant-exchange",
   "metadata": {},
   "outputs": [],
   "source": [
    "def my_function(x, y, z=1.5):\n",
    "    if z > 1:\n",
    "        return z * (x + y)\n",
    "    else:\n",
    "        return z / (x + y)"
   ]
  },
  {
   "cell_type": "markdown",
   "id": "modular-cookbook",
   "metadata": {},
   "source": [
    "There is no issue with having multiple return statements. If the end of a function is\n",
    "reached without encountering a return statement, None is returned.\n",
    "Each function can have some number of positional arguments and some number of\n",
    "keyword arguments. Keyword arguments are most commonly used to specify default\n",
    "values or optional arguments. In the above function, x and y are positional arguments\n",
    "while z is a keyword argument. This means that it can be called in either of these\n",
    "equivalent ways:"
   ]
  },
  {
   "cell_type": "code",
   "execution_count": 6,
   "id": "united-intensity",
   "metadata": {},
   "outputs": [
    {
     "data": {
      "text/plain": [
       "0.06363636363636363"
      ]
     },
     "execution_count": 6,
     "metadata": {},
     "output_type": "execute_result"
    }
   ],
   "source": [
    "my_function(5, 6, z=0.7)"
   ]
  },
  {
   "cell_type": "code",
   "execution_count": 7,
   "id": "ancient-killing",
   "metadata": {},
   "outputs": [
    {
     "data": {
      "text/plain": [
       "35.49"
      ]
     },
     "execution_count": 7,
     "metadata": {},
     "output_type": "execute_result"
    }
   ],
   "source": [
    "my_function(3.14, 7, 3.5)"
   ]
  },
  {
   "cell_type": "code",
   "execution_count": 8,
   "id": "grave-system",
   "metadata": {},
   "outputs": [],
   "source": [
    "def compute(x, y, z):\n",
    "    return x + y * z"
   ]
  },
  {
   "cell_type": "markdown",
   "id": "sustainable-savage",
   "metadata": {},
   "source": [
    "#### Poistional arguments."
   ]
  },
  {
   "cell_type": "code",
   "execution_count": 9,
   "id": "married-strip",
   "metadata": {},
   "outputs": [
    {
     "data": {
      "text/plain": [
       "7"
      ]
     },
     "execution_count": 9,
     "metadata": {},
     "output_type": "execute_result"
    }
   ],
   "source": [
    "compute(1, 2, 3)"
   ]
  },
  {
   "cell_type": "markdown",
   "id": "rotary-accused",
   "metadata": {},
   "source": [
    "#### Keyword arguments."
   ]
  },
  {
   "cell_type": "code",
   "execution_count": 10,
   "id": "relative-identifier",
   "metadata": {},
   "outputs": [
    {
     "data": {
      "text/plain": [
       "7"
      ]
     },
     "execution_count": 10,
     "metadata": {},
     "output_type": "execute_result"
    }
   ],
   "source": [
    "compute(y= 2, x = 1, z = 3)"
   ]
  },
  {
   "cell_type": "markdown",
   "id": "thirty-suffering",
   "metadata": {},
   "source": [
    "# mix both"
   ]
  },
  {
   "cell_type": "code",
   "execution_count": 11,
   "id": "knowing-october",
   "metadata": {},
   "outputs": [
    {
     "data": {
      "text/plain": [
       "7"
      ]
     },
     "execution_count": 11,
     "metadata": {},
     "output_type": "execute_result"
    }
   ],
   "source": [
    "compute(x = 1, y = 2 , z = 3)"
   ]
  },
  {
   "cell_type": "markdown",
   "id": "under-renaissance",
   "metadata": {},
   "source": [
    "`#`"
   ]
  },
  {
   "cell_type": "code",
   "execution_count": null,
   "id": "utility-burlington",
   "metadata": {},
   "outputs": [],
   "source": []
  },
  {
   "cell_type": "code",
   "execution_count": null,
   "id": "fleet-apple",
   "metadata": {},
   "outputs": [],
   "source": []
  },
  {
   "cell_type": "markdown",
   "id": "respiratory-republican",
   "metadata": {},
   "source": [
    "## Doc string"
   ]
  },
  {
   "cell_type": "code",
   "execution_count": 12,
   "id": "stock-prisoner",
   "metadata": {},
   "outputs": [],
   "source": [
    "def compute(x, y, z):\n",
    "    \"\"\"\n",
    "    Functionality: adds two numbers multilpied by a third.\n",
    "    \n",
    "    Input parameters:\n",
    "        x -> int\n",
    "        y - > int\n",
    "        z -> int\n",
    "        \n",
    "    output integer value\n",
    "    \"\"\"\n",
    "    return x + y * z\n",
    "    "
   ]
  },
  {
   "cell_type": "markdown",
   "id": "minute-madagascar",
   "metadata": {},
   "source": [
    "## How to view doc string in two ways."
   ]
  },
  {
   "cell_type": "code",
   "execution_count": 13,
   "id": "mechanical-telescope",
   "metadata": {},
   "outputs": [
    {
     "data": {
      "text/plain": [
       "'\\n    Functionality: adds two numbers multilpied by a third.\\n    \\n    Input parameters:\\n        x -> int\\n        y - > int\\n        z -> int\\n        \\n    output integer value\\n    '"
      ]
     },
     "execution_count": 13,
     "metadata": {},
     "output_type": "execute_result"
    }
   ],
   "source": [
    "compute.__doc__"
   ]
  },
  {
   "cell_type": "code",
   "execution_count": 14,
   "id": "interpreted-discussion",
   "metadata": {},
   "outputs": [
    {
     "name": "stdout",
     "output_type": "stream",
     "text": [
      "Help on function compute in module __main__:\n",
      "\n",
      "compute(x, y, z)\n",
      "    Functionality: adds two numbers multilpied by a third.\n",
      "    \n",
      "    Input parameters:\n",
      "        x -> int\n",
      "        y - > int\n",
      "        z -> int\n",
      "        \n",
      "    output integer value\n",
      "\n"
     ]
    }
   ],
   "source": [
    "help(compute)"
   ]
  },
  {
   "cell_type": "markdown",
   "id": "convertible-reason",
   "metadata": {},
   "source": [
    "## Functions can access variables in two different scopes: global and local. An alternateand more descriptive name describing a variable scope in Python is a namespace."
   ]
  },
  {
   "cell_type": "markdown",
   "id": "wrapped-tuition",
   "metadata": {},
   "source": [
    "#### local scope"
   ]
  },
  {
   "cell_type": "code",
   "execution_count": 15,
   "id": "historic-chassis",
   "metadata": {},
   "outputs": [],
   "source": [
    "def func():\n",
    "    a = [] # variable \n",
    "    for i in range(5):\n",
    "        a.append(i)\n"
   ]
  },
  {
   "cell_type": "markdown",
   "id": "growing-prescription",
   "metadata": {},
   "source": [
    "#### global scope."
   ]
  },
  {
   "cell_type": "code",
   "execution_count": 16,
   "id": "polar-identification",
   "metadata": {},
   "outputs": [],
   "source": [
    "a = []\n",
    "def func():\n",
    "    for i in range(5):\n",
    "        a.append(i)"
   ]
  },
  {
   "cell_type": "markdown",
   "id": "comic-transition",
   "metadata": {},
   "source": [
    "### Extra-reading.\n",
    "Assigning global variables within a function is possible, but those variables must be\n",
    "declared as global using the `global keyword`:"
   ]
  },
  {
   "cell_type": "code",
   "execution_count": 17,
   "id": "exempt-january",
   "metadata": {},
   "outputs": [],
   "source": [
    "a = None\n",
    "def bind_a_variable():\n",
    "    global a\n",
    "    a = []\n",
    "    bind_a_variable()"
   ]
  },
  {
   "cell_type": "markdown",
   "id": "comfortable-synthetic",
   "metadata": {},
   "source": [
    "##### Functions can be declared anywhere, and there is no problem with having local functions that are dynamically created when a function is called:"
   ]
  },
  {
   "cell_type": "code",
   "execution_count": 18,
   "id": "expressed-classification",
   "metadata": {},
   "outputs": [],
   "source": [
    "def outer_function(x, y, z):\n",
    "    def inner_function(a, b, c):\n",
    "        pass\n",
    "    pass\n"
   ]
  },
  {
   "cell_type": "markdown",
   "id": "brutal-smile",
   "metadata": {},
   "source": [
    "## Returning Multiple Values"
   ]
  },
  {
   "cell_type": "code",
   "execution_count": 19,
   "id": "listed-singapore",
   "metadata": {},
   "outputs": [
    {
     "data": {
      "text/plain": [
       "0"
      ]
     },
     "execution_count": 19,
     "metadata": {},
     "output_type": "execute_result"
    }
   ],
   "source": [
    "x, y = 0, 2\n",
    "\n",
    "x"
   ]
  },
  {
   "cell_type": "code",
   "execution_count": 20,
   "id": "regulated-planner",
   "metadata": {},
   "outputs": [
    {
     "data": {
      "text/plain": [
       "2"
      ]
     },
     "execution_count": 20,
     "metadata": {},
     "output_type": "execute_result"
    }
   ],
   "source": [
    "y"
   ]
  },
  {
   "cell_type": "code",
   "execution_count": 21,
   "id": "expired-india",
   "metadata": {},
   "outputs": [],
   "source": [
    "def f():\n",
    "    a = 5\n",
    "    b = 6\n",
    "    c = 7\n",
    "    return a, b, c\n",
    "\n",
    "        \n",
    "a, b, c = f()"
   ]
  },
  {
   "cell_type": "code",
   "execution_count": 22,
   "id": "ethical-huntington",
   "metadata": {},
   "outputs": [
    {
     "data": {
      "text/plain": [
       "5"
      ]
     },
     "execution_count": 22,
     "metadata": {},
     "output_type": "execute_result"
    }
   ],
   "source": [
    "a"
   ]
  },
  {
   "cell_type": "code",
   "execution_count": 23,
   "id": "solid-sample",
   "metadata": {},
   "outputs": [
    {
     "data": {
      "text/plain": [
       "6"
      ]
     },
     "execution_count": 23,
     "metadata": {},
     "output_type": "execute_result"
    }
   ],
   "source": [
    "b"
   ]
  },
  {
   "cell_type": "code",
   "execution_count": 24,
   "id": "liable-sixth",
   "metadata": {},
   "outputs": [
    {
     "data": {
      "text/plain": [
       "7"
      ]
     },
     "execution_count": 24,
     "metadata": {},
     "output_type": "execute_result"
    }
   ],
   "source": [
    "c"
   ]
  },
  {
   "cell_type": "markdown",
   "id": "executed-enlargement",
   "metadata": {},
   "source": [
    "### Extra-reading"
   ]
  },
  {
   "cell_type": "markdown",
   "id": "sweet-elite",
   "metadata": {},
   "source": [
    "Python has support for so-called anonymous or lambda functions, which are really just\n",
    "simple functions consisting of a single statement, the result of which is the return value.\n",
    "They are defined using the lambda keyword, which has no meaning other than “we are\n",
    "declaring an anonymous function.”\n"
   ]
  },
  {
   "cell_type": "code",
   "execution_count": 25,
   "id": "removed-share",
   "metadata": {},
   "outputs": [
    {
     "data": {
      "text/plain": [
       "4"
      ]
     },
     "execution_count": 25,
     "metadata": {},
     "output_type": "execute_result"
    }
   ],
   "source": [
    "def short_function(x):\n",
    "    return x * 2\n",
    "\n",
    "short_function(2)"
   ]
  },
  {
   "cell_type": "code",
   "execution_count": 26,
   "id": "accepted-knock",
   "metadata": {},
   "outputs": [
    {
     "data": {
      "text/plain": [
       "4"
      ]
     },
     "execution_count": 26,
     "metadata": {},
     "output_type": "execute_result"
    }
   ],
   "source": [
    "equiv_anon = lambda x: x * 2\n",
    "equiv_anon(2)"
   ]
  },
  {
   "cell_type": "markdown",
   "id": "canadian-filename",
   "metadata": {},
   "source": [
    "# Dictionary [Hashmap] -> dict\n",
    "\n",
    "Dict\n",
    "<p> dict is likely the most important built-in Python data structure. A more common name for it is hash map or associative array. It is a flexibly-sized collection of key-value pairs, where key and value are Python objects. One way to create one is by using curly braces {} and using colons to separate keys and values: </p>"
   ]
  },
  {
   "cell_type": "markdown",
   "id": "ongoing-registrar",
   "metadata": {},
   "source": [
    "## How to create a dictionary (Hashmap)"
   ]
  },
  {
   "cell_type": "code",
   "execution_count": 27,
   "id": "acceptable-quest",
   "metadata": {},
   "outputs": [],
   "source": [
    "empty_dict = {} "
   ]
  },
  {
   "cell_type": "markdown",
   "id": "micro-fellow",
   "metadata": {},
   "source": [
    "### Examples :: Key - Value pair."
   ]
  },
  {
   "cell_type": "code",
   "execution_count": 28,
   "id": "designing-brick",
   "metadata": {},
   "outputs": [],
   "source": [
    "dic_ages = {'joe' : 34, 'omar' : 25, 'Ali':56} # mapping"
   ]
  },
  {
   "cell_type": "code",
   "execution_count": 29,
   "id": "parallel-rescue",
   "metadata": {},
   "outputs": [],
   "source": [
    "dic2 = {'a' : 'some value', 'b' : [1, 2, 3, 4]}"
   ]
  },
  {
   "cell_type": "code",
   "execution_count": 41,
   "id": "unsigned-magic",
   "metadata": {},
   "outputs": [],
   "source": [
    "dic3 = {\"name\": 'Joey', \n",
    "        'age': 34, \n",
    "        'kids': [\"ali\", \"sasha\", \"lily\", \"adel\"]\n",
    "       }"
   ]
  },
  {
   "cell_type": "markdown",
   "id": "local-consciousness",
   "metadata": {},
   "source": [
    "### Getting the value."
   ]
  },
  {
   "cell_type": "code",
   "execution_count": 33,
   "id": "developing-correlation",
   "metadata": {},
   "outputs": [
    {
     "data": {
      "text/plain": [
       "34"
      ]
     },
     "execution_count": 33,
     "metadata": {},
     "output_type": "execute_result"
    }
   ],
   "source": [
    "dic_ages['joe']"
   ]
  },
  {
   "cell_type": "code",
   "execution_count": 34,
   "id": "curious-electronics",
   "metadata": {},
   "outputs": [
    {
     "data": {
      "text/plain": [
       "34"
      ]
     },
     "execution_count": 34,
     "metadata": {},
     "output_type": "execute_result"
    }
   ],
   "source": [
    "dic_ages.get('joe')"
   ]
  },
  {
   "cell_type": "code",
   "execution_count": 35,
   "id": "quantitative-climb",
   "metadata": {},
   "outputs": [
    {
     "data": {
      "text/plain": [
       "True"
      ]
     },
     "execution_count": 35,
     "metadata": {},
     "output_type": "execute_result"
    }
   ],
   "source": [
    "x = 4\n",
    "array = [1,2,3,4,5]\n",
    "\n",
    "x in array"
   ]
  },
  {
   "cell_type": "markdown",
   "id": "protecting-samba",
   "metadata": {},
   "source": [
    "## You can check if there is `key` in the dictionary using `in` Keyword."
   ]
  },
  {
   "cell_type": "code",
   "execution_count": 36,
   "id": "limiting-township",
   "metadata": {},
   "outputs": [
    {
     "data": {
      "text/plain": [
       "True"
      ]
     },
     "execution_count": 36,
     "metadata": {},
     "output_type": "execute_result"
    }
   ],
   "source": [
    "'name' in dic3"
   ]
  },
  {
   "cell_type": "markdown",
   "id": "complimentary-mixer",
   "metadata": {},
   "source": [
    "`del`"
   ]
  },
  {
   "cell_type": "code",
   "execution_count": 37,
   "id": "sensitive-brighton",
   "metadata": {},
   "outputs": [
    {
     "data": {
      "text/plain": [
       "{'name': 'Joey', 'age': 34, 'kids': ['ali', 'sasha', 'lily', 'adel']}"
      ]
     },
     "execution_count": 37,
     "metadata": {},
     "output_type": "execute_result"
    }
   ],
   "source": [
    "dic3"
   ]
  },
  {
   "cell_type": "code",
   "execution_count": 38,
   "id": "stainless-indication",
   "metadata": {},
   "outputs": [
    {
     "name": "stdout",
     "output_type": "stream",
     "text": [
      "{'name': 'Joey', 'age': 34}\n"
     ]
    }
   ],
   "source": [
    "del dic3[\"kids\"]\n",
    "print(dic3)"
   ]
  },
  {
   "cell_type": "code",
   "execution_count": 42,
   "id": "suburban-champion",
   "metadata": {},
   "outputs": [
    {
     "data": {
      "text/plain": [
       "dict_keys(['a', 'b'])"
      ]
     },
     "execution_count": 42,
     "metadata": {},
     "output_type": "execute_result"
    }
   ],
   "source": [
    "# name .keys()\n",
    "dic2.keys()"
   ]
  },
  {
   "cell_type": "code",
   "execution_count": 43,
   "id": "polyphonic-duncan",
   "metadata": {},
   "outputs": [
    {
     "data": {
      "text/plain": [
       "dict_values(['Joey', 34, ['ali', 'sasha', 'lily', 'adel']])"
      ]
     },
     "execution_count": 43,
     "metadata": {},
     "output_type": "execute_result"
    }
   ],
   "source": [
    "dic3.values()"
   ]
  },
  {
   "cell_type": "code",
   "execution_count": 44,
   "id": "cubic-bernard",
   "metadata": {},
   "outputs": [
    {
     "data": {
      "text/plain": [
       "dict_values(['Joey', 34, ['ali', 'sasha', 'lily', 'adel']])"
      ]
     },
     "execution_count": 44,
     "metadata": {},
     "output_type": "execute_result"
    }
   ],
   "source": [
    "dic3.values() "
   ]
  },
  {
   "cell_type": "code",
   "execution_count": 45,
   "id": "funded-spice",
   "metadata": {},
   "outputs": [
    {
     "data": {
      "text/plain": [
       "{'name': 'Joey', 'age': 34, 'kids': ['ali', 'sasha', 'lily', 'adel']}"
      ]
     },
     "execution_count": 45,
     "metadata": {},
     "output_type": "execute_result"
    }
   ],
   "source": [
    "dic3"
   ]
  },
  {
   "cell_type": "code",
   "execution_count": 46,
   "id": "statutory-nursing",
   "metadata": {},
   "outputs": [
    {
     "data": {
      "text/plain": [
       "{'name': 'Joey',\n",
       " 'age': 34,\n",
       " 'kids': ['ali', 'sasha', 'lily', 'adel'],\n",
       " 'b': 'foo',\n",
       " 'c': 12}"
      ]
     },
     "execution_count": 46,
     "metadata": {},
     "output_type": "execute_result"
    }
   ],
   "source": [
    "dic3.update({'b' : 'foo', 'c' : 12})\n",
    "dic3"
   ]
  },
  {
   "cell_type": "markdown",
   "id": "charged-qatar",
   "metadata": {},
   "source": [
    "# List comprehension.\n",
    "List comprehension offers a shorter syntax when you want to create a new list based on the values of an existing list.\n",
    "Syntax of List Comprehension.\n",
    "\n",
    "[`expression` for `item` in `list`]"
   ]
  },
  {
   "cell_type": "code",
   "execution_count": 50,
   "id": "seven-allowance",
   "metadata": {},
   "outputs": [],
   "source": [
    "names = [\"omar\",\"joe\"]\n",
    "\n",
    "names.append(\"ali\")"
   ]
  },
  {
   "cell_type": "code",
   "execution_count": 51,
   "id": "changed-litigation",
   "metadata": {},
   "outputs": [
    {
     "data": {
      "text/plain": [
       "['omar', 'joe', 'ali']"
      ]
     },
     "execution_count": 51,
     "metadata": {},
     "output_type": "execute_result"
    }
   ],
   "source": [
    "names"
   ]
  },
  {
   "cell_type": "markdown",
   "id": "framed-defendant",
   "metadata": {},
   "source": [
    "# The old way."
   ]
  },
  {
   "cell_type": "code",
   "execution_count": 52,
   "id": "declared-midnight",
   "metadata": {},
   "outputs": [
    {
     "name": "stdout",
     "output_type": "stream",
     "text": [
      "[1]\n",
      "[1, 2]\n",
      "[1, 2, 3]\n",
      "[1, 2, 3, 4]\n",
      "[1, 2, 3, 4, 5]\n",
      "[1, 2, 3, 4, 5, 6]\n",
      "[1, 2, 3, 4, 5, 6, 7]\n",
      "[1, 2, 3, 4, 5, 6, 7, 8]\n",
      "[1, 2, 3, 4, 5, 6, 7, 8, 9]\n"
     ]
    }
   ],
   "source": [
    "numbers = []\n",
    "for i in range(1, 10):\n",
    "    numbers.append(i)\n",
    "    print(numbers)\n"
   ]
  },
  {
   "cell_type": "code",
   "execution_count": 53,
   "id": "armed-england",
   "metadata": {},
   "outputs": [
    {
     "data": {
      "text/plain": [
       "[1, 2, 3, 4, 5, 6, 7, 8, 9]"
      ]
     },
     "execution_count": 53,
     "metadata": {},
     "output_type": "execute_result"
    }
   ],
   "source": [
    "numbers = [i for i in range(1, 10)]\n",
    "numbers"
   ]
  },
  {
   "cell_type": "code",
   "execution_count": 55,
   "id": "threatened-superintendent",
   "metadata": {},
   "outputs": [
    {
     "data": {
      "text/plain": [
       "[9, 9, 9, 9, 9, 9, 9, 9, 9]"
      ]
     },
     "execution_count": 55,
     "metadata": {},
     "output_type": "execute_result"
    }
   ],
   "source": [
    "numbers = [0 for i in range(1, 10)]\n",
    "numbers"
   ]
  },
  {
   "cell_type": "markdown",
   "id": "floating-nylon",
   "metadata": {},
   "source": [
    "# if statement with list comprehension"
   ]
  },
  {
   "cell_type": "markdown",
   "id": "valued-essex",
   "metadata": {},
   "source": [
    "newlist = [`expression` `for` `item in iterable` `if` `condition == True`]"
   ]
  },
  {
   "cell_type": "code",
   "execution_count": 59,
   "id": "collectible-cyprus",
   "metadata": {},
   "outputs": [
    {
     "data": {
      "text/plain": [
       "[0, 2, 4, 6, 8]"
      ]
     },
     "execution_count": 59,
     "metadata": {},
     "output_type": "execute_result"
    }
   ],
   "source": [
    "newlist = [x for x in range(10) if x % 2 == 0]\n",
    "newlist"
   ]
  },
  {
   "cell_type": "markdown",
   "id": "south-hearts",
   "metadata": {},
   "source": [
    "# Upper() method.\n",
    "# title()"
   ]
  },
  {
   "cell_type": "code",
   "execution_count": 60,
   "id": "bridal-thought",
   "metadata": {},
   "outputs": [
    {
     "name": "stdout",
     "output_type": "stream",
     "text": [
      "COOL!\n",
      "AWESOME!\n",
      "WHY AM I SHOUTING?\n"
     ]
    }
   ],
   "source": [
    "words = [\"cool!\", \"awesome!\", \"why am I shouting?\"]\n",
    "\n",
    "for word in words:\n",
    "    print(word.upper())"
   ]
  },
  {
   "cell_type": "code",
   "execution_count": 61,
   "id": "assisted-westminster",
   "metadata": {},
   "outputs": [
    {
     "name": "stdout",
     "output_type": "stream",
     "text": [
      "Original Word:  cool!\n",
      "Uppercase Word:  COOL!\n",
      "Titlecase Word:  Cool!\n",
      "Original Word:  awesome!\n",
      "Uppercase Word:  AWESOME!\n",
      "Titlecase Word:  Awesome!\n",
      "Original Word:  why am I shouting?\n",
      "Uppercase Word:  WHY AM I SHOUTING?\n",
      "Titlecase Word:  Why Am I Shouting?\n",
      "I'm outside of the loop, so I only print once after all the words have been selected!\n"
     ]
    }
   ],
   "source": [
    "for word in words:\n",
    "    print(\"Original Word: \", word)\n",
    "    print(\"Uppercase Word: \", word.upper())\n",
    "    print(\"Titlecase Word: \", word.title())\n",
    "print(\"I'm outside of the loop, so I only print once after all the words have been selected!\")"
   ]
  },
  {
   "cell_type": "markdown",
   "id": "cubic-burner",
   "metadata": {},
   "source": [
    "# Iterating Nested Data Structures\n",
    "A simple list or dictionary won’t suffice when data is complex. Consider, for example, the data in the following image—it has both rows and columns:"
   ]
  },
  {
   "cell_type": "code",
   "execution_count": 62,
   "id": "discrete-republic",
   "metadata": {},
   "outputs": [
    {
     "data": {
      "text/html": [
       "<img src=\"https://courses.bootcampspot.com/courses/800/files/676270/download\"/>"
      ],
      "text/plain": [
       "<IPython.core.display.Image object>"
      ]
     },
     "execution_count": 62,
     "metadata": {},
     "output_type": "execute_result"
    }
   ],
   "source": [
    "from IPython.display import Image\n",
    "from IPython.core.display import HTML \n",
    "Image(url= \"https://courses.bootcampspot.com/courses/800/files/676270/download\")"
   ]
  },
  {
   "cell_type": "markdown",
   "id": "persistent-horizon",
   "metadata": {},
   "source": [
    "However, we can represent this table by using nested containers. For example, we can assume that the outer list is a list of rows and the inner lists are the cells in the column. Thus, we can represent the table as a list of lists, as follows:"
   ]
  },
  {
   "cell_type": "markdown",
   "id": "accompanied-clinic",
   "metadata": {},
   "source": [
    "# List of lists"
   ]
  },
  {
   "cell_type": "code",
   "execution_count": 64,
   "id": "electronic-segment",
   "metadata": {},
   "outputs": [],
   "source": [
    "table_data = [\n",
    "    [\"Ticker\", \"Open\", \"Close\"], #0\n",
    "    [\"AAPL\", 363.25, 363.4], #1\n",
    "    [\"AMZN\", 2756.0, 2757.99], #2\n",
    "    [\"GOOG\", 1409.1, 1408.2] #3\n",
    "]"
   ]
  },
  {
   "cell_type": "code",
   "execution_count": 65,
   "id": "superior-intelligence",
   "metadata": {},
   "outputs": [
    {
     "data": {
      "text/plain": [
       "'Close'"
      ]
     },
     "execution_count": 65,
     "metadata": {},
     "output_type": "execute_result"
    }
   ],
   "source": [
    "table_data[0][2] # "
   ]
  },
  {
   "cell_type": "markdown",
   "id": "accurate-commodity",
   "metadata": {},
   "source": [
    "# List of dictionaries."
   ]
  },
  {
   "cell_type": "code",
   "execution_count": 66,
   "id": "decent-protein",
   "metadata": {},
   "outputs": [],
   "source": [
    "myList = [\n",
    "    {\n",
    "        \"Ticker\": \"AAPL\",\n",
    "        \"Open\": 363.25,\n",
    "        \"Close\": 363.4\n",
    "    },\n",
    "    {\n",
    "        \"Ticker\": \"AMZN\",\n",
    "        \"Open\": 2756.0,\n",
    "        \"Close\": 2757.99\n",
    "    },\n",
    "    {\n",
    "        \"Ticker\": \"GOOG\",\n",
    "        \"Open\": 1409.1,\n",
    "        \"Close\": 1408.2\n",
    "    }\n",
    "]"
   ]
  },
  {
   "cell_type": "code",
   "execution_count": 67,
   "id": "educational-finnish",
   "metadata": {},
   "outputs": [
    {
     "data": {
      "text/plain": [
       "{'Ticker': 'AAPL', 'Open': 363.25, 'Close': 363.4}"
      ]
     },
     "execution_count": 67,
     "metadata": {},
     "output_type": "execute_result"
    }
   ],
   "source": [
    "myList[0]"
   ]
  },
  {
   "cell_type": "code",
   "execution_count": 71,
   "id": "disabled-experience",
   "metadata": {},
   "outputs": [
    {
     "data": {
      "text/plain": [
       "'GOOG'"
      ]
     },
     "execution_count": 71,
     "metadata": {},
     "output_type": "execute_result"
    }
   ],
   "source": [
    "dic_new = myList[2] #index 2 in the list\n",
    "dic_new[\"Ticker\"]"
   ]
  },
  {
   "cell_type": "code",
   "execution_count": 72,
   "id": "annoying-picture",
   "metadata": {},
   "outputs": [
    {
     "data": {
      "text/plain": [
       "'GOOG'"
      ]
     },
     "execution_count": 72,
     "metadata": {},
     "output_type": "execute_result"
    }
   ],
   "source": [
    " myList[2][\"Ticker\"]"
   ]
  },
  {
   "cell_type": "code",
   "execution_count": 76,
   "id": "breathing-species",
   "metadata": {},
   "outputs": [
    {
     "name": "stdout",
     "output_type": "stream",
     "text": [
      "363.4\n",
      "2757.99\n",
      "1408.2\n"
     ]
    }
   ],
   "source": [
    "for i in range(3):\n",
    "    print(myList[i][\"Close\"])\n",
    "    "
   ]
  },
  {
   "cell_type": "code",
   "execution_count": 77,
   "id": "minimal-bargain",
   "metadata": {},
   "outputs": [
    {
     "name": "stdout",
     "output_type": "stream",
     "text": [
      "363.4\n",
      "2757.99\n",
      "1408.2\n"
     ]
    }
   ],
   "source": [
    "for curr_element in myList:\n",
    "    print(curr_element[\"Close\"])"
   ]
  },
  {
   "cell_type": "markdown",
   "id": "valid-pathology",
   "metadata": {},
   "source": [
    "# problem\n",
    "\n",
    "Write a function that creates a list comprehension with numbers from 1 to 10. and another list with letters from a to j.\n",
    "Then make a dictionary mapping every letter/character to the number.\n",
    "\n",
    "    - input: [\"a\",\"b\",\"c\",\"d\",\"e\",\"f\",\"g\",\"h\",\"i\",\"j\"]\n",
    "    \n",
    "    - output: dictionary"
   ]
  },
  {
   "cell_type": "code",
   "execution_count": null,
   "id": "fantastic-recycling",
   "metadata": {},
   "outputs": [],
   "source": [
    "## solve here ##"
   ]
  },
  {
   "cell_type": "markdown",
   "id": "impaired-relaxation",
   "metadata": {},
   "source": [
    "# Solution"
   ]
  },
  {
   "cell_type": "code",
   "execution_count": null,
   "id": "collect-option",
   "metadata": {},
   "outputs": [],
   "source": [
    "letters = [\"a\",\"b\",\"c\",\"d\",\"e\",\"f\",\"g\",\"h\",\"i\",\"j\"]\n",
    "def combine(letters):\n",
    "    \n",
    "    nums = [i for i in range(10)]\n",
    "    dic = {}\n",
    "    for i in range(len(nums)):\n",
    "        letter = letters[i]\n",
    "        num = nums[i]\n",
    "        dic[letter] = num\n",
    "    return dic\n",
    "\n",
    "combine()"
   ]
  },
  {
   "cell_type": "code",
   "execution_count": null,
   "id": "joint-buffalo",
   "metadata": {},
   "outputs": [],
   "source": []
  },
  {
   "cell_type": "code",
   "execution_count": null,
   "id": "varying-india",
   "metadata": {},
   "outputs": [],
   "source": []
  },
  {
   "cell_type": "markdown",
   "id": "negative-christopher",
   "metadata": {},
   "source": [
    "# Some practice \n",
    "\n",
    "## Question 1\n",
    "### Level 1\n",
    "\n",
    "##### Question: Write a program which will find all such numbers which are divisible by 7 but are not a multiple of 5, between 2000 and 3200 (both included). The numbers obtained should be printed in a comma-separated sequence on a single line.\n",
    "\n",
    "- Hints: Consider use range(#begin, #end) method\n",
    "\n"
   ]
  },
  {
   "cell_type": "code",
   "execution_count": null,
   "id": "working-initial",
   "metadata": {},
   "outputs": [],
   "source": []
  },
  {
   "cell_type": "markdown",
   "id": "difficult-boutique",
   "metadata": {},
   "source": [
    "## Solution"
   ]
  },
  {
   "cell_type": "code",
   "execution_count": 56,
   "id": "thick-river",
   "metadata": {
    "collapsed": true
   },
   "outputs": [
    {
     "data": {
      "text/plain": [
       "['2002',\n",
       " '2009',\n",
       " '2016',\n",
       " '2023',\n",
       " '2037',\n",
       " '2044',\n",
       " '2051',\n",
       " '2058',\n",
       " '2072',\n",
       " '2079',\n",
       " '2086',\n",
       " '2093',\n",
       " '2107',\n",
       " '2114',\n",
       " '2121',\n",
       " '2128',\n",
       " '2142',\n",
       " '2149',\n",
       " '2156',\n",
       " '2163',\n",
       " '2177',\n",
       " '2184',\n",
       " '2191',\n",
       " '2198',\n",
       " '2212',\n",
       " '2219',\n",
       " '2226',\n",
       " '2233',\n",
       " '2247',\n",
       " '2254',\n",
       " '2261',\n",
       " '2268',\n",
       " '2282',\n",
       " '2289',\n",
       " '2296',\n",
       " '2303',\n",
       " '2317',\n",
       " '2324',\n",
       " '2331',\n",
       " '2338',\n",
       " '2352',\n",
       " '2359',\n",
       " '2366',\n",
       " '2373',\n",
       " '2387',\n",
       " '2394',\n",
       " '2401',\n",
       " '2408',\n",
       " '2422',\n",
       " '2429',\n",
       " '2436',\n",
       " '2443',\n",
       " '2457',\n",
       " '2464',\n",
       " '2471',\n",
       " '2478',\n",
       " '2492',\n",
       " '2499',\n",
       " '2506',\n",
       " '2513',\n",
       " '2527',\n",
       " '2534',\n",
       " '2541',\n",
       " '2548',\n",
       " '2562',\n",
       " '2569',\n",
       " '2576',\n",
       " '2583',\n",
       " '2597',\n",
       " '2604',\n",
       " '2611',\n",
       " '2618',\n",
       " '2632',\n",
       " '2639',\n",
       " '2646',\n",
       " '2653',\n",
       " '2667',\n",
       " '2674',\n",
       " '2681',\n",
       " '2688',\n",
       " '2702',\n",
       " '2709',\n",
       " '2716',\n",
       " '2723',\n",
       " '2737',\n",
       " '2744',\n",
       " '2751',\n",
       " '2758',\n",
       " '2772',\n",
       " '2779',\n",
       " '2786',\n",
       " '2793',\n",
       " '2807',\n",
       " '2814',\n",
       " '2821',\n",
       " '2828',\n",
       " '2842',\n",
       " '2849',\n",
       " '2856',\n",
       " '2863',\n",
       " '2877',\n",
       " '2884',\n",
       " '2891',\n",
       " '2898',\n",
       " '2912',\n",
       " '2919',\n",
       " '2926',\n",
       " '2933',\n",
       " '2947',\n",
       " '2954',\n",
       " '2961',\n",
       " '2968',\n",
       " '2982',\n",
       " '2989',\n",
       " '2996',\n",
       " '3003',\n",
       " '3017',\n",
       " '3024',\n",
       " '3031',\n",
       " '3038',\n",
       " '3052',\n",
       " '3059',\n",
       " '3066',\n",
       " '3073',\n",
       " '3087',\n",
       " '3094',\n",
       " '3101',\n",
       " '3108',\n",
       " '3122',\n",
       " '3129',\n",
       " '3136',\n",
       " '3143',\n",
       " '3157',\n",
       " '3164',\n",
       " '3171',\n",
       " '3178',\n",
       " '3192',\n",
       " '3199']"
      ]
     },
     "execution_count": 56,
     "metadata": {},
     "output_type": "execute_result"
    }
   ],
   "source": [
    "l=[]\n",
    "for i in range(2000, 3201):\n",
    "    if (i%7==0) and (i%5!=0):\n",
    "        l.append(str(i))\n",
    "l"
   ]
  },
  {
   "cell_type": "code",
   "execution_count": null,
   "id": "seventh-width",
   "metadata": {},
   "outputs": [],
   "source": []
  },
  {
   "cell_type": "markdown",
   "id": "inner-coordinator",
   "metadata": {},
   "source": [
    "## Question 2\n",
    "\n",
    "Question: With a given integral number n, write a program to generate a dictionary that contains (i, i*i) such that is an integral number between 1 and n (both included). and then the program should print the dictionary. Suppose the following input is supplied to the program: 8 Then, the output should be: {1: 1, 2: 4, 3: 9, 4: 16, 5: 25, 6: 36, 7: 49, 8: 64}\n",
    "\n",
    "Hints: In case of input data being supplied to the question, it should be assumed to be a console input. Consider use dict()"
   ]
  },
  {
   "cell_type": "code",
   "execution_count": null,
   "id": "cardiovascular-venice",
   "metadata": {},
   "outputs": [],
   "source": [
    "#### solve #####"
   ]
  },
  {
   "cell_type": "code",
   "execution_count": null,
   "id": "ceramic-moldova",
   "metadata": {},
   "outputs": [],
   "source": []
  },
  {
   "cell_type": "markdown",
   "id": "middle-structure",
   "metadata": {},
   "source": [
    "### Solution"
   ]
  },
  {
   "cell_type": "code",
   "execution_count": null,
   "id": "advisory-warrior",
   "metadata": {},
   "outputs": [],
   "source": [
    "n = int(input())\n",
    "d = dict()\n",
    "for i in range(1,n+1):\n",
    "    d[i]=i*i\n",
    "\n",
    "print(d)"
   ]
  },
  {
   "cell_type": "code",
   "execution_count": null,
   "id": "advisory-joshua",
   "metadata": {},
   "outputs": [],
   "source": []
  },
  {
   "cell_type": "markdown",
   "id": "impressed-thousand",
   "metadata": {},
   "source": [
    "###"
   ]
  },
  {
   "cell_type": "code",
   "execution_count": null,
   "id": "valid-printing",
   "metadata": {},
   "outputs": [],
   "source": []
  },
  {
   "cell_type": "code",
   "execution_count": null,
   "id": "obvious-madrid",
   "metadata": {},
   "outputs": [],
   "source": []
  },
  {
   "cell_type": "code",
   "execution_count": null,
   "id": "close-sheet",
   "metadata": {},
   "outputs": [],
   "source": []
  },
  {
   "cell_type": "markdown",
   "id": "labeled-checklist",
   "metadata": {},
   "source": [
    "Next time, we will learn how to read from a CSV file which means we will finish lesson 6 🎉 + we will solve problems."
   ]
  },
  {
   "cell_type": "markdown",
   "id": "surprised-brunswick",
   "metadata": {},
   "source": [
    "Refrences:\n",
    "\n",
    "- [1] https://www.w3schools.com/python/python_lists_comprehension.asp\n",
    "\n",
    "- [2] https://bedford-computing.co.uk/learning/wp-content/uploads/2015/10/Python-for-Data-Analysis.pdf\n",
    "\n",
    "- [3] https://courses.bootcampspot.com/courses/800/pages/1-dot-5-9-activity-split-second-homebuying-part-2?module_item_id=234525\n",
    "\n",
    "- [4] https://www.programiz.com/python-programming/list-comprehension\n",
    "\n",
    "- [5]"
   ]
  }
 ],
 "metadata": {
  "kernelspec": {
   "display_name": "Python 3",
   "language": "python",
   "name": "python3"
  },
  "language_info": {
   "codemirror_mode": {
    "name": "ipython",
    "version": 3
   },
   "file_extension": ".py",
   "mimetype": "text/x-python",
   "name": "python",
   "nbconvert_exporter": "python",
   "pygments_lexer": "ipython3",
   "version": "3.8.3"
  }
 },
 "nbformat": 4,
 "nbformat_minor": 5
}
