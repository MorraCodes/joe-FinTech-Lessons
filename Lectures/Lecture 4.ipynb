{
 "cells": [
  {
   "cell_type": "markdown",
   "id": "acquired-associate",
   "metadata": {},
   "source": [
    "# Lecture 4 : Functions, Dictionaries (HashMap), List comprehension & more."
   ]
  },
  {
   "cell_type": "markdown",
   "id": "difficult-times",
   "metadata": {},
   "source": [
    "#### Recap\n",
    "- for\n",
    "- while\n",
    "- break\n",
    "- continue\n",
    "- slicing\n",
    "- max,min,sorted, .sort(), len(), .append()"
   ]
  },
  {
   "cell_type": "markdown",
   "id": "exceptional-acrylic",
   "metadata": {},
   "source": [
    "# `pass` is the keyword.\n",
    "\n",
    "In Python, the pass keyword is used to execute nothing; it means, when we don't want to execute code, the pass can be used to execute empty. It is the same as the name refers to. It just makes the control to pass by without executing any code. If we want to bypass any code pass statement can be used."
   ]
  },
  {
   "cell_type": "code",
   "execution_count": 32,
   "id": "vanilla-label",
   "metadata": {},
   "outputs": [],
   "source": [
    "x = 3\n",
    "if 1 < x:\n",
    "    pass\n",
    "else:\n",
    "    print(\"Joe is awesome !!!\")"
   ]
  },
  {
   "cell_type": "markdown",
   "id": "recorded-installation",
   "metadata": {},
   "source": [
    "# Functions."
   ]
  },
  {
   "cell_type": "markdown",
   "id": "intense-bolivia",
   "metadata": {},
   "source": [
    "Functions are the primary and most important method of code organization and reuse\n",
    "in Python. There may not be such a thing as having too many functions. In fact, I would\n",
    "argue that most programmers doing data analysis don’t write enough functions! As you\n",
    "have likely inferred from prior examples, functions are declared using the def keyword\n",
    "and returned from using the return keyword:"
   ]
  },
  {
   "cell_type": "code",
   "execution_count": 6,
   "id": "seeing-research",
   "metadata": {},
   "outputs": [],
   "source": [
    "def add(first_number, second_number):\n",
    "    total = first_number + second_number\n",
    "    print(\"Your total is: \", total)"
   ]
  },
  {
   "cell_type": "markdown",
   "id": "first-deadline",
   "metadata": {},
   "source": [
    "## Function breakdown."
   ]
  },
  {
   "cell_type": "code",
   "execution_count": 24,
   "id": "prescription-chrome",
   "metadata": {},
   "outputs": [
    {
     "data": {
      "text/html": [
       "<img src=\"https://github.com/MorraCodes/joe-FinTech-Lessons/blob/main/1.5-anatomy-of-a-function.png?raw=true\"/>"
      ],
      "text/plain": [
       "<IPython.core.display.Image object>"
      ]
     },
     "execution_count": 24,
     "metadata": {},
     "output_type": "execute_result"
    }
   ],
   "source": [
    "from IPython.display import Image\n",
    "from IPython.core.display import HTML \n",
    "Image(url= \"https://github.com/MorraCodes/joe-FinTech-Lessons/blob/main/1.5-anatomy-of-a-function.png?raw=true\")\n"
   ]
  },
  {
   "cell_type": "markdown",
   "id": "opening-subscription",
   "metadata": {},
   "source": [
    "### Function call breakdown."
   ]
  },
  {
   "cell_type": "code",
   "execution_count": 25,
   "id": "champion-plymouth",
   "metadata": {},
   "outputs": [
    {
     "data": {
      "text/html": [
       "<img src=\"https://github.com/MorraCodes/joe-FinTech-Lessons/blob/main/Picture2.png?raw=true\"/>"
      ],
      "text/plain": [
       "<IPython.core.display.Image object>"
      ]
     },
     "execution_count": 25,
     "metadata": {},
     "output_type": "execute_result"
    }
   ],
   "source": [
    "from IPython.display import Image\n",
    "from IPython.core.display import HTML \n",
    "Image(url= \"https://github.com/MorraCodes/joe-FinTech-Lessons/blob/main/Picture2.png?raw=true\")"
   ]
  },
  {
   "cell_type": "code",
   "execution_count": 8,
   "id": "rotary-external",
   "metadata": {},
   "outputs": [],
   "source": [
    "def my_function(x, y, z=1.5):\n",
    "    if z > 1:\n",
    "        return z * (x + y)\n",
    "    else:\n",
    "        return z / (x + y)"
   ]
  },
  {
   "cell_type": "markdown",
   "id": "faced-princeton",
   "metadata": {},
   "source": [
    "There is no issue with having multiple return statements. If the end of a function is\n",
    "reached without encountering a return statement, None is returned.\n",
    "Each function can have some number of positional arguments and some number of\n",
    "keyword arguments. Keyword arguments are most commonly used to specify default\n",
    "values or optional arguments. In the above function, x and y are positional arguments\n",
    "while z is a keyword argument. This means that it can be called in either of these\n",
    "equivalent ways:"
   ]
  },
  {
   "cell_type": "code",
   "execution_count": 9,
   "id": "loose-treatment",
   "metadata": {},
   "outputs": [
    {
     "data": {
      "text/plain": [
       "0.06363636363636363"
      ]
     },
     "execution_count": 9,
     "metadata": {},
     "output_type": "execute_result"
    }
   ],
   "source": [
    "my_function(5, 6, z=0.7)"
   ]
  },
  {
   "cell_type": "code",
   "execution_count": 10,
   "id": "lovely-tactics",
   "metadata": {},
   "outputs": [
    {
     "data": {
      "text/plain": [
       "35.49"
      ]
     },
     "execution_count": 10,
     "metadata": {},
     "output_type": "execute_result"
    }
   ],
   "source": [
    "my_function(3.14, 7, 3.5)"
   ]
  },
  {
   "cell_type": "code",
   "execution_count": 11,
   "id": "subjective-statistics",
   "metadata": {},
   "outputs": [],
   "source": [
    "def compute(x, y, z):\n",
    "    return x + y * z"
   ]
  },
  {
   "cell_type": "markdown",
   "id": "featured-corner",
   "metadata": {},
   "source": [
    "#### Poistional arguments."
   ]
  },
  {
   "cell_type": "code",
   "execution_count": 12,
   "id": "vocal-consortium",
   "metadata": {},
   "outputs": [
    {
     "data": {
      "text/plain": [
       "7"
      ]
     },
     "execution_count": 12,
     "metadata": {},
     "output_type": "execute_result"
    }
   ],
   "source": [
    "compute(1, 2, 3)"
   ]
  },
  {
   "cell_type": "markdown",
   "id": "statewide-berry",
   "metadata": {},
   "source": [
    "#### Keyword arguments."
   ]
  },
  {
   "cell_type": "code",
   "execution_count": 13,
   "id": "handy-radical",
   "metadata": {},
   "outputs": [
    {
     "data": {
      "text/plain": [
       "7"
      ]
     },
     "execution_count": 13,
     "metadata": {},
     "output_type": "execute_result"
    }
   ],
   "source": [
    "compute(y= 2, x = 1, z = 3)"
   ]
  },
  {
   "cell_type": "markdown",
   "id": "employed-field",
   "metadata": {},
   "source": [
    "# mix both"
   ]
  },
  {
   "cell_type": "code",
   "execution_count": 17,
   "id": "greater-endorsement",
   "metadata": {},
   "outputs": [
    {
     "data": {
      "text/plain": [
       "7"
      ]
     },
     "execution_count": 17,
     "metadata": {},
     "output_type": "execute_result"
    }
   ],
   "source": [
    "compute(x = 1, y = 2 , z = 3)"
   ]
  },
  {
   "cell_type": "markdown",
   "id": "sonic-music",
   "metadata": {},
   "source": [
    "## Doc string"
   ]
  },
  {
   "cell_type": "code",
   "execution_count": 18,
   "id": "intelligent-france",
   "metadata": {},
   "outputs": [],
   "source": [
    "def compute(x, y, z):\n",
    "    \"\"\"\n",
    "    Functionality: adds two numbers\n",
    "    \n",
    "    Input parameters:\n",
    "        x -> int\n",
    "        y - > int\n",
    "        z -> int\n",
    "    output integer value\n",
    "    \"\"\"\n",
    "    return x + y * z\n",
    "    "
   ]
  },
  {
   "cell_type": "markdown",
   "id": "sorted-hypothetical",
   "metadata": {},
   "source": [
    "## How to view doc string in two ways."
   ]
  },
  {
   "cell_type": "code",
   "execution_count": 19,
   "id": "automotive-enterprise",
   "metadata": {},
   "outputs": [
    {
     "data": {
      "text/plain": [
       "'\\n    Functionality: adds two numbers\\n    \\n    Input parameters:\\n        x -> int\\n        y - > int\\n        z -> int\\n    output integer value\\n    '"
      ]
     },
     "execution_count": 19,
     "metadata": {},
     "output_type": "execute_result"
    }
   ],
   "source": [
    "compute.__doc__"
   ]
  },
  {
   "cell_type": "code",
   "execution_count": 20,
   "id": "joined-insulation",
   "metadata": {},
   "outputs": [
    {
     "name": "stdout",
     "output_type": "stream",
     "text": [
      "Help on function compute in module __main__:\n",
      "\n",
      "compute(x, y, z)\n",
      "    Functionality: adds two numbers\n",
      "    \n",
      "    Input parameters:\n",
      "        x -> int\n",
      "        y - > int\n",
      "        z -> int\n",
      "    output integer value\n",
      "\n"
     ]
    }
   ],
   "source": [
    "help(compute)"
   ]
  },
  {
   "cell_type": "markdown",
   "id": "standing-entry",
   "metadata": {},
   "source": [
    "## Functions can access variables in two different scopes: global and local. An alternateand more descriptive name describing a variable scope in Python is a namespace."
   ]
  },
  {
   "cell_type": "markdown",
   "id": "broke-bernard",
   "metadata": {},
   "source": [
    "#### local scope"
   ]
  },
  {
   "cell_type": "code",
   "execution_count": null,
   "id": "legendary-giving",
   "metadata": {},
   "outputs": [],
   "source": [
    "def func():\n",
    "    a = []\n",
    "    for i in range(5):\n",
    "        a.append(i)\n"
   ]
  },
  {
   "cell_type": "markdown",
   "id": "apart-russian",
   "metadata": {},
   "source": [
    "#### global scope."
   ]
  },
  {
   "cell_type": "code",
   "execution_count": null,
   "id": "sonic-mumbai",
   "metadata": {},
   "outputs": [],
   "source": [
    "a = []\n",
    "def func():\n",
    "    for i in range(5):\n",
    "        a.append(i)\n"
   ]
  },
  {
   "cell_type": "markdown",
   "id": "structured-climb",
   "metadata": {},
   "source": [
    "### Extra-reading.\n",
    "Assigning global variables within a function is possible, but those variables must be\n",
    "declared as global using the `global keyword`:"
   ]
  },
  {
   "cell_type": "code",
   "execution_count": null,
   "id": "prepared-martin",
   "metadata": {},
   "outputs": [],
   "source": [
    "\n",
    "a = None\n",
    "def bind_a_variable():\n",
    "    global a\n",
    "    a = []\n",
    "    bind_a_variable()"
   ]
  },
  {
   "cell_type": "markdown",
   "id": "announced-mechanism",
   "metadata": {},
   "source": [
    "##### Functions can be declared anywhere, and there is no problem with having local functions that are dynamically created when a function is called:"
   ]
  },
  {
   "cell_type": "code",
   "execution_count": 27,
   "id": "tight-sound",
   "metadata": {},
   "outputs": [],
   "source": [
    "def outer_function(x, y, z):\n",
    "    def inner_function(a, b, c):\n",
    "        pass\n",
    "    pass\n"
   ]
  },
  {
   "cell_type": "markdown",
   "id": "attempted-failing",
   "metadata": {},
   "source": [
    "## Returning Multiple Values"
   ]
  },
  {
   "cell_type": "code",
   "execution_count": null,
   "id": "abstract-petite",
   "metadata": {},
   "outputs": [],
   "source": [
    "def f():\n",
    "    a = 5\n",
    "    b = 6\n",
    "    c = 7\n",
    "    return a, b, c\n",
    "\n",
    "a, b, c = f()\n"
   ]
  },
  {
   "cell_type": "markdown",
   "id": "marked-latvia",
   "metadata": {},
   "source": [
    "### Extra-reading"
   ]
  },
  {
   "cell_type": "markdown",
   "id": "reverse-administrator",
   "metadata": {},
   "source": [
    "Python has support for so-called anonymous or lambda functions, which are really just\n",
    "simple functions consisting of a single statement, the result of which is the return value.\n",
    "They are defined using the lambda keyword, which has no meaning other than “we are\n",
    "declaring an anonymous function.”\n"
   ]
  },
  {
   "cell_type": "code",
   "execution_count": 31,
   "id": "homeless-elephant",
   "metadata": {},
   "outputs": [
    {
     "data": {
      "text/plain": [
       "4"
      ]
     },
     "execution_count": 31,
     "metadata": {},
     "output_type": "execute_result"
    }
   ],
   "source": [
    "def short_function(x):\n",
    "    return x * 2\n",
    "\n",
    "short_function(2)"
   ]
  },
  {
   "cell_type": "code",
   "execution_count": 30,
   "id": "renewable-sauce",
   "metadata": {},
   "outputs": [
    {
     "data": {
      "text/plain": [
       "4"
      ]
     },
     "execution_count": 30,
     "metadata": {},
     "output_type": "execute_result"
    }
   ],
   "source": [
    "equiv_anon = lambda x: x * 2\n",
    "equiv_anon(2)"
   ]
  },
  {
   "cell_type": "markdown",
   "id": "canadian-filename",
   "metadata": {},
   "source": [
    "# Dictionary [Hashmap] -> dict\n",
    "\n",
    "Dict\n",
    "<p> dict is likely the most important built-in Python data structure. A more common name for it is hash map or associative array. It is a flexibly-sized collection of key-value pairs, where key and value are Python objects. One way to create one is by using curly braces {} and using colons to separate keys and values: </p>"
   ]
  },
  {
   "cell_type": "markdown",
   "id": "ongoing-registrar",
   "metadata": {},
   "source": [
    "## How to create a dictionary (Hashmap)"
   ]
  },
  {
   "cell_type": "code",
   "execution_count": 2,
   "id": "acceptable-quest",
   "metadata": {},
   "outputs": [],
   "source": [
    "empty_dict = {} "
   ]
  },
  {
   "cell_type": "markdown",
   "id": "micro-fellow",
   "metadata": {},
   "source": [
    "### Examples :: Key - Value pair."
   ]
  },
  {
   "cell_type": "code",
   "execution_count": 3,
   "id": "designing-brick",
   "metadata": {},
   "outputs": [],
   "source": [
    "dic1 = {'joe' : 34, 'omar' : 25, 'Ali':56} # mapping"
   ]
  },
  {
   "cell_type": "code",
   "execution_count": 9,
   "id": "parallel-rescue",
   "metadata": {},
   "outputs": [],
   "source": [
    "dic2 = {'a' : 'some value', 'b' : [1, 2, 3, 4]}"
   ]
  },
  {
   "cell_type": "code",
   "execution_count": 12,
   "id": "unsigned-magic",
   "metadata": {},
   "outputs": [],
   "source": [
    "dic3 = {\"name\": 'Joey', \n",
    "        'age': 34, \n",
    "        'kids': [\"ali\", \"sasha\", \"lily\", \"adel\"]\n",
    "       }"
   ]
  },
  {
   "cell_type": "markdown",
   "id": "local-consciousness",
   "metadata": {},
   "source": [
    "### Getting the value."
   ]
  },
  {
   "cell_type": "code",
   "execution_count": 53,
   "id": "developing-correlation",
   "metadata": {},
   "outputs": [
    {
     "data": {
      "text/plain": [
       "34"
      ]
     },
     "execution_count": 53,
     "metadata": {},
     "output_type": "execute_result"
    }
   ],
   "source": [
    "dic1['joe']"
   ]
  },
  {
   "cell_type": "code",
   "execution_count": 54,
   "id": "curious-electronics",
   "metadata": {},
   "outputs": [
    {
     "data": {
      "text/plain": [
       "34"
      ]
     },
     "execution_count": 54,
     "metadata": {},
     "output_type": "execute_result"
    }
   ],
   "source": [
    "dic1.get('joe')"
   ]
  },
  {
   "cell_type": "markdown",
   "id": "protecting-samba",
   "metadata": {},
   "source": [
    "## You can check if there is `key` in the dictionary using `in` Keyword."
   ]
  },
  {
   "cell_type": "code",
   "execution_count": 13,
   "id": "limiting-township",
   "metadata": {},
   "outputs": [
    {
     "data": {
      "text/plain": [
       "True"
      ]
     },
     "execution_count": 13,
     "metadata": {},
     "output_type": "execute_result"
    }
   ],
   "source": [
    "'name' in dic3"
   ]
  },
  {
   "cell_type": "code",
   "execution_count": 14,
   "id": "stainless-indication",
   "metadata": {},
   "outputs": [
    {
     "data": {
      "text/plain": [
       "{'name': 'Joey', 'age': 34}"
      ]
     },
     "execution_count": 14,
     "metadata": {},
     "output_type": "execute_result"
    }
   ],
   "source": [
    "del dic3[\"kids\"]\n",
    "print(dic3)"
   ]
  },
  {
   "cell_type": "code",
   "execution_count": 15,
   "id": "polyphonic-duncan",
   "metadata": {},
   "outputs": [
    {
     "data": {
      "text/plain": [
       "dict_keys(['name', 'age'])"
      ]
     },
     "execution_count": 15,
     "metadata": {},
     "output_type": "execute_result"
    }
   ],
   "source": [
    "dic3.keys() "
   ]
  },
  {
   "cell_type": "code",
   "execution_count": 16,
   "id": "cubic-bernard",
   "metadata": {},
   "outputs": [
    {
     "data": {
      "text/plain": [
       "dict_values(['Joey', 34])"
      ]
     },
     "execution_count": 16,
     "metadata": {},
     "output_type": "execute_result"
    }
   ],
   "source": [
    "dic3.values() "
   ]
  },
  {
   "cell_type": "code",
   "execution_count": 17,
   "id": "statutory-nursing",
   "metadata": {},
   "outputs": [
    {
     "data": {
      "text/plain": [
       "{'name': 'Joey', 'age': 34, 'b': 'foo', 'c': 12}"
      ]
     },
     "execution_count": 17,
     "metadata": {},
     "output_type": "execute_result"
    }
   ],
   "source": [
    "dic3.update({'b' : 'foo', 'c' : 12})\n",
    "dic3"
   ]
  },
  {
   "cell_type": "markdown",
   "id": "coral-patient",
   "metadata": {},
   "source": [
    "# List comprehension.\n",
    "List comprehension offers a shorter syntax when you want to create a new list based on the values of an existing list.\n",
    "Syntax of List Comprehension.\n",
    "\n",
    "[`expression` for `item` in `list`]"
   ]
  },
  {
   "cell_type": "code",
   "execution_count": null,
   "id": "armed-england",
   "metadata": {},
   "outputs": [],
   "source": [
    "numbers = [i for i in range(10)]"
   ]
  },
  {
   "cell_type": "markdown",
   "id": "lesbian-discretion",
   "metadata": {},
   "source": [
    "# if statement with list comprehension"
   ]
  },
  {
   "cell_type": "markdown",
   "id": "distinguished-decimal",
   "metadata": {},
   "source": [
    "newlist = [`expression` `for` `item in iterable` `if` `condition == True`]"
   ]
  },
  {
   "cell_type": "code",
   "execution_count": 34,
   "id": "collectible-cyprus",
   "metadata": {},
   "outputs": [
    {
     "data": {
      "text/plain": [
       "[0, 1, 2, 3, 4]"
      ]
     },
     "execution_count": 34,
     "metadata": {},
     "output_type": "execute_result"
    }
   ],
   "source": [
    "newlist = [x for x in range(10) if x < 5]\n",
    "newlist"
   ]
  },
  {
   "cell_type": "markdown",
   "id": "sacred-enough",
   "metadata": {},
   "source": [
    "# Upper() function.\n",
    "# title()"
   ]
  },
  {
   "cell_type": "code",
   "execution_count": 36,
   "id": "electric-vietnam",
   "metadata": {},
   "outputs": [
    {
     "name": "stdout",
     "output_type": "stream",
     "text": [
      "COOL!\n",
      "AWESOME!\n",
      "WHY AM I SHOUTING?\n"
     ]
    }
   ],
   "source": [
    "words = [\"cool!\", \"awesome!\", \"why am I shouting?\"]\n",
    "\n",
    "for word in words:\n",
    "    print(word.upper())"
   ]
  },
  {
   "cell_type": "code",
   "execution_count": 37,
   "id": "logical-relief",
   "metadata": {},
   "outputs": [
    {
     "name": "stdout",
     "output_type": "stream",
     "text": [
      "Original Word:  cool!\n",
      "Uppercase Word:  COOL!\n",
      "Titlecase Word:  Cool!\n",
      "Original Word:  awesome!\n",
      "Uppercase Word:  AWESOME!\n",
      "Titlecase Word:  Awesome!\n",
      "Original Word:  why am I shouting?\n",
      "Uppercase Word:  WHY AM I SHOUTING?\n",
      "Titlecase Word:  Why Am I Shouting?\n",
      "I'm outside of the loop, so I only print once after all the words have been selected!\n"
     ]
    }
   ],
   "source": [
    "for word in words:\n",
    "    print(\"Original Word: \", word)\n",
    "    print(\"Uppercase Word: \", word.upper())\n",
    "    print(\"Titlecase Word: \", word.title())\n",
    "print(\"I'm outside of the loop, so I only print once after all the words have been selected!\")"
   ]
  },
  {
   "cell_type": "markdown",
   "id": "prime-chaos",
   "metadata": {},
   "source": [
    "# Iterating Nested Data Structures\n",
    "A simple list or dictionary won’t suffice when data is complex. Consider, for example, the data in the following image—it has both rows and columns:"
   ]
  },
  {
   "cell_type": "code",
   "execution_count": 38,
   "id": "cooperative-hampshire",
   "metadata": {},
   "outputs": [
    {
     "data": {
      "text/html": [
       "<img src=\"https://courses.bootcampspot.com/courses/800/files/676270/download\"/>"
      ],
      "text/plain": [
       "<IPython.core.display.Image object>"
      ]
     },
     "execution_count": 38,
     "metadata": {},
     "output_type": "execute_result"
    }
   ],
   "source": [
    "from IPython.display import Image\n",
    "from IPython.core.display import HTML \n",
    "Image(url= \"https://courses.bootcampspot.com/courses/800/files/676270/download\")"
   ]
  },
  {
   "cell_type": "markdown",
   "id": "typical-marking",
   "metadata": {},
   "source": [
    "However, we can represent this table by using nested containers. For example, we can assume that the outer list is a list of rows and the inner lists are the cells in the column. Thus, we can represent the table as a list of lists, as follows:"
   ]
  },
  {
   "cell_type": "markdown",
   "id": "connected-myanmar",
   "metadata": {},
   "source": [
    "# List of lists"
   ]
  },
  {
   "cell_type": "code",
   "execution_count": 41,
   "id": "rental-woman",
   "metadata": {},
   "outputs": [],
   "source": [
    "table_data = [\n",
    "    [\"Ticker\", \"Open\", \"Close\"],\n",
    "    [\"AAPL\", 363.25, 363.4],\n",
    "    [\"AMZN\", 2756.0, 2757.99],\n",
    "    [\"GOOG\", 1409.1, 1408.2]\n",
    "]"
   ]
  },
  {
   "cell_type": "code",
   "execution_count": 43,
   "id": "homeless-relations",
   "metadata": {},
   "outputs": [
    {
     "data": {
      "text/plain": [
       "'GOOG'"
      ]
     },
     "execution_count": 43,
     "metadata": {},
     "output_type": "execute_result"
    }
   ],
   "source": [
    "table_data[3][0] # "
   ]
  },
  {
   "cell_type": "markdown",
   "id": "confident-independence",
   "metadata": {},
   "source": [
    "# List of dictionaries."
   ]
  },
  {
   "cell_type": "code",
   "execution_count": 48,
   "id": "impressed-probe",
   "metadata": {},
   "outputs": [],
   "source": [
    "myList = [\n",
    "    {\n",
    "        \"Ticker\": \"AAPL\",\n",
    "        \"Open\": 363.25,\n",
    "        \"Close\": 363.4\n",
    "    },\n",
    "    {\n",
    "        \"Ticker\": \"AMZN\",\n",
    "        \"Open\": 2756.0,\n",
    "        \"Close\": 2757.99\n",
    "    },\n",
    "    {\n",
    "        \"Ticker\": \"GOOG\",\n",
    "        \"Open\": 1409.1,\n",
    "        \"Close\": 1408.2\n",
    "    }\n",
    "]"
   ]
  },
  {
   "cell_type": "code",
   "execution_count": 50,
   "id": "periodic-northern",
   "metadata": {},
   "outputs": [
    {
     "data": {
      "text/plain": [
       "{'Ticker': 'AAPL', 'Open': 363.25, 'Close': 363.4}"
      ]
     },
     "execution_count": 50,
     "metadata": {},
     "output_type": "execute_result"
    }
   ],
   "source": [
    "myList[0]"
   ]
  },
  {
   "cell_type": "code",
   "execution_count": 51,
   "id": "divided-school",
   "metadata": {},
   "outputs": [
    {
     "data": {
      "text/plain": [
       "'AAPL'"
      ]
     },
     "execution_count": 51,
     "metadata": {},
     "output_type": "execute_result"
    }
   ],
   "source": [
    "myList[0][\"Ticker\"]"
   ]
  },
  {
   "cell_type": "code",
   "execution_count": 52,
   "id": "voluntary-culture",
   "metadata": {},
   "outputs": [
    {
     "name": "stdout",
     "output_type": "stream",
     "text": [
      "{'Ticker': 'AAPL', 'Open': 363.25, 'Close': 363.4}\n",
      "363.4\n",
      "{'Ticker': 'AMZN', 'Open': 2756.0, 'Close': 2757.99}\n",
      "2757.99\n",
      "{'Ticker': 'GOOG', 'Open': 1409.1, 'Close': 1408.2}\n",
      "1408.2\n"
     ]
    }
   ],
   "source": [
    "print(myList[0])\n",
    "print(myList[0]['Close'])\n",
    "\n",
    "print(myList[1])\n",
    "print(myList[1]['Close'])\n",
    "\n",
    "print(myList[2])\n",
    "print(myList[2]['Close'])"
   ]
  },
  {
   "cell_type": "markdown",
   "id": "passive-pastor",
   "metadata": {},
   "source": [
    "# problem\n",
    "\n",
    "Write a function that creates a list comprehension with numbers from 1 to 10 and another list with letters from a to j.\n",
    "Then make a dictionary mapping every letter/character to the number.\n"
   ]
  },
  {
   "cell_type": "code",
   "execution_count": null,
   "id": "universal-platinum",
   "metadata": {},
   "outputs": [],
   "source": [
    "## solve here ##"
   ]
  },
  {
   "cell_type": "code",
   "execution_count": null,
   "id": "assured-shopper",
   "metadata": {},
   "outputs": [],
   "source": []
  },
  {
   "cell_type": "markdown",
   "id": "interesting-allowance",
   "metadata": {},
   "source": [
    "# Solution"
   ]
  },
  {
   "cell_type": "code",
   "execution_count": null,
   "id": "dietary-injection",
   "metadata": {},
   "outputs": [],
   "source": [
    "def combine():\n",
    "    nums = [i for i in range(11)]\n",
    "    letters"
   ]
  },
  {
   "cell_type": "markdown",
   "id": "systematic-soundtrack",
   "metadata": {},
   "source": [
    "Next time, we will learn how to read from a CSV file which means we will finish lesson 6 🎉 + we will solve problems."
   ]
  },
  {
   "cell_type": "markdown",
   "id": "optimum-paragraph",
   "metadata": {},
   "source": [
    "Refrences:\n",
    "- [1] https://www.w3schools.com/python/python_lists_comprehension.asp\n",
    "- [2] https://bedford-computing.co.uk/learning/wp-content/uploads/2015/10/Python-for-Data-Analysis.pdf\n",
    "- [3] https://courses.bootcampspot.com/courses/800/pages/1-dot-5-9-activity-split-second-homebuying-part-2?module_item_id=234525\n",
    "- [4] https://www.programiz.com/python-programming/list-comprehension\n",
    "- [5]\n",
    "- [6]"
   ]
  }
 ],
 "metadata": {
  "kernelspec": {
   "display_name": "Python 3",
   "language": "python",
   "name": "python3"
  },
  "language_info": {
   "codemirror_mode": {
    "name": "ipython",
    "version": 3
   },
   "file_extension": ".py",
   "mimetype": "text/x-python",
   "name": "python",
   "nbconvert_exporter": "python",
   "pygments_lexer": "ipython3",
   "version": "3.8.3"
  }
 },
 "nbformat": 4,
 "nbformat_minor": 5
}
