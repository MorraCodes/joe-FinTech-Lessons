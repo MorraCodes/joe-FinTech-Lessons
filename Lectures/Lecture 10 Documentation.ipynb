{
 "cells": [
  {
   "cell_type": "markdown",
   "id": "429b4e31",
   "metadata": {},
   "source": [
    "# Lecture 10\n",
    "- Docs\n",
    "- Module 2"
   ]
  },
  {
   "cell_type": "markdown",
   "id": "fb792e47",
   "metadata": {},
   "source": [
    "# Documentation.\n",
    "\n",
    "Creating good documentation is a superpower—one that can help you land your dream job.\n",
    "\n",
    "Documentation is extremely important for individuals and teams alike. It can help individuals track assets, their purpose, and any improvements yet to be implemented. At the team level, documentation helps to ensure efficient knowledge transfer among team members and stakeholders as well as enhance project management and implementation."
   ]
  },
  {
   "cell_type": "markdown",
   "id": "4dabf55a",
   "metadata": {},
   "source": [
    "This lesson focuses on best practices for documentation in the context of software development or application building. We'll explore basic forms of project documentation, like Markdown readme files, and how to create and host documentation using GitHub."
   ]
  },
  {
   "cell_type": "markdown",
   "id": "6cc9fc13",
   "metadata": {},
   "source": [
    "# What Is Documentation?\n",
    "\n",
    "Developers frequently make changes as they build an application. With any change, there's a risk of breaking the application's functions. This risk increases when multiple people from large development teams work on a program at once. Poorly documented projects can make it difficult to determine why code is breaking—which ends up costing a business valuable time and resources."
   ]
  },
  {
   "cell_type": "markdown",
   "id": "76027207",
   "metadata": {},
   "source": [
    "To avoid these risks, we use documentation, a collection of documents and reference materials for a project's assets."
   ]
  },
  {
   "cell_type": "code",
   "execution_count": null,
   "id": "fee56acb",
   "metadata": {},
   "outputs": [],
   "source": [
    "def open_file():\n",
    "    \"\"\" input\n",
    "        output\n",
    "        \n",
    "    \"\"\"\n",
    "    list.sort() # this method sorts the list.\n",
    "    fiuoaehfouqaehfoaue\n",
    "    \n",
    "    return x"
   ]
  },
  {
   "cell_type": "markdown",
   "id": "03d153c9",
   "metadata": {},
   "source": [
    "Documentation can range from :\n",
    "- simple project-planning diagrams \n",
    "- Business requirement criteria \n",
    "- detailed technical documentation of functions and data types used within an application.\n",
    "- Readme\n",
    "- comments (single & multi).\n",
    "- Markdowns.\n",
    "....etc.\n",
    "\n",
    "Check the following links:\n",
    "simple project-planning diagrams: https://www.google.com/search?q=software+project+planning+document+sample&rlz=1C1CHBF_enUS886US886&sxsrf=AOaemvJxHeN1Nu9PuCobT5glU20gMeMQqg:1630440707315&tbm=isch&source=iu&ictx=1&fir=ahrUUeGn6Lq2VM%252Cb0gJtnrIZZJ4pM%252C_&vet=1&usg=AI4_-kRp2QAcJfyrSev9pw2zov-X3nNkUQ&sa=X&ved=2ahUKEwi22b75iNzyAhXqlOAKHfUiB3QQ9QF6BAgOEAE&biw=1536&bih=722#imgrc=ahrUUeGn6Lq2VM\n",
    "\n",
    "\n",
    "Business requirement criteria example https://www.google.com/search?q=Buisness+requirements+critera+document+sample&tbm=isch&ved=2ahUKEwiRy8P6iNzyAhU4hHIEHaD3BA0Q2-cCegQIABAA&oq=Buisness+requirements+critera+document+sample&gs_lcp=CgNpbWcQAzoGCAAQBxAeOggIABAIEAcQHlDQ9AFYjJ8CYPSgAmgBcAB4AIABTYgBhQ-SAQIzMZgBAKABAaoBC2d3cy13aXotaW1nwAEB&sclient=img&ei=BY0uYdG0HbiIytMPoO-TaA&bih=722&biw=1536&rlz=1C1CHBF_enUS886US886#imgrc=rtdYfltBpm0KhM\n",
    "\n",
    "\n",
    "Sample of documentation for the faker library. https://faker.readthedocs.io/en/master/"
   ]
  },
  {
   "cell_type": "code",
   "execution_count": 8,
   "id": "d34e5ee2",
   "metadata": {},
   "outputs": [
    {
     "name": "stdout",
     "output_type": "stream",
     "text": [
      "3578503733095029\n",
      "4917167070928743\n",
      "563605210340\n",
      "4759755477926665\n",
      "213112257864153\n",
      "346995908457082\n",
      "3574544480054441\n",
      "4499270411063869\n",
      "501893289980\n",
      "6580230778348548\n"
     ]
    }
   ],
   "source": [
    "from faker import Faker\n",
    "fake = Faker()\n",
    "\n",
    "\n",
    "fake.name()\n",
    "fake.address()\n",
    "\n",
    "for i in range(10):\n",
    "    print(fake.credit_card_number())"
   ]
  },
  {
   "cell_type": "markdown",
   "id": "64acb967",
   "metadata": {},
   "source": [
    "# Faker Library docs.\n",
    "\n",
    "Link: https://faker.readthedocs.io/en/master/\n",
    "\n",
    "In the context of software development, project or technical documentation often includes the following information:\n",
    "\n",
    "- Structures of an application\n",
    "\n",
    "- The application's functions\n",
    "\n",
    "- Inputs and outputs of the functions\n",
    "\n",
    "- Number of required parameters\n",
    "\n",
    "- Data types of the parameters\n",
    "\n"
   ]
  },
  {
   "cell_type": "markdown",
   "id": "a952ac66",
   "metadata": {},
   "source": [
    "Documentation should also include the required dependencies of the application and code snippet examples or screenshots. These details provide further clarity and help to onboard new developers.\n",
    "\n",
    "The first tool you'll explore for creating documentation is the readme file, which you already have some experience with."
   ]
  },
  {
   "cell_type": "markdown",
   "id": "8da16e4b",
   "metadata": {},
   "source": [
    "# header\n",
    "<p> joe auehuhfuea </p>\n",
    "\n",
    "\n",
    "###### second header\n",
    "\n",
    "`joe`\n",
    "\n",
    "\n"
   ]
  },
  {
   "cell_type": "markdown",
   "id": "274a3578",
   "metadata": {},
   "source": [
    "# GitHub README.md Files and Markdown"
   ]
  },
  {
   "cell_type": "markdown",
   "id": "ada159e8",
   "metadata": {},
   "source": [
    "Documentation includes not only technical information about an application's functionality but also information about an app's deployment and implementation. \n",
    "\n",
    "For example, a GitHub project or repo usually details the purpose of the project, why it's useful, installation instructions for new users, and examples for implementation.\n",
    "\n",
    "\n",
    "This information is displayed with the help of the repository's README.md file, a text file that introduces a project. README.md files can be automatically created with a new GitHub repository.\n",
    "\n"
   ]
  },
  {
   "cell_type": "markdown",
   "id": "1b9c90dd",
   "metadata": {},
   "source": [
    "README.md files have specific syntax for formatting text that's rendered online. This includes headers, boldface or italicized text, line breaks, code blocks, and hyperlinks and images. This syntax is called Markdown, a markup language that uses plain-text syntax to create formatted text on the web.\n",
    "\n",
    "REWIND\n",
    "\n",
    "Here is an example of one of the best Markdowns: https://github.com/Unity-Technologies/ml-agents"
   ]
  },
  {
   "cell_type": "markdown",
   "id": "8b12b4ab",
   "metadata": {},
   "source": [
    "You've already created a GitHub repository, so you have a README.md file ready for stylized content!"
   ]
  },
  {
   "cell_type": "markdown",
   "id": "0c54a6ab",
   "metadata": {},
   "source": [
    "## Common Markdown Syntax\n",
    "Remember that the purpose of using Markdown is to create visually enhanced content that can be rendered on the web. Some common features for using Markdown include the following:\n",
    "\n",
    "- Header formatting\n",
    "\n",
    "- Text formatting\n",
    "\n",
    "- Line breaks\n",
    "\n",
    "- Text/code snippets\n",
    "\n",
    "- Block quotes\n",
    "\n",
    "- Links\n",
    "\n",
    "- Images\n",
    "\n",
    "Link guide https://guides.github.com/pdfs/markdown-cheatsheet-online.pdf\n",
    "\n",
    "\n",
    "If you compare the visually rendered README.md file with its raw content, you can see that various characters indicate how specific lines should be formatted. The most commonly used Markdown syntax includes the following:\n",
    "\n",
    "##### Special syntax.\n",
    "\n",
    "--- to indicate line breaks.\n"
   ]
  },
  {
   "cell_type": "markdown",
   "id": "8244430a",
   "metadata": {},
   "source": [
    "It's crucial that you include a descriptive README.md file for any project you create in GitHub or other version control platforms, to help showcase your public and professional portfolio."
   ]
  },
  {
   "cell_type": "markdown",
   "id": "1c5f3b78",
   "metadata": {},
   "source": [
    "Although readme standards differ by industry, the main goal remains the same: to help others understand the purpose of your project or repo and how it's intended to be used."
   ]
  },
  {
   "cell_type": "markdown",
   "id": "b5125b57",
   "metadata": {},
   "source": [
    "# The Standard Structure of a readme file.\n",
    "\n",
    "Please review the follow readme.md"
   ]
  },
  {
   "cell_type": "markdown",
   "id": "924bef2b",
   "metadata": {},
   "source": [
    "\n",
    "\n",
    "# Project Title and Description\n",
    "\n",
    "Every README.md file should have a title followed by a description of the project. Describe the purpose of your project and the problem that inspired you to create it in the first place. This description should make clear how others can use your project. See the following image for an example:\n",
    "\n",
    "## Technologies\n",
    "Include a Technologies section that describes any programming languages, libraries, frameworks, and operating systems that your project requires. Be sure to include the specific versions of any critical dependencies used in the current, or production, version of your project.\n",
    "\n",
    "## Installation Guide\n",
    "In this section, provide detailed installation directions, including any required code and relevant screenshots. See the following image for an\n",
    "\n",
    "## Usage\n",
    "This section should include screenshots, code blocks, or animations explaining how to use your project. See the following image for an\n",
    "\n",
    "## Contributors\n",
    "List the individuals who contributed to this project. Also include your email address and, optionally, a link to your LinkedIn profile so that recruiters can\n",
    "\n",
    "\n",
    "## License\n",
    "When you share a project on a repository, especially a public one, it's important to choose the right license to specify what others can and can't do with your source code and files. In this section of the readme, include the license you've chosen. "
   ]
  },
  {
   "cell_type": "markdown",
   "id": "0df476a1",
   "metadata": {},
   "source": [
    "##### End of docs section."
   ]
  },
  {
   "cell_type": "markdown",
   "id": "9e4785d2",
   "metadata": {},
   "source": [
    "# Module 2 :: Challenge."
   ]
  },
  {
   "cell_type": "markdown",
   "id": "140b0167",
   "metadata": {},
   "source": [
    "## Background\n",
    "You’re progressing in your role as an application developer at a fintech lending startup. The lending software that you’ve built so far has been a big success for the company. As part of that success, you’ve been meeting a lot with the BizOps team to discuss creating additional useful features.\n",
    "\n",
    "At a recent meeting, a new `must-have feature` request emerged. Specifically, BizOps wants to know if your software can `prompt the user` to `save the qualifying loans as a new CSV file.`\n",
    "\n",
    "This project is a great way to show off your new software engineering skills, so congratulations on this opportunity!\n",
    "\n",
    "\n",
    "    0. Create a GitHub repository.\n",
    "\n",
    "    1. Translate new business requirements to code for adding a function to save loans.\n",
    "\n",
    "    2. Organize your code for the changes to the fileio module.\n",
    "\n",
    "    3. Update the CLI to add additional dialogs for loan output.\n",
    "\n",
    "    4. Write new tests for the functionality to save loans.\n",
    "\n",
    "    5. Update the documentation to reflect your new functions and operations.\n",
    "\n",
    "\n",
    "\n",
    "\n",
    "In addition, your project should be based on the user story and acceptance criteria outlined here."
   ]
  },
  {
   "cell_type": "markdown",
   "id": "c06e7025",
   "metadata": {},
   "source": [
    "## User Story\n",
    "As a user, I need the ability to save the qualifying loans to a CSV file so that I can share the results as a spreadsheet.\n",
    "\n",
    "## Acceptance Criteria\n",
    "\n",
    "1. Given that I am using the loan qualifier command-line interface (CLI), when I run the qualifier, then the tool should prompt the user to save the results as a CSV file.\n",
    "\n",
    "2. Given that there are no qualifying loans, when prompting a user to save a file, then the program should notify the user and exit.\n",
    "\n",
    "3. Given that I have a list of qualifying loans, when I am prompted to save the results, then I should be able to opt out of saving the file.\n",
    "\n",
    "4. Given that I have a list of qualifying loans, when I choose to save the loans, the tool should prompt for a file path to save the file.\n",
    "\n",
    "5. Given that I am using the loan qualifier CLI, when I choose to save the loans, then the tool should save the results as a CSV file."
   ]
  },
  {
   "cell_type": "markdown",
   "id": "08503fad",
   "metadata": {},
   "source": [
    "### Instructions\n",
    "### This assignment is broken into the following parts:\n",
    "\n",
    "1. Version Control: Create the Project Repository\n",
    "\n",
    "2. Software Requirements: Translate Business Requirements to Code\n",
    "\n",
    "3. System Design: Organize Your Code\n",
    "\n",
    "4. Usability: Update the CLI\n",
    "\n",
    "5. Testing and Debugging: Write New Tests\n",
    "\n",
    "6. Documentation: Update All of the Docs"
   ]
  },
  {
   "cell_type": "markdown",
   "id": "4235f59d",
   "metadata": {},
   "source": [
    "# Version Control: Create the Project Repository.\n",
    "\n",
    "In this section, you'll create the GitHub repository for your project. Use the starter code provided to initialize your repository. Don't forget the README.md! You'll need to update this as you develop your code.\n",
    "\n",
    "Complete the following steps:\n",
    "\n",
    "Create a new GitHub repository.\n",
    "\n",
    "Add your README.md file and .gitignore.\n",
    "\n",
    "Commit your project files.\n",
    "\n",
    "In this section, you'll translate the high-level business requirements into functional code.\n",
    "\n",
    "In app.py, write a function named save_csv() that uses the csv library to save the qualifying data as a file.\n"
   ]
  },
  {
   "cell_type": "markdown",
   "id": "6cc5d2e4",
   "metadata": {},
   "source": [
    "Don't worry about the user dialog at the moment. Just focus on the code that saves the qualifying loan data as a CSV file. Try writing this directly in app.py initially. Once this is working, we can refine the overall design in the systems design step."
   ]
  },
  {
   "cell_type": "markdown",
   "id": "762560b0",
   "metadata": {},
   "source": [
    "# Systems Design: Organize Your Code.\n",
    "\n",
    "Now that you have the save_csv() code working, the next step is to refine the systems design.\n",
    "\n",
    "This is where you should consider the overall architecture and design of your system. Think about the purpose of this function. Look for a location that best represents the functionality, organization, and use of the new code.\n",
    "\n",
    "Complete the following steps:\n",
    "\n",
    "Integrate your new save_csv() function into the existing loan qualifier application.\n",
    "\n",
    "Update the function and module docstrings for the new feature.\n",
    "\n",
    "# Usability: Update the CLI\n",
    "Now that you've impressed your fellow developers with great systems design, you need to improve the usability for the not-so-technical users, so that they can access and save their qualifying loans to a CSV.\n",
    "\n",
    "You'll need to add a new save dialog to the existing CLI, by completing the following steps:\n",
    "\n",
    "In app.py, create a new function named save_qualifying_loans() that accepts the list of qualifying loans.\n",
    "\n",
    "Inside the new save_qualifying_loans() function, create the user dialog to prompt the user for whether or not they would like to save their qualifying loans. Use Questionary to prompt the user with .confirm().ask().\n",
    "\n",
    "Inside the save_qualifying_loans() function, create the user dialog for the save CSV function. Use Questionary to prompt the user and ask for the output file path.\n",
    "\n",
    "Be sure to test this out and think about how a user will interact with your CLI.\n",
    "\n",
    "Test and Debug: Write New Tests\n",
    "To ensure software quality and future stability of the codebase, you'll also want to update the unit tests to include this new feature.\n",
    "\n",
    "Take some time to think about this from a user's perspective. What are the edge cases for this new code? Is there anything that a user might try to do that would cause the program to crash?\n",
    "\n",
    "Consider the following acceptance criteria:\n",
    "\n",
    "Given that I am using the loan qualifier CLI, when I choose to save the loans, then the tool should save the results as a CSV file.\n",
    "\n",
    "#"
   ]
  },
  {
   "cell_type": "code",
   "execution_count": null,
   "id": "90b40941",
   "metadata": {},
   "outputs": [],
   "source": []
  },
  {
   "cell_type": "code",
   "execution_count": null,
   "id": "a99aa264",
   "metadata": {},
   "outputs": [],
   "source": []
  },
  {
   "cell_type": "code",
   "execution_count": null,
   "id": "5f120225",
   "metadata": {},
   "outputs": [],
   "source": []
  },
  {
   "cell_type": "code",
   "execution_count": null,
   "id": "59c73999",
   "metadata": {},
   "outputs": [],
   "source": []
  },
  {
   "cell_type": "code",
   "execution_count": null,
   "id": "5000ec22",
   "metadata": {},
   "outputs": [],
   "source": []
  }
 ],
 "metadata": {
  "kernelspec": {
   "display_name": "Python 3 (ipykernel)",
   "language": "python",
   "name": "python3"
  },
  "language_info": {
   "codemirror_mode": {
    "name": "ipython",
    "version": 3
   },
   "file_extension": ".py",
   "mimetype": "text/x-python",
   "name": "python",
   "nbconvert_exporter": "python",
   "pygments_lexer": "ipython3",
   "version": "3.8.10"
  }
 },
 "nbformat": 4,
 "nbformat_minor": 5
}
