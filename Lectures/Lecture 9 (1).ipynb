{
 "cells": [
  {
   "cell_type": "markdown",
   "id": "d91567d2",
   "metadata": {},
   "source": [
    "# Lecture 9"
   ]
  },
  {
   "cell_type": "markdown",
   "id": "78b40bb6",
   "metadata": {},
   "source": [
    "## 1. Usability."
   ]
  },
  {
   "cell_type": "markdown",
   "id": "998189e5",
   "metadata": {},
   "source": [
    "In software engineering, usability refers to how efficiently users can perform tasks within a system. In essence, it describes the user experience. To deliver a positive user experience, an application should allow users to perform their desired actions easily."
   ]
  },
  {
   "cell_type": "markdown",
   "id": "9d76fa3a",
   "metadata": {},
   "source": [
    "Usability relates to business logic, because designing software to solve business problems also involves ensuring that the software is usable. One way we ensure usability is through the `command-line interface, or CLI`."
   ]
  },
  {
   "cell_type": "markdown",
   "id": "5d294568",
   "metadata": {},
   "source": [
    "In this lesson, you'll create command-line interfaces to make your applications more straightforward for the average user. You'll do this with the help of two popular libraries, `Python Fire and Questionary`. By the end of the lesson, you'll know how to leverage a CLI to enhance both the usability and interactivity of your applications."
   ]
  },
  {
   "cell_type": "markdown",
   "id": "dba7b3fd",
   "metadata": {},
   "source": [
    "The first library we'll look at is the Python Fire library by Google.\n",
    "\n",
    "This library can do the following tasks:\n",
    "\n",
    "- Automatically generate CLIs from any Python object.\n",
    "\n",
    "- Simply create a CLI in Python.\n",
    "\n",
    "- Help with developing and debugging Python code.\n",
    "\n",
    "- Help with exploring existing code or turning other people's code into a CLI.\n",
    "\n",
    "- Ease transitioning between the terminal and Python.\n",
    "\n"
   ]
  },
  {
   "cell_type": "markdown",
   "id": "545629ea",
   "metadata": {},
   "source": [
    "# Install and Import Python Fire\n",
    "You can install Python Fire from the Python Package Index (PyPI) using the pip command. If you haven't yet installed Fire, run the following command in your terminal:\n",
    "\n",
    "\n",
    "`pip install fire`\n",
    "\n",
    "or\n",
    "\n",
    "`! pip install fire` on your NoteBook, This is not recommeneded and I would suggest you do it through the terminal.\n"
   ]
  },
  {
   "cell_type": "markdown",
   "id": "6a0ac96f",
   "metadata": {},
   "source": [
    "Once it's installed, import it as fire."
   ]
  },
  {
   "cell_type": "code",
   "execution_count": null,
   "id": "d88f61e4",
   "metadata": {},
   "outputs": [],
   "source": [
    "import fire"
   ]
  },
  {
   "cell_type": "markdown",
   "id": "c2ba99a5",
   "metadata": {},
   "source": [
    "As you've learned already, a command-line interface, or CLI, allows an app to be used from a text interface in which a user can type simple text commands to run complex Python functions. By adding a Python Fire CLI to the Python application, we're making it vastly easier for users to run the Python code."
   ]
  },
  {
   "cell_type": "markdown",
   "id": "3578d279",
   "metadata": {},
   "source": [
    "Let's automate an everyday task. Ever have trouble picking out a shirt to wear in the morning? We can create a basic function to select a shirt from a random list and turn it into a CLI.\n",
    "\n",
    "First, we'll import the random package so that we have access to the `random.choice()` function. This function lets us pick a random value from a Python list. Use the following code:"
   ]
  },
  {
   "cell_type": "code",
   "execution_count": null,
   "id": "b61af497",
   "metadata": {},
   "outputs": [],
   "source": [
    "import fire\n",
    "import random"
   ]
  },
  {
   "cell_type": "code",
   "execution_count": null,
   "id": "38fa1afa",
   "metadata": {},
   "outputs": [],
   "source": [
    "array = [\"blue vase\", \"movie ticket\",\"medal\", \"gold\"]\n",
    "random.choice(array)"
   ]
  },
  {
   "cell_type": "markdown",
   "id": "9c5abc78",
   "metadata": {},
   "source": [
    "Next, we'll define the actual function. The function will be named `clothes_picker` and contain a list of shirts named `shirts_list`. Then we'll call `random.choice()` to select and return a `shirt`."
   ]
  },
  {
   "cell_type": "code",
   "execution_count": null,
   "id": "c1915f92",
   "metadata": {},
   "outputs": [],
   "source": [
    "import fire\n",
    "import random\n",
    "\n",
    "def clothes_picker():\n",
    "    shirts_list = [\"solid blue\", \"red striped\",\"purple and green tie dye\", \"black dress shirt\"]\n",
    "\n",
    "    return random.choice(shirts_list)"
   ]
  },
  {
   "cell_type": "markdown",
   "id": "df738197",
   "metadata": {},
   "source": [
    "Execute the Function With Python Fire\n",
    "We now have the `clothes_picker()` function! However, before the `CLI` can execute this function, we need to ensure that it's initiated when the program file runs."
   ]
  },
  {
   "cell_type": "markdown",
   "id": "0c7d96e0",
   "metadata": {},
   "source": [
    "This is done with the `__main__` declaration. Whatever we put in the `__main__` declaration will run when the program is executed from the command line. This allows us to run the `CLI`."
   ]
  },
  {
   "cell_type": "markdown",
   "id": "62d48cad",
   "metadata": {},
   "source": [
    "# Add the __main__ declaration to your code, as follows:\n",
    "\n",
    "import fire\n",
    "\n",
    "\n",
    "import random\n",
    "\n",
    "\n"
   ]
  },
  {
   "cell_type": "code",
   "execution_count": null,
   "id": "3362ffa2",
   "metadata": {},
   "outputs": [],
   "source": [
    "def clothes_picker():\n",
    "    shirts_list = [\"solid blue\", \"red striped\",\"purple and green tie dye\", \"black dress shirt\"]\n",
    "\n",
    "    return random.choice(shirts_list)\n",
    "\n",
    "if __name__ == '__main__':"
   ]
  },
  {
   "cell_type": "markdown",
   "id": "1a30d3cc",
   "metadata": {},
   "source": [
    "Then, inside the `__main__` declaration, we can finally call the Fire package. Use the `Fire()` function to accept the name of the function you want your `CLI` to execute as a parameter—in this case, `clothes_picker()`. Your code should resemble the following example:"
   ]
  },
  {
   "cell_type": "code",
   "execution_count": null,
   "id": "97107bc1",
   "metadata": {},
   "outputs": [],
   "source": [
    "if __name__ == '__main__':\n",
    "    fire.Fire(clothes_picker)"
   ]
  },
  {
   "cell_type": "markdown",
   "id": "29af5c5e",
   "metadata": {},
   "source": [
    "## Your completed code should now look like the following example:"
   ]
  },
  {
   "cell_type": "code",
   "execution_count": null,
   "id": "1c221300",
   "metadata": {},
   "outputs": [],
   "source": [
    "import fire\n",
    "import random\n",
    "\n",
    "def clothes_picker():\n",
    "    shirts_list = [\"solid blue\", \"red striped\",\"purple and green tie dye\", \"black dress shirt\"]\n",
    "\n",
    "    return random.choice(shirts_list)\n",
    "\n",
    "if __name__ == '__main__':\n",
    "    fire.Fire(clothes_picker)"
   ]
  },
  {
   "cell_type": "markdown",
   "id": "4d0744fe",
   "metadata": {},
   "source": [
    "Run it to see what happens!"
   ]
  },
  {
   "cell_type": "markdown",
   "id": "775fbcf8",
   "metadata": {},
   "source": [
    "# Run the CLI\n",
    "\n",
    "Now open your terminal and navigate to your project directory using the `cd` command. Then run your new CLI with the following code:\n",
    "\n",
    "`python cli.py`"
   ]
  },
  {
   "cell_type": "markdown",
   "id": "945d896f",
   "metadata": {},
   "source": [
    "After running the CLI, you should see the following output—your shirt for the day:"
   ]
  },
  {
   "cell_type": "markdown",
   "id": "255511e0",
   "metadata": {},
   "source": [
    "TRY IT NOW !!!!"
   ]
  },
  {
   "cell_type": "markdown",
   "id": "42aa79e2",
   "metadata": {},
   "source": [
    "# Add Advanced Functionality\n",
    "\n",
    "We can add advanced functionality to the CLI to tell it when to select pants. For this task we'll use a named argument. Arguments let the user pass additional input to the CLI. When we're done, the syntax to interact with the CLI will look as follows:"
   ]
  },
  {
   "cell_type": "markdown",
   "id": "21764a30",
   "metadata": {},
   "source": [
    "# Default parameters."
   ]
  },
  {
   "cell_type": "code",
   "execution_count": null,
   "id": "3d4c9c21",
   "metadata": {},
   "outputs": [],
   "source": [
    "def add(num1 = 200, num2 = 100):\n",
    "    return num1 + num2\n",
    "\n",
    "add(4, 6)"
   ]
  },
  {
   "cell_type": "code",
   "execution_count": null,
   "id": "416985e7",
   "metadata": {},
   "outputs": [],
   "source": [
    "add(10)"
   ]
  },
  {
   "cell_type": "code",
   "execution_count": null,
   "id": "6db5f126",
   "metadata": {},
   "outputs": [],
   "source": [
    "add()"
   ]
  },
  {
   "cell_type": "markdown",
   "id": "9084bc6b",
   "metadata": {},
   "source": [
    "# Returning two values or more to a function."
   ]
  },
  {
   "cell_type": "code",
   "execution_count": null,
   "id": "c7a8f12a",
   "metadata": {},
   "outputs": [],
   "source": [
    "def calc(num1, num2):\n",
    "    return num1 + num2, num1 * num2\n",
    "\n",
    "calc(2,3)"
   ]
  },
  {
   "cell_type": "markdown",
   "id": "40851529",
   "metadata": {},
   "source": [
    "## file is called cli2.py"
   ]
  },
  {
   "cell_type": "code",
   "execution_count": 15,
   "id": "663fe316",
   "metadata": {},
   "outputs": [
    {
     "data": {
      "text/plain": [
       "'red striped'"
      ]
     },
     "execution_count": 15,
     "metadata": {},
     "output_type": "execute_result"
    }
   ],
   "source": [
    "clothes_picker(pants = False)"
   ]
  },
  {
   "cell_type": "code",
   "execution_count": 16,
   "id": "173b05f7",
   "metadata": {},
   "outputs": [
    {
     "data": {
      "text/plain": [
       "'solid blue'"
      ]
     },
     "execution_count": 16,
     "metadata": {},
     "output_type": "execute_result"
    }
   ],
   "source": [
    "clothes_picker()"
   ]
  },
  {
   "cell_type": "code",
   "execution_count": 17,
   "id": "6f477f04",
   "metadata": {},
   "outputs": [
    {
     "data": {
      "text/plain": [
       "('red striped', 'Gray sweatpants')"
      ]
     },
     "execution_count": 17,
     "metadata": {},
     "output_type": "execute_result"
    }
   ],
   "source": [
    "clothes_picker(pants = True)"
   ]
  },
  {
   "cell_type": "code",
   "execution_count": null,
   "id": "97faea9d",
   "metadata": {},
   "outputs": [],
   "source": [
    "import fire\n",
    "import random\n",
    "\n",
    "def clothes_picker(pants = False):\n",
    "    shirts_list = [\"solid blue\", \"red striped\",\"purple and green tie dye\", \"black dress shirt\"]\n",
    "\n",
    "    pants_list = [\"Black dress pants\", \"Gray sweatpants\", \"Khakis\"]\n",
    "\n",
    "    if pants:\n",
    "        return random.choice(shirts_list), random.choice(pants_list)\n",
    "\n",
    "    return random.choice(shirts_list)\n",
    "\n",
    "if __name__ == '__main__':\n",
    "    fire.Fire(clothes_picker)"
   ]
  },
  {
   "cell_type": "markdown",
   "id": "c5e32f2e",
   "metadata": {},
   "source": [
    "Nice! Now, with the pants argument added, you can run the CLI to get the outfit for the day, as follows:\n",
    "\n",
    "`python cli2.py --pants=True`"
   ]
  },
  {
   "cell_type": "markdown",
   "id": "eff5db62",
   "metadata": {},
   "source": [
    "Congratulations! You just built your first CLI, complete with named arguments. The CLI's fashion sense is terrible, but at least it automated the decision for you!."
   ]
  },
  {
   "cell_type": "markdown",
   "id": "e748b7d1",
   "metadata": {},
   "source": [
    "This example demonstrates how CLIs like Python Fire can improve the usability of an application. Non-technical users can operate this code without having to understand the code's design; they can simply type commands into their CLI to use its functionality."
   ]
  },
  {
   "cell_type": "markdown",
   "id": "b260c421",
   "metadata": {},
   "source": [
    "# Examples."
   ]
  },
  {
   "cell_type": "markdown",
   "id": "73e92ddc",
   "metadata": {},
   "source": [
    "# question 1: `add_or_mul.py` , run it such that it \n",
    "\n",
    "- adds 9 and 10.\n",
    "- multiply 10 and 5."
   ]
  },
  {
   "cell_type": "code",
   "execution_count": 20,
   "id": "2f5a9160",
   "metadata": {},
   "outputs": [],
   "source": [
    "def add_or_mul(num1, num2, add = True):\n",
    "    total = num1 + num2\n",
    "    print(total)\n",
    "    prod = num1 * num2\n",
    "    print(prod)\n",
    "    if add:\n",
    "        print(add)\n",
    "        return total\n",
    "    print(add)\n",
    "    return prod"
   ]
  },
  {
   "cell_type": "code",
   "execution_count": 22,
   "id": "9a354aab",
   "metadata": {},
   "outputs": [
    {
     "name": "stdout",
     "output_type": "stream",
     "text": [
      "20\n",
      "100\n",
      "False\n"
     ]
    },
    {
     "data": {
      "text/plain": [
       "100"
      ]
     },
     "execution_count": 22,
     "metadata": {},
     "output_type": "execute_result"
    }
   ],
   "source": [
    "add_or_mul(10, 10, add = False)"
   ]
  },
  {
   "cell_type": "code",
   "execution_count": null,
   "id": "47f72d08",
   "metadata": {},
   "outputs": [],
   "source": [
    "import fire\n",
    "\n",
    "def add_or_mul(num1 = 1, num2 = 2, add = True):\n",
    "    total = num1 + num2\n",
    "    prod = num1 * num2\n",
    "    if add:\n",
    "        return total\n",
    "\n",
    "    return prod\n",
    "\n",
    "if __name__ == '__main__':\n",
    "    fire.Fire(add_or_mul)"
   ]
  },
  {
   "cell_type": "markdown",
   "id": "df734657",
   "metadata": {},
   "source": [
    "# Solution"
   ]
  },
  {
   "cell_type": "markdown",
   "id": "e9f926b9",
   "metadata": {},
   "source": [
    "- `python add_or_mul.py --num1=9 --num2=10 --add=True`\n",
    "- `python add_or_mul.py --num1=10 --num2=5 --add=False`"
   ]
  },
  {
   "cell_type": "markdown",
   "id": "adbbf966",
   "metadata": {},
   "source": [
    "H.W: Solve this : https://courses.bootcampspot.com/courses/800/pages/2-dot-4-3-activity-add-fire-to-the-loan-qualifier-app?module_item_id=234768"
   ]
  },
  {
   "cell_type": "markdown",
   "id": "fb84e2df",
   "metadata": {},
   "source": [
    "# Summary\n",
    "\n",
    "Python Fire can be leveraged to make a Python program more functional. Python Fire offers a simple way to create CLIs from basic Python functions, allowing the user to pass input to those functions via command-line arguments."
   ]
  },
  {
   "cell_type": "markdown",
   "id": "36b44ff8",
   "metadata": {},
   "source": [
    "# Introduction to Questionary"
   ]
  },
  {
   "cell_type": "markdown",
   "id": "ee2eb4b5",
   "metadata": {},
   "source": [
    "##### Fire is helpful, but not very interactive—the user must remember the arguments and type the correct values. If the user forgets the correct sequence of input arguments, the program could easily result in an error and not run. This is where a library like Questionary comes in."
   ]
  },
  {
   "cell_type": "code",
   "execution_count": 23,
   "id": "cf2e60a4",
   "metadata": {},
   "outputs": [
    {
     "name": "stdout",
     "output_type": "stream",
     "text": [
      "please enter your name herejoe\n"
     ]
    }
   ],
   "source": [
    "name = input(\"please enter your name here\")"
   ]
  },
  {
   "cell_type": "code",
   "execution_count": 24,
   "id": "5632bd3d",
   "metadata": {},
   "outputs": [
    {
     "data": {
      "text/plain": [
       "'joe'"
      ]
     },
     "execution_count": 24,
     "metadata": {},
     "output_type": "execute_result"
    }
   ],
   "source": [
    "name"
   ]
  },
  {
   "cell_type": "markdown",
   "id": "c03d3d36",
   "metadata": {},
   "source": [
    "## What Is Questionary?\n",
    "\n",
    "Questionary is a Python library for building `interactive CLIs`. It provides common functionalities for interactive command-line prompts, such as option pickers, password inputs, and yes-or-no prompts. Overall, Questionary provides a streamlined way to interact with a user and get their input in real time."
   ]
  },
  {
   "cell_type": "markdown",
   "id": "e0df2987",
   "metadata": {},
   "source": [
    "Think of Questionary like the `input()` function, but with more features for interacting with users."
   ]
  },
  {
   "cell_type": "code",
   "execution_count": 30,
   "id": "1e5af5bb",
   "metadata": {},
   "outputs": [
    {
     "data": {
      "text/html": [
       "<img src=\"https://courses.bootcampspot.com/courses/800/files/676459/download\"/>"
      ],
      "text/plain": [
       "<IPython.core.display.Image object>"
      ]
     },
     "execution_count": 30,
     "metadata": {},
     "output_type": "execute_result"
    }
   ],
   "source": [
    "from IPython.display import Image\n",
    "from IPython.core.display import HTML \n",
    "Image(url= \"https://courses.bootcampspot.com/courses/800/files/676459/download\")"
   ]
  },
  {
   "cell_type": "markdown",
   "id": "ab907b96",
   "metadata": {},
   "source": [
    "# Install and Import questionary\n",
    "Questionary is installed from PyPI using the pip command. If you haven't already installed Questionary, run the following code in your terminal:\n",
    "\n",
    "\n",
    "`pip install questionary`"
   ]
  },
  {
   "cell_type": "markdown",
   "id": "e6c7524f",
   "metadata": {},
   "source": [
    "# Then import the Questionary package with the following code:"
   ]
  },
  {
   "cell_type": "code",
   "execution_count": 26,
   "id": "6eb3ae16",
   "metadata": {},
   "outputs": [],
   "source": [
    "import questionary"
   ]
  },
  {
   "cell_type": "markdown",
   "id": "40f3a046",
   "metadata": {},
   "source": [
    "Now complete the steps in the next section to create some basic text prompts, or dialogs, with Questionary."
   ]
  },
  {
   "cell_type": "markdown",
   "id": "7436c50c",
   "metadata": {},
   "source": [
    "\"When using Questionary in this course, we'll primarily use the text() question function. This function displays text to the user and prompts them for input, much like the built-in input() function.\n",
    "After each function question, no matter the type, insert the ask() function after it, like the following example:\"\n",
    "\n",
    "`questionary.text().ask()`"
   ]
  },
  {
   "cell_type": "code",
   "execution_count": null,
   "id": "d1b80fd5",
   "metadata": {},
   "outputs": [],
   "source": [
    "questionary.text().ask()"
   ]
  },
  {
   "cell_type": "markdown",
   "id": "62baf517",
   "metadata": {},
   "source": [
    "# Create a Simple Interactive Program with Questionary."
   ]
  },
  {
   "cell_type": "markdown",
   "id": "0fdd3b38",
   "metadata": {},
   "source": [
    "We'll create a simple interactive program using the text() question type.\n",
    "\n",
    "In the file dialog.py, where we've imported questionary, add a new variable named answer and then set it equal to a new questionary.text() instance.\n",
    "\n",
    "Then, inside the text() function, pass the question string \"Is cereal soup?\"\n",
    "\n",
    "\n",
    "check the `dialog.py` file. it should have the code below."
   ]
  },
  {
   "cell_type": "code",
   "execution_count": 28,
   "id": "edd740b7",
   "metadata": {},
   "outputs": [
    {
     "ename": "NoConsoleScreenBufferError",
     "evalue": "Found xterm-color, while expecting a Windows console. Maybe try to run this program using \"winpty\" or run it in cmd.exe instead. Or otherwise, in case of Cygwin, use the Python executable that is compiled for Cygwin.",
     "output_type": "error",
     "traceback": [
      "\u001b[1;31m---------------------------------------------------------------------------\u001b[0m",
      "\u001b[1;31mNoConsoleScreenBufferError\u001b[0m                Traceback (most recent call last)",
      "\u001b[1;32m~\\AppData\\Local\\Temp/ipykernel_10884/3827118308.py\u001b[0m in \u001b[0;36m<module>\u001b[1;34m\u001b[0m\n\u001b[0;32m      1\u001b[0m \u001b[1;32mimport\u001b[0m \u001b[0mquestionary\u001b[0m\u001b[1;33m\u001b[0m\u001b[1;33m\u001b[0m\u001b[0m\n\u001b[0;32m      2\u001b[0m \u001b[1;33m\u001b[0m\u001b[0m\n\u001b[1;32m----> 3\u001b[1;33m \u001b[0manswer\u001b[0m \u001b[1;33m=\u001b[0m \u001b[0mquestionary\u001b[0m\u001b[1;33m.\u001b[0m\u001b[0mtext\u001b[0m\u001b[1;33m(\u001b[0m\u001b[1;34m\"Is cereal soup?\"\u001b[0m\u001b[1;33m)\u001b[0m\u001b[1;33m.\u001b[0m\u001b[0mask\u001b[0m\u001b[1;33m(\u001b[0m\u001b[1;33m)\u001b[0m\u001b[1;33m\u001b[0m\u001b[1;33m\u001b[0m\u001b[0m\n\u001b[0m",
      "\u001b[1;32m~\\anaconda3\\lib\\site-packages\\questionary\\prompts\\text.py\u001b[0m in \u001b[0;36mtext\u001b[1;34m(message, default, validate, qmark, style, multiline, instruction, lexer, **kwargs)\u001b[0m\n\u001b[0;32m     88\u001b[0m         \u001b[1;32mreturn\u001b[0m \u001b[0mresult\u001b[0m\u001b[1;33m\u001b[0m\u001b[1;33m\u001b[0m\u001b[0m\n\u001b[0;32m     89\u001b[0m \u001b[1;33m\u001b[0m\u001b[0m\n\u001b[1;32m---> 90\u001b[1;33m     p = PromptSession(\n\u001b[0m\u001b[0;32m     91\u001b[0m         \u001b[0mget_prompt_tokens\u001b[0m\u001b[1;33m,\u001b[0m\u001b[1;33m\u001b[0m\u001b[1;33m\u001b[0m\u001b[0m\n\u001b[0;32m     92\u001b[0m         \u001b[0mstyle\u001b[0m\u001b[1;33m=\u001b[0m\u001b[0mmerged_style\u001b[0m\u001b[1;33m,\u001b[0m\u001b[1;33m\u001b[0m\u001b[1;33m\u001b[0m\u001b[0m\n",
      "\u001b[1;32m~\\anaconda3\\lib\\site-packages\\prompt_toolkit\\shortcuts\\prompt.py\u001b[0m in \u001b[0;36m__init__\u001b[1;34m(self, message, multiline, wrap_lines, is_password, vi_mode, editing_mode, complete_while_typing, validate_while_typing, enable_history_search, search_ignore_case, lexer, enable_system_prompt, enable_suspend, enable_open_in_editor, validator, completer, complete_in_thread, reserve_space_for_menu, complete_style, auto_suggest, style, style_transformation, swap_light_and_dark_colors, color_depth, include_default_pygments_style, history, clipboard, prompt_continuation, rprompt, bottom_toolbar, mouse_support, input_processors, placeholder, key_bindings, erase_when_done, tempfile_suffix, tempfile, refresh_interval, input, output)\u001b[0m\n\u001b[0;32m    466\u001b[0m         \u001b[0mself\u001b[0m\u001b[1;33m.\u001b[0m\u001b[0msearch_buffer\u001b[0m \u001b[1;33m=\u001b[0m \u001b[0mself\u001b[0m\u001b[1;33m.\u001b[0m\u001b[0m_create_search_buffer\u001b[0m\u001b[1;33m(\u001b[0m\u001b[1;33m)\u001b[0m\u001b[1;33m\u001b[0m\u001b[1;33m\u001b[0m\u001b[0m\n\u001b[0;32m    467\u001b[0m         \u001b[0mself\u001b[0m\u001b[1;33m.\u001b[0m\u001b[0mlayout\u001b[0m \u001b[1;33m=\u001b[0m \u001b[0mself\u001b[0m\u001b[1;33m.\u001b[0m\u001b[0m_create_layout\u001b[0m\u001b[1;33m(\u001b[0m\u001b[1;33m)\u001b[0m\u001b[1;33m\u001b[0m\u001b[1;33m\u001b[0m\u001b[0m\n\u001b[1;32m--> 468\u001b[1;33m         \u001b[0mself\u001b[0m\u001b[1;33m.\u001b[0m\u001b[0mapp\u001b[0m \u001b[1;33m=\u001b[0m \u001b[0mself\u001b[0m\u001b[1;33m.\u001b[0m\u001b[0m_create_application\u001b[0m\u001b[1;33m(\u001b[0m\u001b[0mediting_mode\u001b[0m\u001b[1;33m,\u001b[0m \u001b[0merase_when_done\u001b[0m\u001b[1;33m)\u001b[0m\u001b[1;33m\u001b[0m\u001b[1;33m\u001b[0m\u001b[0m\n\u001b[0m\u001b[0;32m    469\u001b[0m \u001b[1;33m\u001b[0m\u001b[0m\n\u001b[0;32m    470\u001b[0m     \u001b[1;32mdef\u001b[0m \u001b[0m_dyncond\u001b[0m\u001b[1;33m(\u001b[0m\u001b[0mself\u001b[0m\u001b[1;33m,\u001b[0m \u001b[0mattr_name\u001b[0m\u001b[1;33m:\u001b[0m \u001b[0mstr\u001b[0m\u001b[1;33m)\u001b[0m \u001b[1;33m->\u001b[0m \u001b[0mCondition\u001b[0m\u001b[1;33m:\u001b[0m\u001b[1;33m\u001b[0m\u001b[1;33m\u001b[0m\u001b[0m\n",
      "\u001b[1;32m~\\anaconda3\\lib\\site-packages\\prompt_toolkit\\shortcuts\\prompt.py\u001b[0m in \u001b[0;36m_create_application\u001b[1;34m(self, editing_mode, erase_when_done)\u001b[0m\n\u001b[0;32m    717\u001b[0m \u001b[1;33m\u001b[0m\u001b[0m\n\u001b[0;32m    718\u001b[0m         \u001b[1;31m# Create application\u001b[0m\u001b[1;33m\u001b[0m\u001b[1;33m\u001b[0m\u001b[1;33m\u001b[0m\u001b[0m\n\u001b[1;32m--> 719\u001b[1;33m         application: Application[_T] = Application(\n\u001b[0m\u001b[0;32m    720\u001b[0m             \u001b[0mlayout\u001b[0m\u001b[1;33m=\u001b[0m\u001b[0mself\u001b[0m\u001b[1;33m.\u001b[0m\u001b[0mlayout\u001b[0m\u001b[1;33m,\u001b[0m\u001b[1;33m\u001b[0m\u001b[1;33m\u001b[0m\u001b[0m\n\u001b[0;32m    721\u001b[0m             \u001b[0mstyle\u001b[0m\u001b[1;33m=\u001b[0m\u001b[0mDynamicStyle\u001b[0m\u001b[1;33m(\u001b[0m\u001b[1;32mlambda\u001b[0m\u001b[1;33m:\u001b[0m \u001b[0mself\u001b[0m\u001b[1;33m.\u001b[0m\u001b[0mstyle\u001b[0m\u001b[1;33m)\u001b[0m\u001b[1;33m,\u001b[0m\u001b[1;33m\u001b[0m\u001b[1;33m\u001b[0m\u001b[0m\n",
      "\u001b[1;32m~\\anaconda3\\lib\\site-packages\\prompt_toolkit\\application\\application.py\u001b[0m in \u001b[0;36m__init__\u001b[1;34m(self, layout, style, include_default_pygments_style, style_transformation, key_bindings, clipboard, full_screen, color_depth, mouse_support, enable_page_navigation_bindings, paste_mode, editing_mode, erase_when_done, reverse_vi_search_direction, min_redraw_interval, max_render_postpone_time, refresh_interval, terminal_size_polling_interval, on_reset, on_invalidate, before_render, after_render, input, output)\u001b[0m\n\u001b[0;32m    275\u001b[0m         \u001b[1;31m# I/O.\u001b[0m\u001b[1;33m\u001b[0m\u001b[1;33m\u001b[0m\u001b[1;33m\u001b[0m\u001b[0m\n\u001b[0;32m    276\u001b[0m         \u001b[0msession\u001b[0m \u001b[1;33m=\u001b[0m \u001b[0mget_app_session\u001b[0m\u001b[1;33m(\u001b[0m\u001b[1;33m)\u001b[0m\u001b[1;33m\u001b[0m\u001b[1;33m\u001b[0m\u001b[0m\n\u001b[1;32m--> 277\u001b[1;33m         \u001b[0mself\u001b[0m\u001b[1;33m.\u001b[0m\u001b[0moutput\u001b[0m \u001b[1;33m=\u001b[0m \u001b[0moutput\u001b[0m \u001b[1;32mor\u001b[0m \u001b[0msession\u001b[0m\u001b[1;33m.\u001b[0m\u001b[0moutput\u001b[0m\u001b[1;33m\u001b[0m\u001b[1;33m\u001b[0m\u001b[0m\n\u001b[0m\u001b[0;32m    278\u001b[0m         \u001b[0mself\u001b[0m\u001b[1;33m.\u001b[0m\u001b[0minput\u001b[0m \u001b[1;33m=\u001b[0m \u001b[0minput\u001b[0m \u001b[1;32mor\u001b[0m \u001b[0msession\u001b[0m\u001b[1;33m.\u001b[0m\u001b[0minput\u001b[0m\u001b[1;33m\u001b[0m\u001b[1;33m\u001b[0m\u001b[0m\n\u001b[0;32m    279\u001b[0m \u001b[1;33m\u001b[0m\u001b[0m\n",
      "\u001b[1;32m~\\anaconda3\\lib\\site-packages\\prompt_toolkit\\application\\current.py\u001b[0m in \u001b[0;36moutput\u001b[1;34m(self)\u001b[0m\n\u001b[0;32m     68\u001b[0m             \u001b[1;32mfrom\u001b[0m \u001b[0mprompt_toolkit\u001b[0m\u001b[1;33m.\u001b[0m\u001b[0moutput\u001b[0m\u001b[1;33m.\u001b[0m\u001b[0mdefaults\u001b[0m \u001b[1;32mimport\u001b[0m \u001b[0mcreate_output\u001b[0m\u001b[1;33m\u001b[0m\u001b[1;33m\u001b[0m\u001b[0m\n\u001b[0;32m     69\u001b[0m \u001b[1;33m\u001b[0m\u001b[0m\n\u001b[1;32m---> 70\u001b[1;33m             \u001b[0mself\u001b[0m\u001b[1;33m.\u001b[0m\u001b[0m_output\u001b[0m \u001b[1;33m=\u001b[0m \u001b[0mcreate_output\u001b[0m\u001b[1;33m(\u001b[0m\u001b[1;33m)\u001b[0m\u001b[1;33m\u001b[0m\u001b[1;33m\u001b[0m\u001b[0m\n\u001b[0m\u001b[0;32m     71\u001b[0m         \u001b[1;32mreturn\u001b[0m \u001b[0mself\u001b[0m\u001b[1;33m.\u001b[0m\u001b[0m_output\u001b[0m\u001b[1;33m\u001b[0m\u001b[1;33m\u001b[0m\u001b[0m\n\u001b[0;32m     72\u001b[0m \u001b[1;33m\u001b[0m\u001b[0m\n",
      "\u001b[1;32m~\\anaconda3\\lib\\site-packages\\prompt_toolkit\\output\\defaults.py\u001b[0m in \u001b[0;36mcreate_output\u001b[1;34m(stdout, always_prefer_tty)\u001b[0m\n\u001b[0;32m     71\u001b[0m             )\n\u001b[0;32m     72\u001b[0m         \u001b[1;32melse\u001b[0m\u001b[1;33m:\u001b[0m\u001b[1;33m\u001b[0m\u001b[1;33m\u001b[0m\u001b[0m\n\u001b[1;32m---> 73\u001b[1;33m             \u001b[1;32mreturn\u001b[0m \u001b[0mWin32Output\u001b[0m\u001b[1;33m(\u001b[0m\u001b[0mstdout\u001b[0m\u001b[1;33m,\u001b[0m \u001b[0mdefault_color_depth\u001b[0m\u001b[1;33m=\u001b[0m\u001b[0mcolor_depth_from_env\u001b[0m\u001b[1;33m)\u001b[0m\u001b[1;33m\u001b[0m\u001b[1;33m\u001b[0m\u001b[0m\n\u001b[0m\u001b[0;32m     74\u001b[0m     \u001b[1;32melse\u001b[0m\u001b[1;33m:\u001b[0m\u001b[1;33m\u001b[0m\u001b[1;33m\u001b[0m\u001b[0m\n\u001b[0;32m     75\u001b[0m         \u001b[1;32mfrom\u001b[0m \u001b[1;33m.\u001b[0m\u001b[0mvt100\u001b[0m \u001b[1;32mimport\u001b[0m \u001b[0mVt100_Output\u001b[0m\u001b[1;33m\u001b[0m\u001b[1;33m\u001b[0m\u001b[0m\n",
      "\u001b[1;32m~\\anaconda3\\lib\\site-packages\\prompt_toolkit\\output\\win32.py\u001b[0m in \u001b[0;36m__init__\u001b[1;34m(self, stdout, use_complete_width, default_color_depth)\u001b[0m\n\u001b[0;32m    107\u001b[0m \u001b[1;33m\u001b[0m\u001b[0m\n\u001b[0;32m    108\u001b[0m         \u001b[1;31m# Remember the default console colors.\u001b[0m\u001b[1;33m\u001b[0m\u001b[1;33m\u001b[0m\u001b[1;33m\u001b[0m\u001b[0m\n\u001b[1;32m--> 109\u001b[1;33m         \u001b[0minfo\u001b[0m \u001b[1;33m=\u001b[0m \u001b[0mself\u001b[0m\u001b[1;33m.\u001b[0m\u001b[0mget_win32_screen_buffer_info\u001b[0m\u001b[1;33m(\u001b[0m\u001b[1;33m)\u001b[0m\u001b[1;33m\u001b[0m\u001b[1;33m\u001b[0m\u001b[0m\n\u001b[0m\u001b[0;32m    110\u001b[0m         \u001b[0mself\u001b[0m\u001b[1;33m.\u001b[0m\u001b[0mdefault_attrs\u001b[0m \u001b[1;33m=\u001b[0m \u001b[0minfo\u001b[0m\u001b[1;33m.\u001b[0m\u001b[0mwAttributes\u001b[0m \u001b[1;32mif\u001b[0m \u001b[0minfo\u001b[0m \u001b[1;32melse\u001b[0m \u001b[1;36m15\u001b[0m\u001b[1;33m\u001b[0m\u001b[1;33m\u001b[0m\u001b[0m\n\u001b[0;32m    111\u001b[0m \u001b[1;33m\u001b[0m\u001b[0m\n",
      "\u001b[1;32m~\\anaconda3\\lib\\site-packages\\prompt_toolkit\\output\\win32.py\u001b[0m in \u001b[0;36mget_win32_screen_buffer_info\u001b[1;34m(self)\u001b[0m\n\u001b[0;32m    213\u001b[0m             \u001b[1;32mreturn\u001b[0m \u001b[0msbinfo\u001b[0m\u001b[1;33m\u001b[0m\u001b[1;33m\u001b[0m\u001b[0m\n\u001b[0;32m    214\u001b[0m         \u001b[1;32melse\u001b[0m\u001b[1;33m:\u001b[0m\u001b[1;33m\u001b[0m\u001b[1;33m\u001b[0m\u001b[0m\n\u001b[1;32m--> 215\u001b[1;33m             \u001b[1;32mraise\u001b[0m \u001b[0mNoConsoleScreenBufferError\u001b[0m\u001b[1;33m\u001b[0m\u001b[1;33m\u001b[0m\u001b[0m\n\u001b[0m\u001b[0;32m    216\u001b[0m \u001b[1;33m\u001b[0m\u001b[0m\n\u001b[0;32m    217\u001b[0m     \u001b[1;32mdef\u001b[0m \u001b[0mset_title\u001b[0m\u001b[1;33m(\u001b[0m\u001b[0mself\u001b[0m\u001b[1;33m,\u001b[0m \u001b[0mtitle\u001b[0m\u001b[1;33m:\u001b[0m \u001b[0mstr\u001b[0m\u001b[1;33m)\u001b[0m \u001b[1;33m->\u001b[0m \u001b[1;32mNone\u001b[0m\u001b[1;33m:\u001b[0m\u001b[1;33m\u001b[0m\u001b[1;33m\u001b[0m\u001b[0m\n",
      "\u001b[1;31mNoConsoleScreenBufferError\u001b[0m: Found xterm-color, while expecting a Windows console. Maybe try to run this program using \"winpty\" or run it in cmd.exe instead. Or otherwise, in case of Cygwin, use the Python executable that is compiled for Cygwin."
     ]
    }
   ],
   "source": [
    "import questionary\n",
    "\n",
    "answer = questionary.text(\"Is cereal soup?\").ask()"
   ]
  },
  {
   "cell_type": "markdown",
   "id": "d6793570",
   "metadata": {},
   "source": [
    "run the file and type `yes`."
   ]
  },
  {
   "cell_type": "markdown",
   "id": "4e0532ba",
   "metadata": {},
   "source": [
    "H.W review this link: https://courses.bootcampspot.com/courses/800/pages/2-dot-4-5-activity-add-questionary-to-the-loan-qualifier-app?module_item_id=234774"
   ]
  },
  {
   "cell_type": "code",
   "execution_count": 31,
   "id": "6b6f1f5a",
   "metadata": {},
   "outputs": [
    {
     "data": {
      "text/html": [
       "<img src=\"https://courses.bootcampspot.com/courses/800/files/676275/download\"/>"
      ],
      "text/plain": [
       "<IPython.core.display.Image object>"
      ]
     },
     "execution_count": 31,
     "metadata": {},
     "output_type": "execute_result"
    }
   ],
   "source": [
    "Image(url= \"https://courses.bootcampspot.com/courses/800/files/676275/download\")"
   ]
  },
  {
   "cell_type": "markdown",
   "id": "371180db",
   "metadata": {},
   "source": [
    "# 2. Testing\n",
    "\n",
    "Every good developer needs to test and debug their code to make sure that it works as intended and that new changes to code don't break the entire program. It's good practice to write mini-programs called tests that execute your program in different ways, checking different parts of your code. This allows you to ensure that functions return the correct values (or handle incorrect values), given some data or input, and that they continue to work when you make changes elsewhere. In this lesson, you'll learn how to write unit tests that check your code for correctness, as well as learn various debugging techniques that will help you solve problems faster."
   ]
  },
  {
   "cell_type": "markdown",
   "id": "2b515527",
   "metadata": {},
   "source": [
    "## 2.1 Handling Edge Cases and Errors\n",
    "\n",
    "Edge cases occur when an application encounters an extreme or uncommon situation outside its typical operation. User interactions with an application are a prime example of a potential source of edge cases or errors. A general rule of thumb developers stand by is that even if you build the most intuitive, perfect system, someone will still find a way to break it."
   ]
  },
  {
   "cell_type": "code",
   "execution_count": 41,
   "id": "11d96f2f",
   "metadata": {},
   "outputs": [],
   "source": [
    "array = []\n",
    "\n",
    "def get_prod(new_list):\n",
    "    if len(new_list) == 0:\n",
    "        return -1\n",
    "    \n",
    "    prod = 1\n",
    "    for value in new_list:\n",
    "        prod = prod * value\n",
    "    return prod"
   ]
  },
  {
   "cell_type": "code",
   "execution_count": 42,
   "id": "89353cbf",
   "metadata": {},
   "outputs": [
    {
     "data": {
      "text/plain": [
       "-1"
      ]
     },
     "execution_count": 42,
     "metadata": {},
     "output_type": "execute_result"
    }
   ],
   "source": [
    "get_prod(array)"
   ]
  },
  {
   "cell_type": "code",
   "execution_count": 43,
   "id": "9de617d1",
   "metadata": {},
   "outputs": [],
   "source": [
    "def get_prod_list(list1):\n",
    "    prod = 1\n",
    "    for value in list1:\n",
    "        prod *= value\n",
    "    return prod"
   ]
  },
  {
   "cell_type": "markdown",
   "id": "65a53b8a",
   "metadata": {},
   "source": [
    "#### correct"
   ]
  },
  {
   "cell_type": "code",
   "execution_count": 44,
   "id": "792b2dcc",
   "metadata": {},
   "outputs": [
    {
     "data": {
      "text/plain": [
       "6"
      ]
     },
     "execution_count": 44,
     "metadata": {},
     "output_type": "execute_result"
    }
   ],
   "source": [
    "get_prod_list([1,2,3])"
   ]
  },
  {
   "cell_type": "markdown",
   "id": "27c1ee81",
   "metadata": {},
   "source": [
    "##### Wrong"
   ]
  },
  {
   "cell_type": "code",
   "execution_count": 45,
   "id": "86ebabfd",
   "metadata": {},
   "outputs": [
    {
     "data": {
      "text/plain": [
       "1"
      ]
     },
     "execution_count": 45,
     "metadata": {},
     "output_type": "execute_result"
    }
   ],
   "source": [
    "get_prod_list([])"
   ]
  },
  {
   "cell_type": "markdown",
   "id": "91c4d99c",
   "metadata": {},
   "source": [
    "### so the edge case here is an input of [] empty list to fix it, you need to handle this `edge case`.\n",
    "\n"
   ]
  },
  {
   "cell_type": "code",
   "execution_count": null,
   "id": "1cedbbb7",
   "metadata": {},
   "outputs": [],
   "source": [
    "def get_prod_list(list1):\n",
    "    \n",
    "    if len(list1) == 0:\n",
    "        return \"This is an empty list.\"\n",
    "    prod = 1\n",
    "    for value in list1:\n",
    "        prod *= value\n",
    "    return prod"
   ]
  },
  {
   "cell_type": "markdown",
   "id": "b362a901",
   "metadata": {},
   "source": [
    "# Another case\n",
    "\n",
    "What happens when the CSV file isn't there? If we run the loan qualifier app and give it a nonexistent file path, we see that the application \"errors out\""
   ]
  },
  {
   "cell_type": "code",
   "execution_count": null,
   "id": "73789cf4",
   "metadata": {},
   "outputs": [],
   "source": [
    "def load_bank_data():\n",
    "    csvpath = questionary.text(\"Enter a file path to a rate-sheet (.csv):\").ask()\n",
    "    csvpath = Path(csvpath)\n",
    "\n",
    "    return load_csv(csvpath)"
   ]
  },
  {
   "cell_type": "markdown",
   "id": "efd40b59",
   "metadata": {},
   "source": [
    "The problem: we don't know whether this path actually exists, because we never checked what the value is.\n",
    "\n",
    "As a result, if the user types an incorrect file location, the load_csv function will throw an error."
   ]
  },
  {
   "cell_type": "markdown",
   "id": "70f73453",
   "metadata": {},
   "source": [
    "The `Path()` type in Python has a built-in function `exists()` that checks whether a file exists. Therefore, in this case, we can use this function to check if the file path exists. If it doesn't, we can simply exit the program and display a message indicating the problem to the user. This step is done by importing the sys package, calling `sys.exit()`, and passing it the message we want to display."
   ]
  },
  {
   "cell_type": "code",
   "execution_count": null,
   "id": "0120c73a",
   "metadata": {},
   "outputs": [],
   "source": [
    "import path\n",
    "def load_bank_data():\n",
    "    csvpath = questionary.text(\"Enter a file path to a rate-sheet (.csv):\").ask()\n",
    "    csvpath = Path(csvpath)\n",
    "    if not csvpath.exists():\n",
    "        return \"Oops! Can't find this path\"\n",
    "\n",
    "    return load_csv(csvpath)"
   ]
  },
  {
   "cell_type": "markdown",
   "id": "db0415fc",
   "metadata": {},
   "source": [
    "## Slight improvements."
   ]
  },
  {
   "cell_type": "code",
   "execution_count": null,
   "id": "c0819fcc",
   "metadata": {},
   "outputs": [],
   "source": [
    "import sys\n",
    "import path\n",
    "def load_bank_data():\n",
    "    csvpath = questionary.text(\"Enter a file path to a rate-sheet (.csv):\").ask()\n",
    "    csvpath = Path(csvpath)\n",
    "    if not csvpath.exists():\n",
    "        sys.exit(f\"Oops! Can't find this path: {csvpath}\")\n",
    "\n",
    "    return load_csv(csvpath)"
   ]
  },
  {
   "cell_type": "markdown",
   "id": "5d6cd587",
   "metadata": {},
   "source": [
    "### 2.2 Testing Python Code With PyTest\n",
    "- Install PyTest\n",
    "    `pip install pytest`"
   ]
  },
  {
   "cell_type": "markdown",
   "id": "9553d2ad",
   "metadata": {},
   "source": [
    "## Create a Tests Folder and Requirements Text File\n",
    "#### First, create a tests folder inside the main loan qualifier folder by running the following code:\n",
    "#### Second, create a requirements.txt file inside the main loan qualifier folder by running the following code:\n"
   ]
  },
  {
   "cell_type": "markdown",
   "id": "d8aedb8c",
   "metadata": {},
   "source": [
    "\n",
    "`mkdir tests`\n",
    "\n",
    "`pip freeze > requirements.txt`"
   ]
  },
  {
   "cell_type": "markdown",
   "id": "100f4141",
   "metadata": {},
   "source": [
    "pip freeze > requirements.txt creates the requirements text file automatically from your installed packages, this process automates the package requirements needed to run your apps and write it to a file with relative ease.\n",
    "\n",
    "To work, PyTest requires an empty file in the tests folder named `__init__.py`"
   ]
  },
  {
   "cell_type": "markdown",
   "id": "aaf5dd24",
   "metadata": {},
   "source": [
    "cd tests\n",
    "\n",
    "touch __init__.py\n",
    "\n",
    "touch test_qualifier.py"
   ]
  },
  {
   "cell_type": "markdown",
   "id": "f8227c90",
   "metadata": {},
   "source": [
    "#  Assert."
   ]
  },
  {
   "cell_type": "code",
   "execution_count": 48,
   "id": "005ef807",
   "metadata": {},
   "outputs": [],
   "source": [
    "def get_val(num1, num2):\n",
    "    return num1 + num2"
   ]
  },
  {
   "cell_type": "code",
   "execution_count": 49,
   "id": "81a3e0df",
   "metadata": {},
   "outputs": [
    {
     "data": {
      "text/plain": [
       "3"
      ]
     },
     "execution_count": 49,
     "metadata": {},
     "output_type": "execute_result"
    }
   ],
   "source": [
    "get_val(1, 2)"
   ]
  },
  {
   "cell_type": "code",
   "execution_count": null,
   "id": "989e8468",
   "metadata": {},
   "outputs": [],
   "source": []
  },
  {
   "cell_type": "code",
   "execution_count": null,
   "id": "38de31f6",
   "metadata": {},
   "outputs": [],
   "source": []
  },
  {
   "cell_type": "code",
   "execution_count": null,
   "id": "01ed0d94",
   "metadata": {},
   "outputs": [],
   "source": []
  },
  {
   "cell_type": "code",
   "execution_count": 52,
   "id": "74e73df2",
   "metadata": {},
   "outputs": [],
   "source": [
    "assert get_val(1, 2) == 3\n",
    "assert get_val(2, 2) == 4\n",
    "assert get_val(1, 4) == 5\n",
    "assert get_val(2, 4) == 6"
   ]
  },
  {
   "cell_type": "code",
   "execution_count": null,
   "id": "66fb4778",
   "metadata": {},
   "outputs": [],
   "source": []
  },
  {
   "cell_type": "markdown",
   "id": "0804d15b",
   "metadata": {},
   "source": [
    "# Use the IDE Testing Tools\n",
    "\n",
    "Remember, an IDE is a development environment that combines common tools like a package manager, code editor, and virtual environment manager into an easy-to-use graphical user interface.\n",
    "\n",
    "- Use the IDE Testing Tools\n",
    "- Debug an Error\n",
    "- Breakpoints\n",
    "\n",
    "Watch this video: https://courses.bootcampspot.com/courses/800/pages/2-dot-5-8-activity-ide-debugging-tools?module_item_id=234801\n",
    "\n",
    "H.W: https://courses.bootcampspot.com/courses/800/pages/2-dot-5-9-whats-next?module_item_id=234804"
   ]
  },
  {
   "cell_type": "markdown",
   "id": "7abc70c1",
   "metadata": {},
   "source": [
    "# Dice roll."
   ]
  },
  {
   "cell_type": "code",
   "execution_count": null,
   "id": "52e28ea5",
   "metadata": {},
   "outputs": [],
   "source": []
  },
  {
   "cell_type": "markdown",
   "id": "fe8a5cb3",
   "metadata": {},
   "source": [
    "# Solve"
   ]
  },
  {
   "cell_type": "code",
   "execution_count": null,
   "id": "8c627b1d",
   "metadata": {},
   "outputs": [],
   "source": [
    "######## Solve here #########"
   ]
  },
  {
   "cell_type": "markdown",
   "id": "00574b6b",
   "metadata": {},
   "source": [
    "# Solution"
   ]
  },
  {
   "cell_type": "code",
   "execution_count": null,
   "id": "1e62a919",
   "metadata": {},
   "outputs": [],
   "source": [
    "#Rolling the dice\n",
    "import random\n",
    "import fire\n",
    "\n",
    "def roll(roll_again = \"yes\")\n",
    "    while roll_again == \"yes\" or roll_again == \"y\":\n",
    "        # roll the first dice 1.\n",
    "        dice1 = random.randint(1, 6)\n",
    "        print(dice1)\n",
    "        \n",
    "        # roll the first dice 2.\n",
    "        dice2 = random.randint(1, 6)\n",
    "        print(dice2)\n",
    "\n",
    "        roll_again = input(\"Roll the dices again?\")\n",
    "    \n",
    "if __name__ == '__main__':\n",
    "    fire.Fire(roll)"
   ]
  },
  {
   "cell_type": "markdown",
   "id": "4eda8900",
   "metadata": {},
   "source": [
    "# Refrences:\n",
    "[1] https://courses.bootcampspot.com/courses/800/pages/2-dot-5-9-whats-next?module_item_id=234804\n",
    "\n",
    "[2] https://www.pythonforbeginners.com/code-snippets-source-code/game-rolling-the-dice"
   ]
  }
 ],
 "metadata": {
  "kernelspec": {
   "display_name": "Python 3 (ipykernel)",
   "language": "python",
   "name": "python3"
  },
  "language_info": {
   "codemirror_mode": {
    "name": "ipython",
    "version": 3
   },
   "file_extension": ".py",
   "mimetype": "text/x-python",
   "name": "python",
   "nbconvert_exporter": "python",
   "pygments_lexer": "ipython3",
   "version": "3.8.10"
  }
 },
 "nbformat": 4,
 "nbformat_minor": 5
}
