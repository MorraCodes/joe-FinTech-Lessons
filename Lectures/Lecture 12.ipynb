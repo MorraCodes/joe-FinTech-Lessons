{
 "cells": [
  {
   "cell_type": "markdown",
   "id": "1efc8e8e",
   "metadata": {},
   "source": [
    "# Lecture 12\n",
    "\n",
    "- Numpy\n",
    "- Pandas"
   ]
  },
  {
   "cell_type": "markdown",
   "id": "18b918f3",
   "metadata": {},
   "source": [
    "# NumPy Basics: Arrays and Vectorized Computation.\n"
   ]
  },
  {
   "cell_type": "code",
   "execution_count": null,
   "id": "a79a157c",
   "metadata": {},
   "outputs": [],
   "source": [
    "import numpy"
   ]
  },
  {
   "cell_type": "code",
   "execution_count": 79,
   "id": "0e445795",
   "metadata": {},
   "outputs": [],
   "source": [
    "import numpy as np"
   ]
  },
  {
   "cell_type": "markdown",
   "id": "7b13cc89",
   "metadata": {},
   "source": [
    "# Lets create some numpy arrays"
   ]
  },
  {
   "cell_type": "code",
   "execution_count": 81,
   "id": "73456698",
   "metadata": {},
   "outputs": [
    {
     "data": {
      "text/plain": [
       "array([1, 5, 6])"
      ]
     },
     "execution_count": 81,
     "metadata": {},
     "output_type": "execute_result"
    }
   ],
   "source": [
    "np.array([1,5,6])"
   ]
  },
  {
   "cell_type": "code",
   "execution_count": 82,
   "id": "e12573c7",
   "metadata": {},
   "outputs": [
    {
     "data": {
      "text/plain": [
       "[[[1, 2], [3, 4]], [[5, 6], [7, 8]]]"
      ]
     },
     "execution_count": 82,
     "metadata": {},
     "output_type": "execute_result"
    }
   ],
   "source": [
    "[[[1, 2], [3, 4]],\n",
    "                    [[5, 6], [7, 8]]]"
   ]
  },
  {
   "cell_type": "code",
   "execution_count": 33,
   "id": "606cd328",
   "metadata": {},
   "outputs": [
    {
     "name": "stdout",
     "output_type": "stream",
     "text": [
      "[1 2 3 4]\n",
      "\n",
      "[[1 2]\n",
      " [3 4]]\n",
      "\n",
      "[[[1 2]\n",
      "  [3 4]]\n",
      "\n",
      " [[5 6]\n",
      "  [7 8]]]\n"
     ]
    }
   ],
   "source": [
    "import numpy as np\n",
    "\n",
    "a1D = np.array([1, 2, 3, 4])\n",
    "a2D = np.array([[1, 2], [3, 4]])\n",
    "a3D = np.array([[[1, 2], [3, 4]],\n",
    "                    [[5, 6], [7, 8]]])\n",
    "\n",
    "print(a1D)\n",
    "print()\n",
    "print(a2D)\n",
    "print()\n",
    "print(a3D)"
   ]
  },
  {
   "cell_type": "markdown",
   "id": "7992ab6a",
   "metadata": {},
   "source": [
    "# How it looks like"
   ]
  },
  {
   "cell_type": "code",
   "execution_count": 89,
   "id": "aa541d5d",
   "metadata": {},
   "outputs": [
    {
     "data": {
      "text/plain": [
       "2.0"
      ]
     },
     "execution_count": 89,
     "metadata": {},
     "output_type": "execute_result"
    }
   ],
   "source": [
    "np.sum([0.5, 1.5])"
   ]
  },
  {
   "cell_type": "code",
   "execution_count": 29,
   "id": "facf9ca8",
   "metadata": {},
   "outputs": [
    {
     "name": "stdout",
     "output_type": "stream",
     "text": [
      "[0 1 2 3 4 5 6 7 8 9]\n"
     ]
    },
    {
     "data": {
      "text/plain": [
       "[0, 1, 2, 3, 4, 5, 6, 7, 8, 9]"
      ]
     },
     "execution_count": 29,
     "metadata": {},
     "output_type": "execute_result"
    }
   ],
   "source": [
    "# horizontal array before it.\n",
    "my_arr = np.arange(10)\n",
    "print(my_arr)\n",
    "\n",
    "# list is vertical\n",
    "my_list = list(range(10))\n",
    "my_list"
   ]
  },
  {
   "cell_type": "code",
   "execution_count": 90,
   "id": "64eae8ae",
   "metadata": {},
   "outputs": [
    {
     "data": {
      "text/plain": [
       "array([[ 1.23848292,  1.85179092,  0.13309939],\n",
       "       [-0.95935895, -0.2913012 , -0.10772645],\n",
       "       [ 0.21038934,  1.53990355, -0.5857876 ],\n",
       "       [ 0.86381036,  0.96425919, -3.17709392]])"
      ]
     },
     "execution_count": 90,
     "metadata": {},
     "output_type": "execute_result"
    }
   ],
   "source": [
    "data = np.random.randn(4, 3)\n",
    "data"
   ]
  },
  {
   "cell_type": "code",
   "execution_count": 91,
   "id": "ced98677",
   "metadata": {},
   "outputs": [
    {
     "name": "stdout",
     "output_type": "stream",
     "text": [
      "(4, 3)\n"
     ]
    }
   ],
   "source": [
    "print(data.shape)"
   ]
  },
  {
   "cell_type": "code",
   "execution_count": 38,
   "id": "9aed9fe1",
   "metadata": {},
   "outputs": [
    {
     "name": "stdout",
     "output_type": "stream",
     "text": [
      "[0. 0. 0. 0. 0. 0. 0. 0. 0. 0.]\n"
     ]
    }
   ],
   "source": [
    "print(np.zeros(10))"
   ]
  },
  {
   "cell_type": "markdown",
   "id": "dbb1367e",
   "metadata": {},
   "source": [
    "# Setting Data Types"
   ]
  },
  {
   "cell_type": "code",
   "execution_count": 92,
   "id": "1052c7a1",
   "metadata": {},
   "outputs": [
    {
     "data": {
      "text/plain": [
       "array([5, 3, 4])"
      ]
     },
     "execution_count": 92,
     "metadata": {},
     "output_type": "execute_result"
    }
   ],
   "source": [
    "arr1 = np.array([5, 3, 4])\n",
    "arr1"
   ]
  },
  {
   "cell_type": "code",
   "execution_count": 41,
   "id": "9dd4c021",
   "metadata": {},
   "outputs": [
    {
     "name": "stdout",
     "output_type": "stream",
     "text": [
      "[5. 3. 4.]\n",
      "[5 3 4]\n"
     ]
    }
   ],
   "source": [
    "arr1 = np.array([5, 3, 4], dtype=np.float64)\n",
    "arr2 = np.array([5, 3, 4], dtype=np.int32)\n",
    "print(arr1)\n",
    "print(arr2)"
   ]
  },
  {
   "cell_type": "markdown",
   "id": "94a8b02a",
   "metadata": {},
   "source": [
    "# Some Advantages."
   ]
  },
  {
   "cell_type": "markdown",
   "id": "84f3ab15",
   "metadata": {},
   "source": [
    "# Example on ease of use"
   ]
  },
  {
   "cell_type": "code",
   "execution_count": 44,
   "id": "dee282ef",
   "metadata": {},
   "outputs": [
    {
     "data": {
      "text/plain": [
       "[4, 12, 20, 86]"
      ]
     },
     "execution_count": 44,
     "metadata": {},
     "output_type": "execute_result"
    }
   ],
   "source": [
    "array_list = [2,6,10,43]\n",
    "array_numpy = np.array([2,6,10,43])\n",
    "\n",
    "# Multiply array_list by 2\n",
    "for i in range(len(array_list)):\n",
    "    array_list[i] = array_list[i] * 2\n",
    "array_list"
   ]
  },
  {
   "cell_type": "code",
   "execution_count": 45,
   "id": "9905b50a",
   "metadata": {},
   "outputs": [
    {
     "data": {
      "text/plain": [
       "array([ 4, 12, 20, 86])"
      ]
     },
     "execution_count": 45,
     "metadata": {},
     "output_type": "execute_result"
    }
   ],
   "source": [
    "array_numpy * 2 # it is as easy as that."
   ]
  },
  {
   "cell_type": "code",
   "execution_count": 46,
   "id": "793e1f1e",
   "metadata": {},
   "outputs": [
    {
     "data": {
      "text/plain": [
       "[4, 12, 20, 86, 4, 12, 20, 86]"
      ]
     },
     "execution_count": 46,
     "metadata": {},
     "output_type": "execute_result"
    }
   ],
   "source": [
    "array_list*2 # check what happens when you multiply a list by 2."
   ]
  },
  {
   "cell_type": "markdown",
   "id": "c71e3ea7",
   "metadata": {},
   "source": [
    "# Let's compare which is faster .... shall we."
   ]
  },
  {
   "cell_type": "code",
   "execution_count": 93,
   "id": "ddcfedfd",
   "metadata": {},
   "outputs": [
    {
     "name": "stdout",
     "output_type": "stream",
     "text": [
      "Wall time: 746 ms\n",
      "Wall time: 728 ms\n"
     ]
    }
   ],
   "source": [
    "# numpy is much more faster to deal with and much faster to process\n",
    "%time for _ in range(10_000_00): my_arr2 = my_arr * 2\n",
    "\n",
    "# slower\n",
    "%time for _ in range(10_000_00): my_list2 = [x * 2 for x in my_list]"
   ]
  },
  {
   "cell_type": "markdown",
   "id": "5e62cb5e",
   "metadata": {},
   "source": [
    "# Slicing is also present in Numpy arrays."
   ]
  },
  {
   "cell_type": "code",
   "execution_count": 95,
   "id": "0145ed53",
   "metadata": {},
   "outputs": [
    {
     "data": {
      "text/plain": [
       "array([ 2,  6, 10, 43])"
      ]
     },
     "execution_count": 95,
     "metadata": {},
     "output_type": "execute_result"
    }
   ],
   "source": [
    "array_numpy"
   ]
  },
  {
   "cell_type": "code",
   "execution_count": 94,
   "id": "ebc43a49",
   "metadata": {},
   "outputs": [
    {
     "data": {
      "text/plain": [
       "array([ 6, 10])"
      ]
     },
     "execution_count": 94,
     "metadata": {},
     "output_type": "execute_result"
    }
   ],
   "source": [
    "array_numpy[1:3]"
   ]
  },
  {
   "cell_type": "markdown",
   "id": "67c54d88",
   "metadata": {},
   "source": [
    "# N-array, 2D arrays."
   ]
  },
  {
   "cell_type": "code",
   "execution_count": 96,
   "id": "df8fda62",
   "metadata": {},
   "outputs": [],
   "source": [
    "arr2_d = np.array([[4, 7, 1], \n",
    "                   [7, 2, 3], \n",
    "                   [9, 3, 6]])"
   ]
  },
  {
   "cell_type": "code",
   "execution_count": 97,
   "id": "d1c1c54a",
   "metadata": {},
   "outputs": [
    {
     "data": {
      "text/plain": [
       "array([[4, 7, 1],\n",
       "       [7, 2, 3],\n",
       "       [9, 3, 6]])"
      ]
     },
     "execution_count": 97,
     "metadata": {},
     "output_type": "execute_result"
    }
   ],
   "source": [
    "arr2_d"
   ]
  },
  {
   "cell_type": "code",
   "execution_count": 57,
   "id": "3a3897ce",
   "metadata": {},
   "outputs": [
    {
     "data": {
      "text/plain": [
       "array([[[4, 7, 1],\n",
       "        [0, 0, 0]],\n",
       "\n",
       "       [[7, 2, 3],\n",
       "        [0, 0, 0]],\n",
       "\n",
       "       [[9, 3, 6],\n",
       "        [0, 0, 0]]])"
      ]
     },
     "execution_count": 57,
     "metadata": {},
     "output_type": "execute_result"
    }
   ],
   "source": [
    "arr3_d = np.array([[[4, 7, 1],[0,0,0]], [[7, 2, 3],[0,0,0]], [[9, 3, 6],[0,0,0]]])\n",
    "arr3_d"
   ]
  },
  {
   "cell_type": "markdown",
   "id": "f0fb349f",
   "metadata": {},
   "source": [
    "# Get values from it."
   ]
  },
  {
   "cell_type": "code",
   "execution_count": 51,
   "id": "cfae5c87",
   "metadata": {},
   "outputs": [
    {
     "data": {
      "text/plain": [
       "array([9, 3, 6])"
      ]
     },
     "execution_count": 51,
     "metadata": {},
     "output_type": "execute_result"
    }
   ],
   "source": [
    "arr2_d = np.array([[4, 7, 1], [7, 2, 3], [9, 3, 6]])\n",
    "arr2_d[2]"
   ]
  },
  {
   "cell_type": "code",
   "execution_count": 54,
   "id": "b6d77298",
   "metadata": {},
   "outputs": [
    {
     "data": {
      "text/plain": [
       "9"
      ]
     },
     "execution_count": 54,
     "metadata": {},
     "output_type": "execute_result"
    }
   ],
   "source": [
    "arr2_d = np.array([[4, 7, 1], [7, 2, 3], [9, 3, 6]])\n",
    "arr2_d[2][0]"
   ]
  },
  {
   "cell_type": "code",
   "execution_count": 53,
   "id": "5220738a",
   "metadata": {},
   "outputs": [
    {
     "data": {
      "text/plain": [
       "9"
      ]
     },
     "execution_count": 53,
     "metadata": {},
     "output_type": "execute_result"
    }
   ],
   "source": [
    "arr2_d[2, 0]"
   ]
  },
  {
   "cell_type": "code",
   "execution_count": 59,
   "id": "0fe41f60",
   "metadata": {},
   "outputs": [
    {
     "name": "stdout",
     "output_type": "stream",
     "text": [
      "[9 3 6]\n"
     ]
    }
   ],
   "source": [
    "val = arr2_d[2].copy()\n",
    "print(val)"
   ]
  },
  {
   "cell_type": "markdown",
   "id": "73bdbc5d",
   "metadata": {},
   "source": [
    "# Boolean Indexing"
   ]
  },
  {
   "cell_type": "code",
   "execution_count": 102,
   "id": "3534c289",
   "metadata": {},
   "outputs": [
    {
     "name": "stdout",
     "output_type": "stream",
     "text": [
      "['joe' 'joe' 'omar' 'omar' 'omar' 'omar' 'joe']\n",
      "\n"
     ]
    },
    {
     "data": {
      "text/plain": [
       "array([[ 0.01603346,  0.07349146,  0.05940703, -1.6062102 ],\n",
       "       [ 0.99600646,  1.84150564,  0.47819096, -1.17535368],\n",
       "       [ 0.96549519,  0.75818469, -1.54129684, -0.87505204],\n",
       "       [-0.88462288,  0.1799746 , -0.72735919,  2.21005561],\n",
       "       [-0.18289509, -0.13811579, -1.13613866,  0.56129496],\n",
       "       [-1.05664563, -0.80204612, -1.149373  ,  0.59215086],\n",
       "       [ 1.43018798, -0.58951327, -0.55427903, -2.22696021]])"
      ]
     },
     "execution_count": 102,
     "metadata": {},
     "output_type": "execute_result"
    }
   ],
   "source": [
    "# names\n",
    "names = np.array(['joe', 'joe', 'omar', 'omar', 'omar', 'omar', 'joe'])\n",
    "\n",
    "# 7 rows, 4 cols.\n",
    "data = np.random.randn(7, 4)\n",
    "print(names)\n",
    "print()\n",
    "data"
   ]
  },
  {
   "cell_type": "code",
   "execution_count": 103,
   "id": "66e43e42",
   "metadata": {},
   "outputs": [
    {
     "data": {
      "text/plain": [
       "array([False, False,  True,  True,  True,  True, False])"
      ]
     },
     "execution_count": 103,
     "metadata": {},
     "output_type": "execute_result"
    }
   ],
   "source": [
    "names == \"omar\""
   ]
  },
  {
   "cell_type": "code",
   "execution_count": 104,
   "id": "7280f9b5",
   "metadata": {},
   "outputs": [
    {
     "data": {
      "text/plain": [
       "array([[ 0.96549519,  0.75818469, -1.54129684, -0.87505204],\n",
       "       [-0.88462288,  0.1799746 , -0.72735919,  2.21005561],\n",
       "       [-0.18289509, -0.13811579, -1.13613866,  0.56129496],\n",
       "       [-1.05664563, -0.80204612, -1.149373  ,  0.59215086]])"
      ]
     },
     "execution_count": 104,
     "metadata": {},
     "output_type": "execute_result"
    }
   ],
   "source": [
    "#Boolean Indexing\n",
    "data[names == \"omar\"]"
   ]
  },
  {
   "cell_type": "code",
   "execution_count": 106,
   "id": "5224f1d3",
   "metadata": {},
   "outputs": [
    {
     "name": "stdout",
     "output_type": "stream",
     "text": [
      "[[0.01603346]\n",
      " [0.99600646]\n",
      " [1.43018798]]\n"
     ]
    }
   ],
   "source": [
    "#Boolean Indexing & Slicing.\n",
    "print(data[names == 'joe', 0:1])"
   ]
  },
  {
   "cell_type": "code",
   "execution_count": 107,
   "id": "bb1b138d",
   "metadata": {},
   "outputs": [
    {
     "name": "stdout",
     "output_type": "stream",
     "text": [
      "[False False  True  True  True  True False]\n"
     ]
    }
   ],
   "source": [
    "# Boolean Indexing with NOT.\n",
    "print(names != 'joe')"
   ]
  },
  {
   "cell_type": "markdown",
   "id": "46b1f608",
   "metadata": {},
   "source": [
    "# Some useful Methods."
   ]
  },
  {
   "cell_type": "code",
   "execution_count": 108,
   "id": "7fa0f550",
   "metadata": {},
   "outputs": [
    {
     "name": "stdout",
     "output_type": "stream",
     "text": [
      "[[ 0.48104598  0.52765726  1.72815347]\n",
      " [ 1.43411348 -0.50876125 -0.37223663]\n",
      " [-2.17734832  0.26132866 -0.55205343]]\n"
     ]
    }
   ],
   "source": [
    "arr = np.random.randn(3, 3)\n",
    "print(arr)\n"
   ]
  },
  {
   "cell_type": "code",
   "execution_count": 109,
   "id": "0dbd8807",
   "metadata": {},
   "outputs": [
    {
     "data": {
      "text/plain": [
       "0.09132213496976904"
      ]
     },
     "execution_count": 109,
     "metadata": {},
     "output_type": "execute_result"
    }
   ],
   "source": [
    "arr.mean()"
   ]
  },
  {
   "cell_type": "code",
   "execution_count": 110,
   "id": "e694c546",
   "metadata": {},
   "outputs": [
    {
     "data": {
      "text/plain": [
       "0.09132213496976904"
      ]
     },
     "execution_count": 110,
     "metadata": {},
     "output_type": "execute_result"
    }
   ],
   "source": [
    "np.mean(arr)"
   ]
  },
  {
   "cell_type": "code",
   "execution_count": 112,
   "id": "11d3d9ba",
   "metadata": {},
   "outputs": [
    {
     "data": {
      "text/plain": [
       "0.8218992147279214"
      ]
     },
     "execution_count": 112,
     "metadata": {},
     "output_type": "execute_result"
    }
   ],
   "source": [
    "np.sum(arr)"
   ]
  },
  {
   "cell_type": "code",
   "execution_count": 76,
   "id": "a15bc59c",
   "metadata": {},
   "outputs": [
    {
     "data": {
      "text/plain": [
       "array([ 0,  1,  3,  6, 10, 15, 21, 28], dtype=int32)"
      ]
     },
     "execution_count": 76,
     "metadata": {},
     "output_type": "execute_result"
    }
   ],
   "source": [
    "# Cumsum\n",
    "arr = np.array([0, 1, 2, 3, 4, 5, 6, 7])\n",
    "#cumulative sum\n",
    "arr.cumsum()"
   ]
  },
  {
   "cell_type": "code",
   "execution_count": 77,
   "id": "d44421e7",
   "metadata": {},
   "outputs": [
    {
     "data": {
      "text/plain": [
       "array([1, 2, 5, 6])"
      ]
     },
     "execution_count": 77,
     "metadata": {},
     "output_type": "execute_result"
    }
   ],
   "source": [
    "ints = np.array([1, 1, 1, 1, 1, 2, 2, 5, 6])\n",
    "\n",
    "np.unique(ints)"
   ]
  },
  {
   "cell_type": "code",
   "execution_count": 78,
   "id": "81537005",
   "metadata": {},
   "outputs": [],
   "source": [
    "arr = np.arange(10)\n",
    "np.save('some_array', arr)"
   ]
  },
  {
   "cell_type": "code",
   "execution_count": null,
   "id": "88768f41",
   "metadata": {},
   "outputs": [],
   "source": []
  },
  {
   "cell_type": "code",
   "execution_count": null,
   "id": "13e1cef8",
   "metadata": {},
   "outputs": [],
   "source": []
  },
  {
   "cell_type": "markdown",
   "id": "f4357474",
   "metadata": {},
   "source": [
    "# Pandas"
   ]
  },
  {
   "cell_type": "code",
   "execution_count": 3,
   "id": "30d73af7",
   "metadata": {},
   "outputs": [],
   "source": [
    "import pandas as pd"
   ]
  },
  {
   "cell_type": "markdown",
   "id": "9fd5e6d3",
   "metadata": {},
   "source": [
    "\n",
    "In this module, you’ll use Pandas, which is a Python library, and Jupyter Notebook to automate and simplify processes that financial analysts do every day.\n",
    "\n",
    "By the end of this week, you'll complete your Challenge assignment by analyzing potential profits in the cryptocurrency market. To succeed at this Challenge, you’ll need to use the following skills:\n",
    "\n",
    "- Import data from a CSV file into a Pandas DataFrame.\n",
    "\n",
    "- Identify and clean missing, incomplete, erroneous, and duplicated text values in the datasets.\n",
    "\n",
    "- Generate summary statistics and visualizations to help you better understand the DataFrame.\n",
    "\n",
    "- View subsets of the larger DataFrame to do a targeted analysis.\n",
    "\n",
    "- Write Python code to capture the price differences across the cryptocurrency market.\n",
    "\n",
    "Why This Matters\n",
    "\n",
    "Pandas is a software library designed for data analytics that makes it easier to work with data from practically any type of file. With the combination of Pandas and Jupyter Notebook, you can efficiently import, prepare, and analyze data of any type or quantity.\n",
    "\n",
    "Pandas supplies powerful tools for working with time data in particular, and time is a key aspect of financial analysis. Analysts typically compare and measure financial assets—from single stocks to large portfolios—across time. By the end of this module, you’ll work directly with time data and use Pandas to gain deeper insights.\n",
    "\n",
    "- By the end of this module, you’ll be able to:\n",
    "\n",
    "- Collect data by importing CSV files into Pandas DataFrames.\n",
    "\n",
    "- Prepare and clean data for analysis by using Pandas functions.\n",
    "\n",
    "- Generate summary statistics for a DataFrame.\n",
    "\n",
    "- Create and customize plots from a DataFrame.\n",
    "\n",
    "- Select specific data for a close analysis.\n",
    "\n",
    "- Perform a time series analysis."
   ]
  },
  {
   "cell_type": "markdown",
   "id": "c7815f73",
   "metadata": {},
   "source": [
    "# Setting up\n",
    "\n"
   ]
  },
  {
   "cell_type": "markdown",
   "id": "5675aaa4",
   "metadata": {},
   "source": [
    "# Learning about Jupyter Notebook and Lab"
   ]
  },
  {
   "cell_type": "markdown",
   "id": "833c5cfd",
   "metadata": {},
   "source": [
    "Fintech is often driven by data. Traders review market patterns across the globe. Real-estate analysts scour sales data along with socioeconomic data to decide which neighborhoods to invest in. Countless other examples convey the same idea: financial analysis is a core part of what we do as fintech professionals.\n",
    "\n",
    "In this module, you'll apply a three-phase process for financial data analysis:\n",
    "\n",
    "- Collect the data.\n",
    "- Prepare the data.\n",
    "- Analyze the data.\n",
    "\n",
    "This lesson focuses on collecting data, and in later lessons, you'll learn how to prepare and analyze data to identify business opportunities and key insights. You'll do all this by using Pandas and JupyterLab."
   ]
  },
  {
   "cell_type": "markdown",
   "id": "8493e33f",
   "metadata": {},
   "source": [
    "Although no single best way exists for analyzing financial data, it typically follows this pattern: collect, prepare, and then analyze. We'll take this approach both in this module and in the course as a whole.\n",
    "\n",
    "In this lesson, we'll look at the specifics of data collection, which makes up the first phase of this pattern. But first, here's a brief explanation of each phase:\n",
    "\n",
    "- Collect the data: In this phase, you collect the data for analysis by importing it into a container that Python and Pandas can work on.\n",
    "\n",
    "- Prepare the data: In this phase, you clean the data to account for missing, incomplete, erroneous, and duplicated data. This phase also includes manipulating segments of the dataset to highlight the relationships between variables.\n",
    "\n",
    "- Analyze the data: This phase consists of an iterative process and varies depending on the goal of your analysis or research. Regardless of the specifics, the analysis involves testing your thesis, reviewing the results, and refining both until you reach a conclusion."
   ]
  },
  {
   "cell_type": "markdown",
   "id": "531bb9d1",
   "metadata": {},
   "source": [
    "# Pandas\n",
    "Pandas is a Python library that’s designed specifically for data analysis. Pandas offers a streamlined way of reviewing datasets and includes various functions that simplify importing, updating, and analyzing data.\n",
    "\n",
    "Pandas is designed to work with multiple file formats, especially the CSV format, which you can import and read with a few lines of code. Additionally, Pandas has various functions for reviewing and preparing the data for analysis. And once the analysis begins, Pandas is optimized to perform quickly and efficiently.\n",
    "\n",
    "Most importantly, Pandas has a human-friendly coding syntax that’s straightforward enough for beginners to understand and use. Pandas is one of Python’s most powerful tools, and understanding how to work within its framework will take your fintech skills to the next level."
   ]
  },
  {
   "cell_type": "markdown",
   "id": "9e347d70",
   "metadata": {},
   "source": [
    "# JupyterLab\n",
    "\n",
    "In this module, you’ll switch from writing your Python code in Visual Studio Code to using JupyterLab.\n",
    "\n",
    "JupyterLab is a web-based user interface that you use to run and review Python-based programs. JupyterLab easily integrates with the Anaconda software package and your Conda development environment. JupyterLab is one of the main IDEs that people use for Python application development across fintech and other data-driven industries.\n",
    "\n",
    "If you still need to set up these tools on your machine, return to the Getting Started page in the Introduction for a tutorial.\n",
    "\n",
    "Now, let’s dive into financial analysis and Pandas!"
   ]
  },
  {
   "cell_type": "markdown",
   "id": "c482eb35",
   "metadata": {},
   "source": [
    "# Data collection.\n",
    "When we refer to data collection, we mean the process of importing data into a container, or structure, and then organizing the data so that we can work with it.\n",
    "\n",
    "In Pandas, you'll work with two types of containers: Series and DataFrame. The following section explores how these containers relate to each other and how they differ.\n",
    "\n",
    "# Series and DataFrames in Pandas\n",
    "A Series is a container for a sequence of data. It functions like a column in a spreadsheet. A Series can hold any type of data."
   ]
  },
  {
   "cell_type": "markdown",
   "id": "7e19f78f",
   "metadata": {},
   "source": [
    "A DataFrame is the equivalent of two or more Series. With DataFrames, we can work with rows and columns (that is, tabular data).\n",
    "\n",
    "The following image shows how we might think about Series and DataFrames: a Series corresponds to a column in a spreadsheet, while a DataFrame corresponds to a spreadsheet, which has rows and columns:"
   ]
  },
  {
   "cell_type": "code",
   "execution_count": 113,
   "id": "c5d9c525",
   "metadata": {},
   "outputs": [],
   "source": [
    "# Reading from public github repo.\n",
    "df = pd.read_csv(\"https://raw.githubusercontent.com/OMS1996/DAV-Data-Science/master/Data/M2_Data.csv\")  \n"
   ]
  },
  {
   "cell_type": "code",
   "execution_count": 115,
   "id": "e7fc421c",
   "metadata": {},
   "outputs": [
    {
     "data": {
      "text/html": [
       "<div>\n",
       "<style scoped>\n",
       "    .dataframe tbody tr th:only-of-type {\n",
       "        vertical-align: middle;\n",
       "    }\n",
       "\n",
       "    .dataframe tbody tr th {\n",
       "        vertical-align: top;\n",
       "    }\n",
       "\n",
       "    .dataframe thead th {\n",
       "        text-align: right;\n",
       "    }\n",
       "</style>\n",
       "<table border=\"1\" class=\"dataframe\">\n",
       "  <thead>\n",
       "    <tr style=\"text-align: right;\">\n",
       "      <th></th>\n",
       "      <th>T</th>\n",
       "      <th>V</th>\n",
       "      <th>AP</th>\n",
       "      <th>RH</th>\n",
       "      <th>EP</th>\n",
       "    </tr>\n",
       "  </thead>\n",
       "  <tbody>\n",
       "    <tr>\n",
       "      <th>0</th>\n",
       "      <td>14.96</td>\n",
       "      <td>41.76</td>\n",
       "      <td>1024.07</td>\n",
       "      <td>73.17</td>\n",
       "      <td>463.26</td>\n",
       "    </tr>\n",
       "    <tr>\n",
       "      <th>1</th>\n",
       "      <td>25.18</td>\n",
       "      <td>62.96</td>\n",
       "      <td>1020.04</td>\n",
       "      <td>59.08</td>\n",
       "      <td>444.37</td>\n",
       "    </tr>\n",
       "    <tr>\n",
       "      <th>2</th>\n",
       "      <td>5.11</td>\n",
       "      <td>39.40</td>\n",
       "      <td>1012.16</td>\n",
       "      <td>92.14</td>\n",
       "      <td>488.56</td>\n",
       "    </tr>\n",
       "    <tr>\n",
       "      <th>3</th>\n",
       "      <td>20.86</td>\n",
       "      <td>57.32</td>\n",
       "      <td>1010.24</td>\n",
       "      <td>76.64</td>\n",
       "      <td>446.48</td>\n",
       "    </tr>\n",
       "    <tr>\n",
       "      <th>4</th>\n",
       "      <td>10.82</td>\n",
       "      <td>37.50</td>\n",
       "      <td>1009.23</td>\n",
       "      <td>96.62</td>\n",
       "      <td>473.90</td>\n",
       "    </tr>\n",
       "  </tbody>\n",
       "</table>\n",
       "</div>"
      ],
      "text/plain": [
       "       T      V       AP     RH      EP\n",
       "0  14.96  41.76  1024.07  73.17  463.26\n",
       "1  25.18  62.96  1020.04  59.08  444.37\n",
       "2   5.11  39.40  1012.16  92.14  488.56\n",
       "3  20.86  57.32  1010.24  76.64  446.48\n",
       "4  10.82  37.50  1009.23  96.62  473.90"
      ]
     },
     "execution_count": 115,
     "metadata": {},
     "output_type": "execute_result"
    }
   ],
   "source": [
    "df.head()"
   ]
  },
  {
   "cell_type": "markdown",
   "id": "00530bb5",
   "metadata": {},
   "source": [
    "# Import the data.\n",
    "- Internet .\n",
    "- Local Computer.\n",
    "\n",
    "`df` = `pd.read_csv()`"
   ]
  },
  {
   "cell_type": "code",
   "execution_count": null,
   "id": "09681775",
   "metadata": {},
   "outputs": [],
   "source": [
    "import pandas as pd\n",
    "from pathlib import Path\n",
    "\n",
    "csvpath = Path(\"../Resources/sales.csv\")\n",
    "sales_dataframe = pd.read_csv(csvpath)"
   ]
  },
  {
   "cell_type": "markdown",
   "id": "ed61e0aa",
   "metadata": {},
   "source": [
    "# Let's practice"
   ]
  },
  {
   "cell_type": "markdown",
   "id": "ed212f7f",
   "metadata": {},
   "source": [
    "https://courses.bootcampspot.com/courses/800/pages/3-dot-1-6-activity-importing-the-vix?module_item_id=234879"
   ]
  },
  {
   "cell_type": "markdown",
   "id": "6ac0e7b4",
   "metadata": {},
   "source": [
    "# Rename\n",
    "\n",
    "sales_data = sales_data.rename(columns={\"Credit Card Number\": \"Credit Card\"})\n",
    "\n",
    "`or`\n",
    "\n",
    "columns = [\"Full Name\", \"Email\", \"Zip Code\", \"Sale Price\"]\n",
    "\n",
    "sales_data.columns = columns\n",
    "\n"
   ]
  },
  {
   "cell_type": "markdown",
   "id": "db316659",
   "metadata": {},
   "source": [
    "# Let's practice again."
   ]
  },
  {
   "cell_type": "markdown",
   "id": "ac265f80",
   "metadata": {},
   "source": [
    "https://courses.bootcampspot.com/courses/800/pages/3-dot-1-8-activity-headerless-horsemen?module_item_id=234884"
   ]
  },
  {
   "cell_type": "markdown",
   "id": "dfaa1e75",
   "metadata": {},
   "source": [
    "# Now that we have loaded everything.\n",
    "By default, Pandas creates an index for the rows of the DataFrame by using numbers.\n",
    "\n",
    "While a numeric index can prove useful, we sometimes want to use labels for the rows instead. For example, setting the row index to the time or date often proves useful in finance. We’ll explore how to analyze data by using row labels later, but for now, let's look at how to set the index to the date.\n",
    "\n",
    "\n",
    "\n",
    "\n",
    "\n"
   ]
  },
  {
   "cell_type": "markdown",
   "id": "6e4fd282",
   "metadata": {},
   "source": [
    "https://courses.bootcampspot.com/courses/800/pages/3-dot-1-9-fix-rows?module_item_id=234888"
   ]
  },
  {
   "cell_type": "markdown",
   "id": "6ed62230",
   "metadata": {},
   "source": [
    "# Let's practice again again"
   ]
  },
  {
   "cell_type": "markdown",
   "id": "f37d6222",
   "metadata": {},
   "source": [
    "https://courses.bootcampspot.com/courses/800/pages/3-dot-1-10-activity-ipo-excitement?module_item_id=234891"
   ]
  },
  {
   "cell_type": "markdown",
   "id": "78b2d80e",
   "metadata": {},
   "source": [
    "# Introduction to Data Preparation\n",
    "\n",
    "Have you ever worked on a spreadsheet that’s full of errors such as typos, missing data, or duplicated data? Dirty data like this is the scourge of financial analysis—and it commonly appears. However, working with flawed data leads to a flawed analysis. It’s essential to prepare and clean any dataset before you analyze it, which you can do with the built-in functions that Pandas supplies.\n",
    "\n",
    "In this lesson, you’ll learn how to prepare data for analysis. You’ll use tools and techniques to identify and fix missing data, duplicate data, messy text, and incorrect data types. With these skills, you’ll be able to tackle even the messiest dataset."
   ]
  },
  {
   "cell_type": "markdown",
   "id": "7a834e7d",
   "metadata": {},
   "source": [
    "### Let’s begin by handling missing data."
   ]
  },
  {
   "cell_type": "markdown",
   "id": "d3b06536",
   "metadata": {},
   "source": [
    "Pandas typically represents missing values by using a data type known as NaN, which stands for Not a Number. You can think of a NaN as a placeholder for missing data."
   ]
  },
  {
   "attachments": {
    "image.png": {
     "image/png": "[encoded data removed]"
    }
   },
   "cell_type": "markdown",
   "id": "b7974f24",
   "metadata": {},
   "source": [
    "![image.png](attachment:image.png)"
   ]
  },
  {
   "cell_type": "code",
   "execution_count": 7,
   "id": "f03799b1",
   "metadata": {},
   "outputs": [
    {
     "data": {
      "text/html": [
       "<div>\n",
       "<style scoped>\n",
       "    .dataframe tbody tr th:only-of-type {\n",
       "        vertical-align: middle;\n",
       "    }\n",
       "\n",
       "    .dataframe tbody tr th {\n",
       "        vertical-align: top;\n",
       "    }\n",
       "\n",
       "    .dataframe thead th {\n",
       "        text-align: right;\n",
       "    }\n",
       "</style>\n",
       "<table border=\"1\" class=\"dataframe\">\n",
       "  <thead>\n",
       "    <tr style=\"text-align: right;\">\n",
       "      <th></th>\n",
       "      <th>3</th>\n",
       "      <th>?</th>\n",
       "      <th>alfa-romero</th>\n",
       "      <th>gas</th>\n",
       "      <th>std</th>\n",
       "      <th>two</th>\n",
       "      <th>convertible</th>\n",
       "      <th>rwd</th>\n",
       "      <th>front</th>\n",
       "      <th>88.6</th>\n",
       "      <th>...</th>\n",
       "      <th>130</th>\n",
       "      <th>mpfi</th>\n",
       "      <th>3.47</th>\n",
       "      <th>2.68</th>\n",
       "      <th>9</th>\n",
       "      <th>111</th>\n",
       "      <th>5000</th>\n",
       "      <th>21</th>\n",
       "      <th>27</th>\n",
       "      <th>13495</th>\n",
       "    </tr>\n",
       "  </thead>\n",
       "  <tbody>\n",
       "    <tr>\n",
       "      <th>0</th>\n",
       "      <td>3</td>\n",
       "      <td>?</td>\n",
       "      <td>alfa-romero</td>\n",
       "      <td>gas</td>\n",
       "      <td>std</td>\n",
       "      <td>two</td>\n",
       "      <td>convertible</td>\n",
       "      <td>rwd</td>\n",
       "      <td>front</td>\n",
       "      <td>88.6</td>\n",
       "      <td>...</td>\n",
       "      <td>130</td>\n",
       "      <td>mpfi</td>\n",
       "      <td>3.47</td>\n",
       "      <td>2.68</td>\n",
       "      <td>9.0</td>\n",
       "      <td>111</td>\n",
       "      <td>5000</td>\n",
       "      <td>21</td>\n",
       "      <td>27</td>\n",
       "      <td>16500</td>\n",
       "    </tr>\n",
       "    <tr>\n",
       "      <th>1</th>\n",
       "      <td>1</td>\n",
       "      <td>?</td>\n",
       "      <td>alfa-romero</td>\n",
       "      <td>gas</td>\n",
       "      <td>std</td>\n",
       "      <td>two</td>\n",
       "      <td>hatchback</td>\n",
       "      <td>rwd</td>\n",
       "      <td>front</td>\n",
       "      <td>94.5</td>\n",
       "      <td>...</td>\n",
       "      <td>152</td>\n",
       "      <td>mpfi</td>\n",
       "      <td>2.68</td>\n",
       "      <td>3.47</td>\n",
       "      <td>9.0</td>\n",
       "      <td>154</td>\n",
       "      <td>5000</td>\n",
       "      <td>19</td>\n",
       "      <td>26</td>\n",
       "      <td>16500</td>\n",
       "    </tr>\n",
       "    <tr>\n",
       "      <th>2</th>\n",
       "      <td>2</td>\n",
       "      <td>164</td>\n",
       "      <td>audi</td>\n",
       "      <td>gas</td>\n",
       "      <td>std</td>\n",
       "      <td>four</td>\n",
       "      <td>sedan</td>\n",
       "      <td>fwd</td>\n",
       "      <td>front</td>\n",
       "      <td>99.8</td>\n",
       "      <td>...</td>\n",
       "      <td>109</td>\n",
       "      <td>mpfi</td>\n",
       "      <td>3.19</td>\n",
       "      <td>3.4</td>\n",
       "      <td>10.0</td>\n",
       "      <td>102</td>\n",
       "      <td>5500</td>\n",
       "      <td>24</td>\n",
       "      <td>30</td>\n",
       "      <td>13950</td>\n",
       "    </tr>\n",
       "  </tbody>\n",
       "</table>\n",
       "<p>3 rows × 26 columns</p>\n",
       "</div>"
      ],
      "text/plain": [
       "   3    ?  alfa-romero  gas  std   two  convertible  rwd  front  88.6  ...  \\\n",
       "0  3    ?  alfa-romero  gas  std   two  convertible  rwd  front  88.6  ...   \n",
       "1  1    ?  alfa-romero  gas  std   two    hatchback  rwd  front  94.5  ...   \n",
       "2  2  164         audi  gas  std  four        sedan  fwd  front  99.8  ...   \n",
       "\n",
       "   130  mpfi  3.47  2.68     9  111  5000  21  27  13495  \n",
       "0  130  mpfi  3.47  2.68   9.0  111  5000  21  27  16500  \n",
       "1  152  mpfi  2.68  3.47   9.0  154  5000  19  26  16500  \n",
       "2  109  mpfi  3.19   3.4  10.0  102  5500  24  30  13950  \n",
       "\n",
       "[3 rows x 26 columns]"
      ]
     },
     "execution_count": 7,
     "metadata": {},
     "output_type": "execute_result"
    }
   ],
   "source": [
    "# Reading from repo. and rename the cols \n",
    "df = pd.read_csv(\"https://raw.githubusercontent.com/OMS1996/DAV-6150-Data-Science/master/Data/M4_Data.csv\")\n",
    "\n",
    "# Sanity check\n",
    "df.head(3)"
   ]
  },
  {
   "cell_type": "code",
   "execution_count": null,
   "id": "d3725163",
   "metadata": {},
   "outputs": [],
   "source": []
  },
  {
   "cell_type": "code",
   "execution_count": null,
   "id": "e7d3d874",
   "metadata": {},
   "outputs": [],
   "source": []
  },
  {
   "cell_type": "code",
   "execution_count": null,
   "id": "615893aa",
   "metadata": {},
   "outputs": [],
   "source": []
  },
  {
   "cell_type": "markdown",
   "id": "26dbd8e6",
   "metadata": {},
   "source": [
    "# Refrence\n",
    "[1] https://numpy.org/doc/stable/user/basics.creation.html\n",
    "\n",
    "[2] Bootcamp.\n",
    "\n",
    "[3] https://github.com/OMS1996/DAV-5400/blob/master/Lecture%20Notes/NumPy.ipynb"
   ]
  },
  {
   "cell_type": "code",
   "execution_count": null,
   "id": "cad3d0cb",
   "metadata": {},
   "outputs": [],
   "source": []
  }
 ],
 "metadata": {
  "kernelspec": {
   "display_name": "Python 3 (ipykernel)",
   "language": "python",
   "name": "python3"
  },
  "language_info": {
   "codemirror_mode": {
    "name": "ipython",
    "version": 3
   },
   "file_extension": ".py",
   "mimetype": "text/x-python",
   "name": "python",
   "nbconvert_exporter": "python",
   "pygments_lexer": "ipython3",
   "version": "3.8.10"
  }
 },
 "nbformat": 4,
 "nbformat_minor": 5
}
