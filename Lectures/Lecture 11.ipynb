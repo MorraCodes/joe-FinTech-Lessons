{
 "cells": [
  {
   "cell_type": "markdown",
   "id": "8263e30d",
   "metadata": {},
   "source": [
    "# Lecture 11\n",
    "- Assignment & Practice."
   ]
  },
  {
   "cell_type": "markdown",
   "id": "2a6971af",
   "metadata": {},
   "source": [
    "- https://courses.bootcampspot.com/courses/800/pages/2-dot-2-career-connection?module_item_id=234831"
   ]
  },
  {
   "cell_type": "code",
   "execution_count": null,
   "id": "82acb1fe",
   "metadata": {},
   "outputs": [],
   "source": [
    "# Pseudocode Solution\n",
    "def count_the_vowels(str):\n",
    "    # initialize a counter variable to 0\n",
    "    # loop through each character in the string\n",
    "        # if the char matches one of the vowels in uppercase of lowercase\n",
    "        # increment counter by one\n",
    "    # return the counter\n",
    "    \n",
    "    \n",
    "# actual cODE\n",
    "def count_the_vowels(str):\n",
    "    ## initialize a counter variable to 0\n",
    "    num_vowels = 0\n",
    "    ## loop through each character in the string\n",
    "    for char in str:\n",
    "        ## if the char matches one of the vowels in uppercase or lowercase\n",
    "        if char in \"aeiouAEIOU\":\n",
    "            ## increment counter by one\n",
    "            num_vowels = num_vowels + 1\n",
    "\n",
    "    ## return  the  counter\n",
    "    return num_vowels\n",
    "\n"
   ]
  },
  {
   "cell_type": "markdown",
   "id": "fdb75546",
   "metadata": {},
   "source": [
    "recap:\n",
    "\n",
    "Congratulations for completing your second module in the boot camp! While this week was challenging, you've acquired skills that professionals use to develop real applications.\n",
    "\n",
    "Now you can do the following:\n",
    "\n",
    "Describe how professionals develop software applications.\n",
    "\n",
    "Version your code using the terminal and VS Code.\n",
    "\n",
    "Translate user stories to code.\n",
    "\n",
    "Apply systems design principles to your applications.\n",
    "\n",
    "Enhance the usability of your applications.\n",
    "\n",
    "Test and debug your code.\n",
    "\n",
    "Create professional documentation for your application."
   ]
  },
  {
   "cell_type": "markdown",
   "id": "35b2bbc4",
   "metadata": {},
   "source": [
    "This module has emphasized skills and techniques that many developers employ to create professional software applications—but there's still plenty more to learn. As a fintech professional, you may want to continue digging into software engineering and software development techniques.\n",
    "\n",
    "See the following resources for deeper exploration:\n",
    "\n",
    "Python Packaging Managers (pip and PyPI) (Links to an external site.)\n",
    "\n",
    "Working with GitHub in VS Code (Links to an external site.)\n",
    "\n",
    "Python Modules (Links to an external site.)\n",
    "\n",
    "Python CLI Tools (Links to an external site.)\n",
    "\n",
    "Python Testing with PyTest"
   ]
  },
  {
   "cell_type": "markdown",
   "id": "d8d493d3",
   "metadata": {},
   "source": [
    "# Questions"
   ]
  },
  {
   "cell_type": "markdown",
   "id": "3f5f1bf9",
   "metadata": {},
   "source": [
    "# 1. get the maximum value of three lists and then add them then get their sum. use a function and you must use one for loop.\n",
    "\n",
    "# 2. create a folder called utils. That has all the necassary function to for basic arthimetic calculation.\n",
    "\n",
    "# 3. get the total sum of a list.\n",
    "\n",
    "# 4. get the cumalitive from a list.\n",
    "\n",
    "# 5. Given two integer numbers return their product. If the product is greater than 1000, then return their sum\n",
    "\n",
    "\n",
    "## Solution\n",
    "\n",
    "\n"
   ]
  },
  {
   "cell_type": "code",
   "execution_count": 2,
   "id": "4a6b9208",
   "metadata": {},
   "outputs": [
    {
     "name": "stdout",
     "output_type": "stream",
     "text": [
      "The result is 600\n",
      "The result is 70\n"
     ]
    }
   ],
   "source": [
    "def multiplication_or_sum(num1, num2):\n",
    "    # calculate product of two number\n",
    "    product = num1 * num2\n",
    "    # check if product is less then 1000\n",
    "    if product <= 1000:\n",
    "        return product\n",
    "    else:\n",
    "        # product is greater than 1000 calculate sum\n",
    "        return num1 + num2\n",
    "\n",
    "# first condition\n",
    "result = multiplication_or_sum(20, 30)\n",
    "print(\"The result is\", result)\n",
    "\n",
    "# Second condition\n",
    "result = multiplication_or_sum(40, 30)\n",
    "print(\"The result is\", result)"
   ]
  }
 ],
 "metadata": {
  "kernelspec": {
   "display_name": "Python 3 (ipykernel)",
   "language": "python",
   "name": "python3"
  },
  "language_info": {
   "codemirror_mode": {
    "name": "ipython",
    "version": 3
   },
   "file_extension": ".py",
   "mimetype": "text/x-python",
   "name": "python",
   "nbconvert_exporter": "python",
   "pygments_lexer": "ipython3",
   "version": "3.8.10"
  }
 },
 "nbformat": 4,
 "nbformat_minor": 5
}
