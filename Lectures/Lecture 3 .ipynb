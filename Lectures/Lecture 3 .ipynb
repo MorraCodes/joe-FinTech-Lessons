{
 "cells": [
  {
   "cell_type": "markdown",
   "id": "ideal-poison",
   "metadata": {},
   "source": [
    "# Lecture 3 :: Loops, Lists & Problems."
   ]
  },
  {
   "cell_type": "markdown",
   "id": "dried-college",
   "metadata": {},
   "source": [
    "### Quick-Recap\n",
    "    - if else <- your mistakes were mainly in indentation and `:`\n",
    "    - swapping\n",
    "    - power\n",
    "    - variable = input()\n",
    "    - int(input()) casting\n",
    "    - nested if"
   ]
  },
  {
   "cell_type": "markdown",
   "id": "little-immunology",
   "metadata": {},
   "source": [
    "###### To the power"
   ]
  },
  {
   "cell_type": "code",
   "execution_count": null,
   "id": "received-boost",
   "metadata": {},
   "outputs": [],
   "source": [
    "3**2"
   ]
  },
  {
   "cell_type": "markdown",
   "id": "elementary-criticism",
   "metadata": {},
   "source": [
    "#### Swapping"
   ]
  },
  {
   "cell_type": "markdown",
   "id": "actual-partnership",
   "metadata": {},
   "source": [
    "##### Swapping: Method 1"
   ]
  },
  {
   "cell_type": "code",
   "execution_count": 51,
   "id": "engaging-there",
   "metadata": {},
   "outputs": [
    {
     "name": "stdout",
     "output_type": "stream",
     "text": [
      "The value of X is  24\n",
      "The value of Y is 97\n",
      "\n"
     ]
    }
   ],
   "source": [
    "x = 97\n",
    "y = 24\n",
    "temp = 0\n",
    "\n",
    "temp = x\n",
    "x = y\n",
    "y = temp\n",
    "print(\"The value of X is \",x)\n",
    "print(\"The value of Y is\",y)\n",
    "print()\n",
    "\n"
   ]
  },
  {
   "cell_type": "markdown",
   "id": "legitimate-ethernet",
   "metadata": {},
   "source": [
    "##### Swapping: Method 2"
   ]
  },
  {
   "cell_type": "code",
   "execution_count": 52,
   "id": "included-eating",
   "metadata": {},
   "outputs": [
    {
     "name": "stdout",
     "output_type": "stream",
     "text": [
      "\n",
      "\n",
      "The value of X is  24\n",
      "The value of Y is 97\n"
     ]
    }
   ],
   "source": [
    "x = 97\n",
    "y = 24\n",
    "x, y = y, x \n",
    "\n",
    "print()\n",
    "print()\n",
    "print(\"The value of X is \",x)\n",
    "print(\"The value of Y is\",y)"
   ]
  },
  {
   "cell_type": "markdown",
   "id": "realistic-variation",
   "metadata": {},
   "source": [
    "# Lists\n",
    "\n",
    "- Mutable data structure. \n",
    "- Array has indeces starting from `0`."
   ]
  },
  {
   "cell_type": "code",
   "execution_count": 34,
   "id": "wrapped-embassy",
   "metadata": {},
   "outputs": [
    {
     "name": "stdout",
     "output_type": "stream",
     "text": [
      "[1, 2, 3, 4, 5, 6, 7, 8, 9, 10]\n"
     ]
    }
   ],
   "source": [
    "# how to create an empty list\n",
    "emptylist = []\n",
    "\n",
    "# example of a list containing data\n",
    "list1 = [1,2,3,4,5]\n",
    "list2 = [6,7,8,9,10]\n",
    "\n",
    "list3 = list1 + list2\n",
    "print(list3)"
   ]
  },
  {
   "cell_type": "code",
   "execution_count": 36,
   "id": "christian-driving",
   "metadata": {},
   "outputs": [
    {
     "data": {
      "text/plain": [
       "['omar', 7, 8, 'c', True]"
      ]
     },
     "execution_count": 36,
     "metadata": {},
     "output_type": "execute_result"
    }
   ],
   "source": [
    "list4 = [\"omar\",7,8,\"c\",True]\n",
    "list4"
   ]
  },
  {
   "cell_type": "markdown",
   "id": "tracked-rings",
   "metadata": {},
   "source": [
    "### Slicing"
   ]
  },
  {
   "cell_type": "markdown",
   "id": "fifty-draft",
   "metadata": {},
   "source": [
    "##### from the beginning index to before the last index"
   ]
  },
  {
   "cell_type": "code",
   "execution_count": 21,
   "id": "failing-jenny",
   "metadata": {},
   "outputs": [
    {
     "data": {
      "text/plain": [
       "['omar', 7, 8]"
      ]
     },
     "execution_count": 21,
     "metadata": {},
     "output_type": "execute_result"
    }
   ],
   "source": [
    "list4[0:3]"
   ]
  },
  {
   "cell_type": "markdown",
   "id": "weighted-detective",
   "metadata": {},
   "source": [
    "##### from the beginning until the before the last index"
   ]
  },
  {
   "cell_type": "code",
   "execution_count": 23,
   "id": "streaming-classification",
   "metadata": {},
   "outputs": [
    {
     "data": {
      "text/plain": [
       "['omar', 7, 8]"
      ]
     },
     "execution_count": 23,
     "metadata": {},
     "output_type": "execute_result"
    }
   ],
   "source": [
    "list4[:3]"
   ]
  },
  {
   "cell_type": "code",
   "execution_count": 24,
   "id": "nuclear-kinase",
   "metadata": {},
   "outputs": [
    {
     "data": {
      "text/plain": [
       "[8, 'c', True]"
      ]
     },
     "execution_count": 24,
     "metadata": {},
     "output_type": "execute_result"
    }
   ],
   "source": [
    "list4[2:]"
   ]
  },
  {
   "cell_type": "markdown",
   "id": "impaired-roller",
   "metadata": {},
   "source": [
    "## Some Built-In functions\n",
    "`len`\n",
    "`append`\n",
    "`sum`\n",
    "`sorted`\n",
    "`max`\n",
    "`min`"
   ]
  },
  {
   "cell_type": "code",
   "execution_count": 28,
   "id": "oriental-temple",
   "metadata": {},
   "outputs": [
    {
     "data": {
      "text/plain": [
       "7"
      ]
     },
     "execution_count": 28,
     "metadata": {},
     "output_type": "execute_result"
    }
   ],
   "source": [
    "len(list4) # Gets the length of the list/array"
   ]
  },
  {
   "cell_type": "code",
   "execution_count": 29,
   "id": "southeast-fleece",
   "metadata": {},
   "outputs": [
    {
     "data": {
      "text/plain": [
       "['omar', 7, 8, 'c', True, 10000, 10000, 10000]"
      ]
     },
     "execution_count": 29,
     "metadata": {},
     "output_type": "execute_result"
    }
   ],
   "source": [
    "list4.append(10000)\n",
    "list4"
   ]
  },
  {
   "cell_type": "code",
   "execution_count": 30,
   "id": "common-variation",
   "metadata": {},
   "outputs": [
    {
     "data": {
      "text/plain": [
       "6"
      ]
     },
     "execution_count": 30,
     "metadata": {},
     "output_type": "execute_result"
    }
   ],
   "source": [
    "sum([2, 3, 1])# getting the total sum"
   ]
  },
  {
   "cell_type": "code",
   "execution_count": 31,
   "id": "occupational-partner",
   "metadata": {},
   "outputs": [
    {
     "data": {
      "text/plain": [
       "[1, 2, 3]"
      ]
     },
     "execution_count": 31,
     "metadata": {},
     "output_type": "execute_result"
    }
   ],
   "source": [
    "sorted([2, 3, 1]) # getting the largest value)"
   ]
  },
  {
   "cell_type": "code",
   "execution_count": 32,
   "id": "juvenile-google",
   "metadata": {},
   "outputs": [
    {
     "data": {
      "text/plain": [
       "3"
      ]
     },
     "execution_count": 32,
     "metadata": {},
     "output_type": "execute_result"
    }
   ],
   "source": [
    "max([2, 3, 1])# getting the largest value"
   ]
  },
  {
   "cell_type": "code",
   "execution_count": 33,
   "id": "international-observation",
   "metadata": {},
   "outputs": [
    {
     "data": {
      "text/plain": [
       "1"
      ]
     },
     "execution_count": 33,
     "metadata": {},
     "output_type": "execute_result"
    }
   ],
   "source": [
    "min([2, 3, 1])# getting the smallest value"
   ]
  },
  {
   "cell_type": "markdown",
   "id": "according-concept",
   "metadata": {},
   "source": [
    "# Loops\n"
   ]
  },
  {
   "cell_type": "markdown",
   "id": "bright-subscriber",
   "metadata": {},
   "source": [
    "# for loops\n",
    "for loops are for iterating over a collection (like a list or tuple) or an iterater. The\n",
    "standard syntax for a for loop is:\n",
    "\n",
    "    for value in collection:\n",
    "     ##### do something with value\n",
    "     \n",
    "     \n",
    "the syntax is the word `for` followed by variable_name then followed by what you are going to iterate over.\n",
    "\n",
    "    - Then below it you insert what you want to repeat.\n",
    "       \n",
    "Note: `range` does not include the last element in it."
   ]
  },
  {
   "cell_type": "code",
   "execution_count": 37,
   "id": "limited-angle",
   "metadata": {},
   "outputs": [
    {
     "name": "stdout",
     "output_type": "stream",
     "text": [
      "omar\n",
      "joe\n",
      "adel\n",
      "Mo\n",
      "casper\n",
      "ramo\n",
      "dodo\n",
      "sharon\n"
     ]
    }
   ],
   "source": [
    "for name in [\"omar\",\"joe\",\"adel\",\"Mo\",\"casper\",\"ramo\",\"dodo\",\"sharon\"]:\n",
    "    print(name)"
   ]
  },
  {
   "cell_type": "code",
   "execution_count": 38,
   "id": "circular-tennis",
   "metadata": {},
   "outputs": [
    {
     "name": "stdout",
     "output_type": "stream",
     "text": [
      "omar\n",
      "joe\n",
      "adel\n",
      "Mo\n",
      "casper\n",
      "ramo\n",
      "dodo\n",
      "sharon\n"
     ]
    }
   ],
   "source": [
    "names = [\"omar\",\"joe\",\"adel\",\"Mo\",\"casper\",\"ramo\",\"dodo\",\"sharon\"]   \n",
    "\n",
    "for name in names:\n",
    "    print(name)"
   ]
  },
  {
   "cell_type": "code",
   "execution_count": 40,
   "id": "expired-soldier",
   "metadata": {},
   "outputs": [
    {
     "name": "stdout",
     "output_type": "stream",
     "text": [
      "0\n",
      "1\n",
      "2\n",
      "3\n",
      "4\n",
      "5\n",
      "6\n",
      "7\n",
      "8\n",
      "9\n",
      "10\n"
     ]
    }
   ],
   "source": [
    "for i in range(11):\n",
    "    print(i)"
   ]
  },
  {
   "cell_type": "markdown",
   "id": "wrong-angola",
   "metadata": {},
   "source": [
    "## Getting sum of the array."
   ]
  },
  {
   "cell_type": "code",
   "execution_count": 45,
   "id": "indie-tiffany",
   "metadata": {},
   "outputs": [
    {
     "name": "stdout",
     "output_type": "stream",
     "text": [
      "12\n"
     ]
    }
   ],
   "source": [
    "sequence = [1, 2, 5, 4]\n",
    "total = 0\n",
    "for value in sequence:\n",
    "    total += value\n",
    "    \n",
    "print(total)"
   ]
  },
  {
   "cell_type": "code",
   "execution_count": 46,
   "id": "hispanic-startup",
   "metadata": {},
   "outputs": [
    {
     "data": {
      "text/plain": [
       "12"
      ]
     },
     "execution_count": 46,
     "metadata": {},
     "output_type": "execute_result"
    }
   ],
   "source": [
    "sum(sequence)"
   ]
  },
  {
   "cell_type": "markdown",
   "id": "driven-faculty",
   "metadata": {},
   "source": [
    "# Two other important way to loop through an Array.\n",
    "## Looping through the indeces."
   ]
  },
  {
   "cell_type": "code",
   "execution_count": 57,
   "id": "secondary-patrol",
   "metadata": {},
   "outputs": [
    {
     "name": "stdout",
     "output_type": "stream",
     "text": [
      "20\n",
      "40\n",
      "60\n",
      "80\n"
     ]
    }
   ],
   "source": [
    "sequence = [20, 40, 60, 80]\n",
    "\n",
    "for i in range(len(sequence)):\n",
    "    print(sequence[i])"
   ]
  },
  {
   "cell_type": "code",
   "execution_count": 58,
   "id": "caroline-watson",
   "metadata": {},
   "outputs": [
    {
     "name": "stdout",
     "output_type": "stream",
     "text": [
      "0 20\n",
      "1 40\n",
      "2 60\n",
      "3 80\n"
     ]
    }
   ],
   "source": [
    "for idx, value in enumerate(sequence):\n",
    "    print(idx, value)"
   ]
  },
  {
   "cell_type": "markdown",
   "id": "exterior-practitioner",
   "metadata": {},
   "source": [
    "# move more than one step at a time."
   ]
  },
  {
   "cell_type": "code",
   "execution_count": 64,
   "id": "improving-wonder",
   "metadata": {},
   "outputs": [
    {
     "name": "stdout",
     "output_type": "stream",
     "text": [
      "0\n",
      "2\n",
      "4\n",
      "6\n",
      "8\n"
     ]
    }
   ],
   "source": [
    "for i in range(0, 10, 2):\n",
    "    print(i)"
   ]
  },
  {
   "cell_type": "markdown",
   "id": "authentic-joshua",
   "metadata": {},
   "source": [
    "### Quick-problem\n",
    "\n",
    "Make a program that prints the sequence like the following example.\n",
    "- I=1 \n",
    "- I=4 \n",
    "- I=7 \n",
    ".\n",
    ".\n",
    ".\n",
    ".\n",
    ".\n",
    ".\n",
    ".\n",
    "I = 100"
   ]
  },
  {
   "cell_type": "markdown",
   "id": "driven-standing",
   "metadata": {},
   "source": [
    "### Solution ###\n"
   ]
  },
  {
   "cell_type": "code",
   "execution_count": 76,
   "id": "metallic-bidding",
   "metadata": {},
   "outputs": [
    {
     "name": "stdout",
     "output_type": "stream",
     "text": [
      "1\n",
      "4\n",
      "7\n",
      "10\n",
      "13\n",
      "16\n",
      "19\n",
      "22\n",
      "25\n",
      "28\n",
      "31\n",
      "34\n",
      "37\n",
      "40\n",
      "43\n",
      "46\n",
      "49\n",
      "52\n",
      "55\n",
      "58\n",
      "61\n",
      "64\n",
      "67\n",
      "70\n",
      "73\n",
      "76\n",
      "79\n",
      "82\n",
      "85\n",
      "88\n",
      "91\n",
      "94\n",
      "97\n",
      "100\n"
     ]
    }
   ],
   "source": [
    "for i in range(1, 103, 3):\n",
    "    print(i)"
   ]
  },
  {
   "cell_type": "code",
   "execution_count": null,
   "id": "duplicate-pendant",
   "metadata": {},
   "outputs": [],
   "source": []
  },
  {
   "cell_type": "markdown",
   "id": "alpine-america",
   "metadata": {},
   "source": [
    "## problems on Lists & Loops."
   ]
  },
  {
   "cell_type": "markdown",
   "id": "united-feedback",
   "metadata": {},
   "source": [
    "Exercise 1: Print First 10 natural numbers using while loop (Easy)\n",
    "Expected output:\n",
    "\n",
    "0\n",
    "1\n",
    "2\n",
    "3\n",
    "4\n",
    "5\n",
    "6\n",
    "7\n",
    "8\n",
    "9\n",
    "10"
   ]
  },
  {
   "cell_type": "code",
   "execution_count": null,
   "id": "bibliographic-darkness",
   "metadata": {},
   "outputs": [],
   "source": [
    "### Solve below #####"
   ]
  },
  {
   "cell_type": "code",
   "execution_count": null,
   "id": "presidential-stations",
   "metadata": {},
   "outputs": [],
   "source": []
  },
  {
   "cell_type": "markdown",
   "id": "thrown-memorial",
   "metadata": {},
   "source": [
    "### Solution"
   ]
  },
  {
   "cell_type": "code",
   "execution_count": 65,
   "id": "developmental-strike",
   "metadata": {},
   "outputs": [
    {
     "name": "stdout",
     "output_type": "stream",
     "text": [
      "0\n",
      "1\n",
      "2\n",
      "3\n",
      "4\n",
      "5\n",
      "6\n",
      "7\n",
      "8\n",
      "9\n",
      "10\n"
     ]
    }
   ],
   "source": [
    "for i in range(11):\n",
    "    print(i)"
   ]
  },
  {
   "cell_type": "markdown",
   "id": "valuable-torture",
   "metadata": {},
   "source": [
    "#### Exercise 2: Get Sum (Medium)\n",
    "Accept number from user and calculate the sum of all number from 1 to a given number"
   ]
  },
  {
   "cell_type": "code",
   "execution_count": null,
   "id": "unauthorized-maryland",
   "metadata": {},
   "outputs": [],
   "source": [
    "# Solve here #\n",
    "\n",
    "\n"
   ]
  },
  {
   "cell_type": "markdown",
   "id": "ranking-commercial",
   "metadata": {},
   "source": [
    "# Solution "
   ]
  },
  {
   "cell_type": "code",
   "execution_count": 67,
   "id": "gorgeous-expense",
   "metadata": {},
   "outputs": [
    {
     "name": "stdout",
     "output_type": "stream",
     "text": [
      "Please enter number 10\n",
      "\n",
      "\n",
      "Sum is:  55\n"
     ]
    }
   ],
   "source": [
    "sum1 = 0\n",
    "n = int(input(\"Please enter number \"))\n",
    "for i in range(1, n + 1):\n",
    "    sum1 += i\n",
    "\n",
    "print(\"Sum is: \", sum1)"
   ]
  },
  {
   "cell_type": "markdown",
   "id": "public-motel",
   "metadata": {},
   "source": [
    "# Exercise 3 (Slightly Hard)\n",
    "\n",
    "In a list [1,2,3,4,5,6,7,8,9]. Please get:\n",
    "    - the total sum of all the elements.\n",
    "    - the total sum of all the odd numbers.\n",
    "    - the total sum of the even numbers.\n",
    "    \n",
    "    \n",
    "Note: To check if a number is odd or even, we use the `%` , meaning x % 2 == 0 then it is even."
   ]
  },
  {
   "cell_type": "code",
   "execution_count": 71,
   "id": "appreciated-tourist",
   "metadata": {},
   "outputs": [],
   "source": [
    "### SOlVE here\n",
    "numbers = [1,2,3,4,5,6,7,8,9]"
   ]
  },
  {
   "cell_type": "markdown",
   "id": "configured-substitute",
   "metadata": {},
   "source": [
    "# Solution"
   ]
  },
  {
   "cell_type": "code",
   "execution_count": 72,
   "id": "charitable-session",
   "metadata": {},
   "outputs": [
    {
     "name": "stdout",
     "output_type": "stream",
     "text": [
      "45\n",
      "20\n",
      "25\n"
     ]
    }
   ],
   "source": [
    "total = 0\n",
    "total_even = 0\n",
    "total_odd = 0\n",
    "\n",
    "for value in numbers:\n",
    "    total += value\n",
    "    if value % 2 == 0:\n",
    "        total_even += value\n",
    "    else:\n",
    "        total_odd += value\n",
    "\n",
    "print(total)\n",
    "print(total_even)\n",
    "print(total_odd)"
   ]
  },
  {
   "cell_type": "code",
   "execution_count": null,
   "id": "latter-memphis",
   "metadata": {},
   "outputs": [],
   "source": [
    "#"
   ]
  },
  {
   "cell_type": "code",
   "execution_count": null,
   "id": "revised-avatar",
   "metadata": {},
   "outputs": [],
   "source": []
  },
  {
   "cell_type": "markdown",
   "id": "passing-schema",
   "metadata": {},
   "source": [
    "# Nested loops."
   ]
  },
  {
   "cell_type": "code",
   "execution_count": 69,
   "id": "adult-petroleum",
   "metadata": {},
   "outputs": [
    {
     "name": "stdout",
     "output_type": "stream",
     "text": [
      "Red apple\n",
      "Red banana\n",
      "Red cherry\n",
      "Big apple\n",
      "Big banana\n",
      "Big cherry\n",
      "Tasty apple\n",
      "Tasty banana\n",
      "Tasty cherry\n"
     ]
    }
   ],
   "source": [
    "adj = [\"Red\", \"Big\", \"Tasty\"]\n",
    "fruits = [\"apple\", \"banana\", \"cherry\"]\n",
    "\n",
    "for x in adj:\n",
    "    for y in fruits:\n",
    "        print(x, y)"
   ]
  },
  {
   "cell_type": "markdown",
   "id": "dense-disposition",
   "metadata": {},
   "source": [
    "# Exc 4:I want you to do the opposite of the above nested loop: (Easy)\n"
   ]
  },
  {
   "cell_type": "code",
   "execution_count": null,
   "id": "sensitive-genome",
   "metadata": {},
   "outputs": [],
   "source": [
    "#### solve here ####"
   ]
  },
  {
   "cell_type": "markdown",
   "id": "consistent-driver",
   "metadata": {},
   "source": [
    "# Solution"
   ]
  },
  {
   "cell_type": "code",
   "execution_count": 70,
   "id": "taken-virtue",
   "metadata": {},
   "outputs": [
    {
     "name": "stdout",
     "output_type": "stream",
     "text": [
      "apple Red\n",
      "apple Big\n",
      "apple Tasty\n",
      "banana Red\n",
      "banana Big\n",
      "banana Tasty\n",
      "cherry Red\n",
      "cherry Big\n",
      "cherry Tasty\n"
     ]
    }
   ],
   "source": [
    "adj = [\"Red\", \"Big\", \"Tasty\"]\n",
    "fruits = [\"apple\", \"banana\", \"cherry\"]\n",
    "\n",
    "for x in fruits:\n",
    "    for y in adj:\n",
    "        print(x, y)"
   ]
  },
  {
   "cell_type": "markdown",
   "id": "united-tracker",
   "metadata": {},
   "source": [
    "# Exc 5: Exercise 2: Print the following pattern (Hard)\n",
    "\n",
    "    1 \n",
    "    1 2 \n",
    "    1 2 3 \n",
    "    1 2 3 4 \n",
    "    1 2 3 4 5"
   ]
  },
  {
   "cell_type": "code",
   "execution_count": null,
   "id": "medium-worcester",
   "metadata": {},
   "outputs": [],
   "source": [
    "### Solve here ###"
   ]
  },
  {
   "cell_type": "markdown",
   "id": "twenty-transportation",
   "metadata": {},
   "source": [
    "# Solution"
   ]
  },
  {
   "cell_type": "code",
   "execution_count": null,
   "id": "heavy-antigua",
   "metadata": {},
   "outputs": [],
   "source": [
    "print(\"Second Number Pattern \")\n",
    "lastNumber = 6\n",
    "for row in range(1, lastNumber):\n",
    "    for column in range(1, row + 1):\n",
    "        print(column, end=' ')\n",
    "    print(\"\")"
   ]
  },
  {
   "cell_type": "code",
   "execution_count": null,
   "id": "inappropriate-activation",
   "metadata": {},
   "outputs": [],
   "source": []
  },
  {
   "cell_type": "code",
   "execution_count": null,
   "id": "sudden-number",
   "metadata": {},
   "outputs": [],
   "source": []
  },
  {
   "cell_type": "code",
   "execution_count": null,
   "id": "careful-indie",
   "metadata": {},
   "outputs": [],
   "source": []
  },
  {
   "cell_type": "markdown",
   "id": "editorial-revision",
   "metadata": {},
   "source": [
    "# Back to the lecture"
   ]
  },
  {
   "cell_type": "markdown",
   "id": "complimentary-airline",
   "metadata": {},
   "source": [
    "# `continue` Keyword"
   ]
  },
  {
   "cell_type": "code",
   "execution_count": 47,
   "id": "declared-belfast",
   "metadata": {},
   "outputs": [
    {
     "name": "stdout",
     "output_type": "stream",
     "text": [
      "12\n"
     ]
    }
   ],
   "source": [
    "sequence = [1, 2, None, 4, None, 5]\n",
    "total = 0\n",
    "for value in sequence:\n",
    "    if value is None:\n",
    "        continue\n",
    "    total += value\n",
    "    \n",
    "print(total)"
   ]
  },
  {
   "cell_type": "markdown",
   "id": "lesbian-cuisine",
   "metadata": {},
   "source": [
    "# `Break` Keyword\n",
    "\n",
    "A for loop can be exited altogether using the break keyword. This code sums elements\n",
    "of the list until a 5 is reached:"
   ]
  },
  {
   "cell_type": "code",
   "execution_count": 49,
   "id": "welcome-knight",
   "metadata": {},
   "outputs": [
    {
     "name": "stdout",
     "output_type": "stream",
     "text": [
      "13\n"
     ]
    }
   ],
   "source": [
    "sequence = [1, 2, 0, 4, 6, 5, 2, 1]\n",
    "total_until_5 = 0\n",
    "for value in sequence:\n",
    "    if value == 5:\n",
    "        break\n",
    "    total_until_5 += value\n",
    "\n",
    "print(total_until_5)"
   ]
  },
  {
   "cell_type": "markdown",
   "id": "antique-landscape",
   "metadata": {},
   "source": [
    "# `while` loops\n",
    "A while loop specifies a condition and a block of code that is to be executed until the\n",
    "condition evaluates to False or the loop is explicitly ended with break:"
   ]
  },
  {
   "cell_type": "code",
   "execution_count": 74,
   "id": "outside-dependence",
   "metadata": {},
   "outputs": [
    {
     "name": "stdout",
     "output_type": "stream",
     "text": [
      "0\n",
      "1\n",
      "2\n",
      "3\n",
      "4\n",
      "5\n",
      "6\n",
      "7\n",
      "8\n",
      "9\n"
     ]
    }
   ],
   "source": [
    "i = 0\n",
    "while i < 10:\n",
    "    print(i)\n",
    "    i += 1"
   ]
  },
  {
   "cell_type": "code",
   "execution_count": 73,
   "id": "arbitrary-visiting",
   "metadata": {},
   "outputs": [
    {
     "name": "stdout",
     "output_type": "stream",
     "text": [
      "1\n",
      "2\n",
      "4\n",
      "8\n"
     ]
    }
   ],
   "source": [
    "i = 1\n",
    "while i < 10:\n",
    "    print(i)\n",
    "    i *= 2"
   ]
  },
  {
   "cell_type": "code",
   "execution_count": 50,
   "id": "editorial-cambridge",
   "metadata": {},
   "outputs": [
    {
     "data": {
      "text/plain": [
       "4"
      ]
     },
     "execution_count": 50,
     "metadata": {},
     "output_type": "execute_result"
    }
   ],
   "source": [
    "x = 256\n",
    "total = 0\n",
    "while x > 0:\n",
    "    if total > 500:\n",
    "        break\n",
    "    total += x\n",
    "    x = x // 2\n",
    "x"
   ]
  },
  {
   "cell_type": "markdown",
   "id": "operational-germany",
   "metadata": {},
   "source": [
    "# Excercise 1\n",
    "#### Write a while loop that adds all the numbers up to 100 (inclusive)."
   ]
  },
  {
   "cell_type": "code",
   "execution_count": null,
   "id": "aerial-atlas",
   "metadata": {},
   "outputs": [],
   "source": [
    "### solve here"
   ]
  },
  {
   "cell_type": "markdown",
   "id": "aggregate-petersburg",
   "metadata": {},
   "source": [
    "# solution"
   ]
  },
  {
   "cell_type": "code",
   "execution_count": null,
   "id": "arctic-climate",
   "metadata": {},
   "outputs": [],
   "source": [
    "while counter <= 100:\n",
    "    total= total+counter \n",
    "    counter= counter+1"
   ]
  },
  {
   "cell_type": "markdown",
   "id": "conscious-publicity",
   "metadata": {},
   "source": [
    "# Excercise 2\n",
    "write a while loop that stops appending items to the new list as soon as it encounters an empty string: \"\". And prints \"There is an empty string and returns the new list.\""
   ]
  },
  {
   "cell_type": "code",
   "execution_count": null,
   "id": "aquatic-advance",
   "metadata": {},
   "outputs": [],
   "source": [
    "## Solve here ###"
   ]
  },
  {
   "cell_type": "code",
   "execution_count": null,
   "id": "conceptual-testimony",
   "metadata": {},
   "outputs": [],
   "source": [
    "i = 0\n",
    "new_list = []\n",
    "while i < len(list):\n",
    "    if list[i] != \"\":\n",
    "        new_list.append(list[i])\n",
    "    else:\n",
    "        break\n",
    "    i = i+1\n",
    "    \n",
    "print(new_list)"
   ]
  },
  {
   "cell_type": "code",
   "execution_count": null,
   "id": "superior-terror",
   "metadata": {},
   "outputs": [],
   "source": []
  },
  {
   "cell_type": "markdown",
   "id": "undefined-freedom",
   "metadata": {},
   "source": [
    "# Mini-project :: Guessing game.\n",
    "\n",
    "\n",
    "Make the computer pick a random number and try to guess it through the `input() ` Keyword if your guess was higher print `higher` if your guess was lower print `lower`, if your guess is correct print `you have guessed` then `break`."
   ]
  },
  {
   "cell_type": "code",
   "execution_count": 77,
   "id": "binary-diagnosis",
   "metadata": {},
   "outputs": [],
   "source": [
    "import random\n",
    "n = random.randint(1, 99) # This how you generate a random number.\n",
    "# Start your code below here."
   ]
  },
  {
   "cell_type": "code",
   "execution_count": null,
   "id": "soviet-tomato",
   "metadata": {},
   "outputs": [],
   "source": []
  },
  {
   "cell_type": "code",
   "execution_count": null,
   "id": "given-herald",
   "metadata": {},
   "outputs": [],
   "source": []
  },
  {
   "cell_type": "markdown",
   "id": "rising-affairs",
   "metadata": {},
   "source": [
    "# solution"
   ]
  },
  {
   "cell_type": "code",
   "execution_count": null,
   "id": "related-maple",
   "metadata": {},
   "outputs": [],
   "source": [
    "import random\n",
    "n = random.randint(1, 99)\n",
    "guess = int(raw_input(\"Enter an integer from 1 to 99: \"))\n",
    "while n != \"guess\":\n",
    "    print\n",
    "    if guess < n:\n",
    "        print \"guess is low\"\n",
    "        guess = int(raw_input(\"Enter an integer from 1 to 99: \"))\n",
    "    elif guess > n:\n",
    "        print \"guess is high\"\n",
    "        guess = int(raw_input(\"Enter an integer from 1 to 99: \"))\n",
    "    else:\n",
    "        print \"you guessed it!\"\n",
    "        break\n",
    "    print"
   ]
  },
  {
   "cell_type": "markdown",
   "id": "abstract-probability",
   "metadata": {},
   "source": [
    "#### `pass` : remind me to explain this later."
   ]
  },
  {
   "cell_type": "markdown",
   "id": "political-preference",
   "metadata": {},
   "source": [
    "# End of Lesson 3"
   ]
  },
  {
   "cell_type": "markdown",
   "id": "delayed-album",
   "metadata": {},
   "source": [
    "Refrences:\n",
    "- python with data analysis book.\n",
    "- James topor notes.\n",
    "- https://pynative.com/python-if-else-and-for-loop-exercise-with-solutions/\n",
    "- https://www.w3schools.com/python/gloss_python_for_nested.asp\n",
    "- https://holypython.com/intermediate-python-exercises/exercise-9-python-while-loop/\n",
    "- https://holypython.com/intermediate-python-exercises/exercise-9-python-while-loop/"
   ]
  },
  {
   "cell_type": "markdown",
   "id": "canadian-filename",
   "metadata": {},
   "source": [
    "# Dictionary [Hashmap] -> dict\n",
    "\n",
    "Dict\n",
    "<p> dict is likely the most important built-in Python data structure. A more common name for it is hash map or associative array. It is a flexibly-sized collection of key-value pairs, where key and value are Python objects. One way to create one is by using curly braces {} and using colons to separate keys and values: </p>"
   ]
  },
  {
   "cell_type": "markdown",
   "id": "ongoing-registrar",
   "metadata": {},
   "source": [
    "## How to create a dictionary (Hashmap)"
   ]
  },
  {
   "cell_type": "code",
   "execution_count": 2,
   "id": "acceptable-quest",
   "metadata": {},
   "outputs": [],
   "source": [
    "empty_dict = {} "
   ]
  },
  {
   "cell_type": "markdown",
   "id": "micro-fellow",
   "metadata": {},
   "source": [
    "### Examples :: Key - Value pair."
   ]
  },
  {
   "cell_type": "code",
   "execution_count": 3,
   "id": "designing-brick",
   "metadata": {},
   "outputs": [],
   "source": [
    "dic1 = {'joe' : 34, 'omar' : 25, 'Ali':56} # mapping"
   ]
  },
  {
   "cell_type": "code",
   "execution_count": 9,
   "id": "parallel-rescue",
   "metadata": {},
   "outputs": [],
   "source": [
    "dic2 = {'a' : 'some value', 'b' : [1, 2, 3, 4]}"
   ]
  },
  {
   "cell_type": "code",
   "execution_count": 12,
   "id": "unsigned-magic",
   "metadata": {},
   "outputs": [],
   "source": [
    "dic3 = {\"name\": 'Joey', \n",
    "        'age': 34, \n",
    "        'kids': [\"ali\", \"sasha\", \"lily\", \"adel\"]\n",
    "       }"
   ]
  },
  {
   "cell_type": "markdown",
   "id": "local-consciousness",
   "metadata": {},
   "source": [
    "### Getting the value."
   ]
  },
  {
   "cell_type": "code",
   "execution_count": 53,
   "id": "developing-correlation",
   "metadata": {},
   "outputs": [
    {
     "data": {
      "text/plain": [
       "34"
      ]
     },
     "execution_count": 53,
     "metadata": {},
     "output_type": "execute_result"
    }
   ],
   "source": [
    "dic1['joe']"
   ]
  },
  {
   "cell_type": "code",
   "execution_count": 54,
   "id": "curious-electronics",
   "metadata": {},
   "outputs": [
    {
     "data": {
      "text/plain": [
       "34"
      ]
     },
     "execution_count": 54,
     "metadata": {},
     "output_type": "execute_result"
    }
   ],
   "source": [
    "dic1.get('joe')"
   ]
  },
  {
   "cell_type": "markdown",
   "id": "protecting-samba",
   "metadata": {},
   "source": [
    "## You can check if there is `key` in the dictionary using `in` Keyword."
   ]
  },
  {
   "cell_type": "code",
   "execution_count": 13,
   "id": "limiting-township",
   "metadata": {},
   "outputs": [
    {
     "data": {
      "text/plain": [
       "True"
      ]
     },
     "execution_count": 13,
     "metadata": {},
     "output_type": "execute_result"
    }
   ],
   "source": [
    "'name' in dic3"
   ]
  },
  {
   "cell_type": "code",
   "execution_count": 14,
   "id": "stainless-indication",
   "metadata": {},
   "outputs": [
    {
     "data": {
      "text/plain": [
       "{'name': 'Joey', 'age': 34}"
      ]
     },
     "execution_count": 14,
     "metadata": {},
     "output_type": "execute_result"
    }
   ],
   "source": [
    "del dic3[\"kids\"]\n",
    "print(dic3)"
   ]
  },
  {
   "cell_type": "code",
   "execution_count": 15,
   "id": "polyphonic-duncan",
   "metadata": {},
   "outputs": [
    {
     "data": {
      "text/plain": [
       "dict_keys(['name', 'age'])"
      ]
     },
     "execution_count": 15,
     "metadata": {},
     "output_type": "execute_result"
    }
   ],
   "source": [
    "dic3.keys() "
   ]
  },
  {
   "cell_type": "code",
   "execution_count": 16,
   "id": "cubic-bernard",
   "metadata": {},
   "outputs": [
    {
     "data": {
      "text/plain": [
       "dict_values(['Joey', 34])"
      ]
     },
     "execution_count": 16,
     "metadata": {},
     "output_type": "execute_result"
    }
   ],
   "source": [
    "dic3.values() "
   ]
  },
  {
   "cell_type": "code",
   "execution_count": 17,
   "id": "statutory-nursing",
   "metadata": {},
   "outputs": [
    {
     "data": {
      "text/plain": [
       "{'name': 'Joey', 'age': 34, 'b': 'foo', 'c': 12}"
      ]
     },
     "execution_count": 17,
     "metadata": {},
     "output_type": "execute_result"
    }
   ],
   "source": [
    "dic3.update({'b' : 'foo', 'c' : 12})\n",
    "dic3"
   ]
  },
  {
   "cell_type": "code",
   "execution_count": null,
   "id": "international-criminal",
   "metadata": {},
   "outputs": [],
   "source": []
  },
  {
   "cell_type": "code",
   "execution_count": null,
   "id": "armed-england",
   "metadata": {},
   "outputs": [],
   "source": []
  },
  {
   "cell_type": "code",
   "execution_count": null,
   "id": "illegal-liquid",
   "metadata": {},
   "outputs": [],
   "source": []
  },
  {
   "cell_type": "code",
   "execution_count": null,
   "id": "collectible-cyprus",
   "metadata": {},
   "outputs": [],
   "source": []
  },
  {
   "cell_type": "code",
   "execution_count": null,
   "id": "minimal-ivory",
   "metadata": {},
   "outputs": [],
   "source": []
  }
 ],
 "metadata": {
  "kernelspec": {
   "display_name": "Python 3",
   "language": "python",
   "name": "python3"
  },
  "language_info": {
   "codemirror_mode": {
    "name": "ipython",
    "version": 3
   },
   "file_extension": ".py",
   "mimetype": "text/x-python",
   "name": "python",
   "nbconvert_exporter": "python",
   "pygments_lexer": "ipython3",
   "version": "3.8.3"
  }
 },
 "nbformat": 4,
 "nbformat_minor": 5
}
